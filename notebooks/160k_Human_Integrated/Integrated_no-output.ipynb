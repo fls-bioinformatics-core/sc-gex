{
 "cells": [
  {
   "cell_type": "markdown",
   "id": "524fbd0b",
   "metadata": {},
   "source": [
    "# Analysis of Single-cell Gene Expression Data <span style=\"font-size:20px\">(integration) v2.0.3</span>\n",
    "\n",
    "## Bioinformatics Core Facility, University of Manchester\n",
    "\n",
    "1. [Prepare workspace](#1---Prepare-workspace)\n",
    "2. [Import data](#2---Import-data)\n",
    "3. [Prepare data for integration](#3---Prepare-data-for-integration)\n",
    "4. [Data integration](#4---Data-integration)\n",
    "5. [Cell clustering](#5---Cell-clustering)\n",
    "6. [Expression of manually selected genes](#6---Expression-of-manually-selected-genes)\n",
    "7. [Define per-cluster cell types](#7---Define-per-cluster-cell-types)\n",
    "8. [Marker gene detection](#8---Marker-gene-detection)\n",
    "9. [DE analysis between conditions](#9---DE-analysis-between-conditions)\n",
    "10. [DE analysis between conditions in each cluster/cell type](#10---DE-analysis-between-conditions-in-each-cluster/cell-type)\n",
    "11. [Functional analysis using `enrichR`](#11---Functional-analysis-using-enrichR)\n",
    "\n",
    "<span style=\"font-size:12px; font-style:italic\">Workflow and Shiny App GitHub: https://github.com/fls-bioinformatics-core/sc-gex</span>"
   ]
  },
  {
   "cell_type": "markdown",
   "id": "f60c2c9f",
   "metadata": {},
   "source": [
    "# Project summary\n",
    "\n",
    "*Add experimental details here. For example:*\n",
    "\n",
    "<div class=\"alert alert-info\">\n",
    "    <b>Kidney and Lung DTCs Matched PBMC MultiPro® Human Discovery Panel</b> <a href =\"https://www.10xgenomics.com/datasets/160k_DTC_Matched_PBMC_MultiPro_Human_Discovery_Panel\">Link</a>\n",
    "    <br /><br />\n",
    "    DTCs and matched PBMCs were obtained from Discovery Life Sciences, including Stage I kidney cancer DTCs, Stage I kidney cancer matched PBMCs, Stage III kidney cancer DTCs, Stage III kidney cancer matched PBMCs, Stage III lung cancer DTCs, and Stage III lung cancer matched PBMCs. Control PBMCs were obtained from AllCells.\n",
    "    <br /><br />\n",
    "    Samples were prepared in accordance with the Cell Preparation Guide Handbook (CG00053) for Tips & Best Practices on handling and counting cells. Consult Cell Thawing Protocols for Single Cell Assays (CG000447) for guidance on thawing dissociated tumor cells.\n",
    "    <br /><br />\n",
    "    Antibody staining was performed as described in Intracellular Protein Labeling Protocol section of the Demonstrated Protocol Cell Surface & Intracellular Protein Labeling for GEM-X Flex Gene Expression (CG000781, Rev A) and Flex assay was performed as described in the GEM-X Flex Gene Expression Reagent Kits for Multiplexed Samples with Feature Barcode technology for Protein using Barcode Oligo Capture User Guide (CG000789). Libraries were sequenced on an Illumina NovaSeq 6000 with approximately 40,000 paired end reads/cell for Gene Expression and 20,000 paired end reads/cell for Feature Barcode libraries.\n",
    "    <br /><br />\n",
    "    Dual indexing libraries were sequenced with the following scheme:\n",
    "    <ul>\n",
    "        <li>28 cycles Read 1</li>\n",
    "        <li>10 cycles i7</li>\n",
    "        <li>10 cycles i5</li>\n",
    "        <li>90 cycles Read 2</li>\n",
    "    </ul>\n",
    "</div>\n",
    "\n",
    "## Sample summary\n",
    "\n",
    "<a href=\"#Show-run-info\">See below</a>."
   ]
  },
  {
   "cell_type": "markdown",
   "id": "719d9c8e",
   "metadata": {},
   "source": [
    "# 1 - Prepare workspace\n",
    "\n",
    "**Tested on R version 4.4 and Bioconductor version 3.20**\n",
    "\n",
    "- Set sample names and paths to the directories where the HDF5-based object were saved\n",
    "- Load R libraries\n",
    "- Set up colour palettes\n",
    "\n",
    "## Define sample names and HDF5 paths"
   ]
  },
  {
   "cell_type": "code",
   "execution_count": null,
   "id": "cebbace5",
   "metadata": {},
   "outputs": [],
   "source": [
    "# Set sample name\n",
    "sample_names <- c(\"Control1\",\n",
    "                  \"KidneyCancer\",\n",
    "                  \"LungCancer\")\n",
    "\n",
    "# Set the paths to the directories where the HDF5-based object were saved, in the same order as sample names\n",
    "h5_files <- c(\"../160k_Human_Control1_PBMC/Control1_h5_sce\", \n",
    "              \"../160k_Human_Kidney_Cancer_PBMC/KidneyCancer_h5_sce\",\n",
    "              \"../160k_Human_Lung_Cancer_PBMC/LungCancer_h5_sce\")\n",
    "\n",
    "# Show info\n",
    "h5_df <- data.frame(Sample = sample_names, Type = \"Processed SingleCellExperiment\", HDF5 = h5_files)\n",
    "h5_df$Sample <- factor(h5_df$Sample, levels = sample_names)\n",
    "h5_df"
   ]
  },
  {
   "cell_type": "markdown",
   "id": "75b28af9",
   "metadata": {},
   "source": [
    "## Load libraries\n",
    "\n",
    "The required R packages are listed below. This workflow has been tested on **R version 4.4 (Bioconductor version 3.20)** and latest versions of the packages supported in this R environment (see <a href=#Session-Info>Session Info</a>).  \n",
    "\n",
    "Commented line below are packages that are required but we are not loading and attaching them.\n",
    "\n",
    "<div class=\"alert alert-info\">\n",
    "    The <strong>scRUtils</strong> R package is current available only on <a href=\"https://github.com/ycl6/scRUtils\" target=\"_blank\">GitHub</a>. It can be installed using <code>devtools::install_github(\"ycl6/scRUtils\")</code>.\n",
    "</div>"
   ]
  },
  {
   "cell_type": "code",
   "execution_count": null,
   "id": "a741d714",
   "metadata": {},
   "outputs": [],
   "source": [
    "suppressPackageStartupMessages({\n",
    "    # R-4.4.3\n",
    "    library(batchelor)     # Single-cell batch correction methods\n",
    "    library(BiocNeighbors) # AnnoyParam\n",
    "    library(BiocParallel)  # MulticoreParam\n",
    "    library(bluster)       # clusterRows, NNGraphParam, mergeCommunities\n",
    "    library(cowplot)       # plotColData, plotRowData, plot_grid\n",
    "    library(DESeq2)\n",
    "    library(edgeR)\n",
    "    library(enrichR)\n",
    "    library(ggforce)       # gather_set_data, geom_parallel_sets*\n",
    "    library(ggplot2)\n",
    "    library(pheatmap)\n",
    "    library(scales)\n",
    "    library(scater)\n",
    "    library(scran)\n",
    "    library(viridis)       # scale_color_viridis\n",
    "\n",
    "#    Access the exact function with \"::\" without load and attach package\n",
    "#    library(BiocSingular)  # RandomParam & IrlbaParam\n",
    "#    library(dplyr)         # select\n",
    "#    library(ggplotify)     # as.ggplot\n",
    "#    library(gtools)        # mixedsort\n",
    "#    library(HDF5Array)     # loadHDF5SummarizedExperiment, saveHDF5SummarizedExperiment\n",
    "#    library(igraph)        # cut_at\n",
    "#    library(limma)         # vennDiagram, plotMDS\n",
    "#    library(pals)          # cols25\n",
    "#    library(RColorBrewer)  # brewer.pal\n",
    "#    library(stringi)       # stri_join_list\n",
    "#    library(stringr)       # str_to_title\n",
    "\n",
    "    library(scRUtils)       # with customised functions\n",
    "    library(tidyverse)\n",
    "})"
   ]
  },
  {
   "cell_type": "markdown",
   "id": "55812e5a",
   "metadata": {},
   "source": [
    "## Set default options"
   ]
  },
  {
   "cell_type": "code",
   "execution_count": null,
   "id": "691d9e0e",
   "metadata": {},
   "outputs": [],
   "source": [
    "# Set output window width\n",
    "options(width = 110) # default 80; getOption(\"width\")\n",
    "\n",
    "# Set figure size; width = 10, height = 7, res = 120\n",
    "fig()"
   ]
  },
  {
   "cell_type": "markdown",
   "id": "1f55d686",
   "metadata": {},
   "source": [
    "Choose a `BiocParallel` Interface:\n",
    "- **SerialParam**: Supported on all platforms. Evaluate BiocParallel-enabled code with parallel evaluation disabled.\n",
    "- **MulticoreParam**: Supported on Unix and Mac. Evaluate BiocParallel-enabled code using multiple cores on a single computer.\n",
    "- **SnowParam**: Supported on all platforms. Evaluate BiocParallel-enabled code across several distinct instances, on one or several computers.\n",
    "- **BatchtoolsParam**: Applicable to clusters with formal schedulers. Evaluate BiocParallel-enabled code by submitting to a cluster scheduler like SGE.\n",
    "\n",
    "<div class=\"alert alert-info\">\n",
    "    HDF5-based arrays only allow serial reading within a process. Therefore, some of the processing steps in this workflow are using <code>dgCMatrix</code> class matrices to improve performance, while keeping the assays in the <code>SingleCellExperiment</code> object in <code>DelayedMatrix</code> class.\n",
    "</div>"
   ]
  },
  {
   "cell_type": "code",
   "execution_count": null,
   "id": "7f23a2ce",
   "metadata": {},
   "outputs": [],
   "source": [
    "# Set number of threads for parallelisation\n",
    "nthreads <- 8\n",
    "\n",
    "# Choose BiocParallel Interface\n",
    "bpp <- MulticoreParam(nthreads)"
   ]
  },
  {
   "cell_type": "code",
   "execution_count": null,
   "id": "f967656a",
   "metadata": {},
   "outputs": [],
   "source": [
    "# Initialise c30() and c40() palettes\n",
    "c30 <- c30()\n",
    "c40 <- c40()\n",
    "\n",
    "fig(width = 14, height = 7)\n",
    "par(mfrow = c(1,2), mar=c(0,0,1,0))\n",
    "pie(rep(1,30), col = c30, radius = 1.5, main = \"c30\")\n",
    "pie(rep(1,40), col = c40, radius = 1.5, main = \"c40\")\n",
    "reset.fig()"
   ]
  },
  {
   "cell_type": "code",
   "execution_count": null,
   "id": "cb48677d",
   "metadata": {},
   "outputs": [],
   "source": [
    "# Set colours for samples\n",
    "c_sample_col <- choosePalette(h5_df$Sample, c30[11:13])\n",
    "c_sample_col\n",
    "\n",
    "# Set colours for cell cycle phases\n",
    "c_phase_col <- setNames(c30[c(20, 3, 9)], c(\"G1\", \"S\", \"G2M\"))\n",
    "c_phase_col\n",
    "\n",
    "# Set colours for heatmaps\n",
    "breaks <- seq(-3, 3, by = 0.05) # 121 breaks\n",
    "c_heatmap_col1 <- plasma(length(breaks), direction = -1) # logcounts\n",
    "c_heatmap_col2 <- colorRampPalette(rev(RColorBrewer::brewer.pal(11, \"RdYlBu\")))(length(breaks)) # scaled/z-score"
   ]
  },
  {
   "cell_type": "markdown",
   "id": "443f17ff",
   "metadata": {},
   "source": [
    "# 2 - Import data\n",
    "\n",
    "## Load HDF5 objects\n",
    "\n",
    "Here, we use the `loadHDF5SummarizedExperiment` function from the `HDF5Array` R package to import HDF5 files."
   ]
  },
  {
   "cell_type": "code",
   "execution_count": null,
   "id": "64f0f01b",
   "metadata": {},
   "outputs": [],
   "source": [
    "all.sce <- list()\n",
    "barcodes <- data.frame(Sample = NULL, Barcodes = NULL)\n",
    "for(i in 1:length(h5_df$Sample)) {\n",
    "    sample_name <- as.character(h5_df$Sample[i])\n",
    "    message(paste(\"Read HDF5 files:\", sample_name))\n",
    "    sce <- HDF5Array::loadHDF5SummarizedExperiment(h5_df$HDF5[i])\n",
    "    levels(sce$Sample) <- sample_name\n",
    "\n",
    "    # Add Sample ID to Barcode as prefix to make cell barcodes unique\n",
    "    colnames(sce) <- paste0(sce$Sample, \"_\", sce$Barcode)\n",
    "    sce$Barcode <- colnames(sce)\n",
    "\n",
    "    print(sce)\n",
    "    flush.console()\n",
    "\n",
    "    all.sce[[sample_name]] <- sce\n",
    "}"
   ]
  },
  {
   "cell_type": "markdown",
   "id": "d5fabd53",
   "metadata": {},
   "source": [
    "## Show run info"
   ]
  },
  {
   "cell_type": "code",
   "execution_count": null,
   "id": "413aa2a7",
   "metadata": {},
   "outputs": [],
   "source": [
    "rI <- metadata(all.sce[[1]])[[\"runInfo\"]]\n",
    "df1 <- data.frame(matrix(ncol = length(rI[[1]]), nrow = 0))\n",
    "df2 <- data.frame(matrix(ncol = length(rI[[2]]), nrow = 0))\n",
    "\n",
    "for(i in 1:length(all.sce))\n",
    "{\n",
    "    rI <- metadata(all.sce[[i]])[[\"runInfo\"]]\n",
    "    df1 <- rbind(df1, as.data.frame(t(matrix(rI[[1]]))))\n",
    "    df2 <- rbind(df2, as.data.frame(t(matrix(rI[[2]]))))\n",
    "}\n",
    "colnames(df1) <- names(rI[[1]])\n",
    "colnames(df2) <- names(rI[[2]])\n",
    "df2 <- cbind(df1[, 1, drop = FALSE], df2) # Add Sample ID\n",
    "\n",
    "# Add runInfo\n",
    "runInfo <- list(\"Sample\" = df1, \"Data\" = df2)\n",
    "\n",
    "if (suppressPackageStartupMessages(requireNamespace(\"kableExtra\")) && requireNamespace(\"IRdisplay\")) {\n",
    "    suppressPackageStartupMessages(library(kableExtra))\n",
    "    df1 %>% kable(\"html\") %>% kable_styling(font_size = 12, position = \"left\", full_width = FALSE) %>% \n",
    "    column_spec(1:ncol(df1), extra_css = \"vertical-align: middle !important;\") %>%\n",
    "    add_header_above(c(\"Single-cell Sample Summary\" = ncol(df1)), bold = TRUE, background = \"blue\", \n",
    "                     color = \"white\") %>% as.character() %>% IRdisplay::display_html()\n",
    "    \n",
    "    df2 %>% kable(\"html\") %>% kable_styling(font_size = 12, position = \"left\", full_width = FALSE) %>% \n",
    "    column_spec(1:ncol(df2), extra_css = 'vertical-align: middle !important;') %>%\n",
    "    add_header_above(c(\"Data Processing Summary\" = ncol(df2)), bold = TRUE, background = \"blue\", \n",
    "                     color = \"white\") %>% as.character() %>% IRdisplay::display_html()    \n",
    "} else {\n",
    "    message(\"Single-cell Sample Summary\")\n",
    "    data.frame(df1)\n",
    "    message(\"Data Processing Summary\")\n",
    "    data.frame(df2)\n",
    "}"
   ]
  },
  {
   "cell_type": "markdown",
   "id": "edc30de3",
   "metadata": {},
   "source": [
    "## Visualising with t-SNE and UMAP"
   ]
  },
  {
   "cell_type": "code",
   "execution_count": null,
   "id": "7fc625bb",
   "metadata": {},
   "outputs": [],
   "source": [
    "p <- list()\n",
    "for(i in 1:length(all.sce)) {\n",
    "    p[[i]] <- plotProjections(all.sce[[i]], \"Sample\", dimnames = c(\"TSNE\", \"UMAP\"), point_alpha = 0.01, \n",
    "                              feat_color = c_sample_col, text_by = \"label\", text_size = 7, \n",
    "                              legend_pos = \"none\", show_subtitle = FALSE, theme_size = 14, \n",
    "                              titles = sprintf(\"%s (%s)\", names(all.sce[i]), c(\"TSNE\",\"UMAP\")))\n",
    "}\n",
    "\n",
    "fig(width = 16, height = 8)\n",
    "plot_grid(plotlist = p, ncol = 2, align = \"h\")\n",
    "reset.fig()"
   ]
  },
  {
   "cell_type": "markdown",
   "id": "f5039a5a",
   "metadata": {},
   "source": [
    "# 3 - Prepare data for integration\n",
    "\n",
    "## Find common genes\n",
    "\n",
    "Reduce the genes in each dataset to those common genes only"
   ]
  },
  {
   "cell_type": "code",
   "execution_count": null,
   "id": "3fa734a2",
   "metadata": {},
   "outputs": [],
   "source": [
    "universe1 <- Reduce(intersect, lapply(all.sce, rownames))\n",
    "print(paste(\"Common genes:\", length(universe1)))\n",
    "\n",
    "all.common <- list()\n",
    "for(i in 1:length(all.sce)) {\n",
    "    all.common[[names(all.sce)[i]]] <- all.sce[[i]][match(universe1, rownames(all.sce[[i]])),]\n",
    "}\n",
    "all.common"
   ]
  },
  {
   "cell_type": "markdown",
   "id": "0255e60b",
   "metadata": {},
   "source": [
    "## Organise data structure\n",
    "\n",
    "Make all `sce` objects have identical `rowData` and `colData` column names and order.\n",
    "\n",
    "<div class=\"alert alert-warning\">\n",
    "    <strong>Warning!</strong> You may add more columns to show additional features in the integrated object if the columns are present in <u>all the samples</u>.\n",
    "</div>"
   ]
  },
  {
   "cell_type": "code",
   "execution_count": null,
   "id": "d05faa77",
   "metadata": {},
   "outputs": [],
   "source": [
    "# Select rowData columns to keep\n",
    "rowData_colnames <- c(\"ID\",\"Symbol\",\"Type\",\"SEQNAME\",\"is_mito\")\n",
    "\n",
    "# Select colData columns to keep\n",
    "# Add 'coarse_cell_type' and 'fine_cell_type' if using Cell Ranger's Cell Annotation prediction\n",
    "colData_colnames <- c(\"Sample\",\"Barcode\",\"sum\",\"detected\",\"subsets_Mt_percent\",\"log10Sum\",\"sizeFactor\",\"CellCycle\",\n",
    "                      #\"coarse_cell_type\",\"fine_cell_type\",\n",
    "                      \"CellType\",\"label\")\n",
    "\n",
    "# Make all sce have identical rowData and colData column names and order\n",
    "for(i in 1:length(all.common)) {\n",
    "    rowData(all.common[[i]]) <- rowData(all.common[[i]])[, rowData_colnames]\n",
    "    colData(all.common[[i]]) <- colData(all.common[[i]])[, colData_colnames]\n",
    "\n",
    "    # Clear old reducedDims\n",
    "    reducedDims(all.common[[i]]) <- list()\n",
    "}"
   ]
  },
  {
   "cell_type": "code",
   "execution_count": null,
   "id": "3db0388c",
   "metadata": {},
   "outputs": [],
   "source": [
    "all.common"
   ]
  },
  {
   "cell_type": "markdown",
   "id": "be58a85b",
   "metadata": {},
   "source": [
    "## Recomputes log-normalized expression values\n",
    "\n",
    "The `multiBatchNorm` function recomputes log-normalized expression values (using `logNormCounts`) after adjusting the size factors for systematic differences in coverage between `SingleCellExperiment` objects."
   ]
  },
  {
   "cell_type": "code",
   "execution_count": null,
   "id": "5a6c72d6",
   "metadata": {},
   "outputs": [],
   "source": [
    "set.seed(12345)\n",
    "all.common.normed <- do.call(multiBatchNorm, all.common)\n",
    "all.common.normed"
   ]
  },
  {
   "cell_type": "code",
   "execution_count": null,
   "id": "12cdac97",
   "metadata": {},
   "outputs": [],
   "source": [
    "p <- list()\n",
    "for(i in 1:length(all.common)) {\n",
    "    p[[i]] <- ggplot(data.frame(Original = all.common[[i]]$sizeFactor, Normed = all.common.normed[[i]]$sizeFactor),\n",
    "                     aes(x = Original, y = Normed)) + geom_point(size = 0.5) + \n",
    "    geom_abline(intercept = 0, slope = 1, color = \"red\", linetype = 2, linewidth = 1) +\n",
    "    theme_bw(base_size = 16) + ggtitle(paste(names(all.common[i]), \"sf\"))\n",
    "}\n",
    "\n",
    "fig(width = 16, height = 4)\n",
    "plot_grid(plotlist = p, ncol = 4, align = \"h\")\n",
    "reset.fig()"
   ]
  },
  {
   "cell_type": "markdown",
   "id": "068b7770",
   "metadata": {},
   "source": [
    "Create `dgCMatrix` counts and logcounts matrices for faster computation in some steps."
   ]
  },
  {
   "cell_type": "code",
   "execution_count": null,
   "id": "05d47f7b",
   "metadata": {},
   "outputs": [],
   "source": [
    "normed_c <- list()\n",
    "normed_l <- list()\n",
    "\n",
    "for(i in names(all.common.normed)) {\n",
    "    normed_c[[i]] <-  as(counts(all.common.normed[[i]], withDimnames = TRUE), \"dgCMatrix\")\n",
    "    normed_l[[i]] <-  as(logcounts(all.common.normed[[i]], withDimnames = TRUE), \"dgCMatrix\")\n",
    "}"
   ]
  },
  {
   "cell_type": "markdown",
   "id": "eda64e42",
   "metadata": {},
   "source": [
    "## Identifying highly variable genes (HVGs)\n",
    "\n",
    "Identifying HVG based on common genes using re-normalised `SingleCellExperiment` objects.\n",
    "\n",
    "### Quantifying per-gene variation\n",
    "\n",
    "Choose to model the variance of the log-expression profiles for each gene (`modelGeneVar`) or model the per-gene count variance with Poisson noise (`modelGeneVarByPoisson`)."
   ]
  },
  {
   "cell_type": "code",
   "execution_count": null,
   "id": "28bb17ab",
   "metadata": {},
   "outputs": [],
   "source": [
    "# Choose variance modelling method to use\n",
    "hvg_model <- \"modelGeneVarByPoisson\" # Or modelGeneVar\n",
    "all.var <- list()\n",
    "\n",
    "message(paste0(\"Using '\", hvg_model, \"' method\"))\n",
    "\n",
    "for(i in names(all.common.normed)) {\n",
    "    to_keep <- TRUE # Include all genes\n",
    "    # Optional\n",
    "    # Not is_mito and not ribosomal protein-coding genes (Human & Mouse)\n",
    "    #to_keep <- !rowData(all.common.normed[[i]])$is_mito & \n",
    "    #            !grepl(\"^RPL|^RPS|^Rpl|^Rps\", rownames(all.common.normed[[i]]))\n",
    "    \n",
    "    if(hvg_model == \"modelGeneVar\") {\n",
    "        set.seed(12345)\n",
    "        all.var[[i]] <- modelGeneVarByPoisson(normed_l[[i]][to_keep,], BPPARAM = bpp)\n",
    "    } else {\n",
    "        set.seed(12345)\n",
    "        all.var[[i]] <- modelGeneVarByPoisson(normed_c[[i]][to_keep,], \n",
    "                                              size.factors = sizeFactors(all.common.normed[[i]]), BPPARAM = bpp)\n",
    "    }\n",
    "}\n",
    "\n",
    "# Print DataFrame\n",
    "for(i in 1:length(all.common.normed)) {\n",
    "    print(paste0(names(all.common.normed)[i], \":\"))\n",
    "    all.var[[i]] %>% as.data.frame %>% arrange(FDR, desc(bio)) %>% dplyr::select(1:6) %>% DataFrame %>% print\n",
    "}"
   ]
  },
  {
   "cell_type": "markdown",
   "id": "c1ed7606",
   "metadata": {},
   "source": [
    "### Selecting HVGs\n",
    "\n",
    "We perform feature selection by averaging the variance components across all batches with the `combineVar` function. We compute the average as it is responsive to batch-specific HVGs while still preserving the within-batch ranking of genes. In contrast, approaches based on taking the **intersection** or **union** of HVGs across batches become increasingly conservative or liberal, respectively, with an increasing number of batches."
   ]
  },
  {
   "cell_type": "code",
   "execution_count": null,
   "id": "c048537b",
   "metadata": {},
   "outputs": [],
   "source": [
    "# Select the top N genes with the highest biological components\n",
    "#hvg_genes <- Reduce(intersect, lapply(all.var, getTopHVGs, n = 5000, var.field = \"bio\", var.threshold = 0))\n",
    "\n",
    "# Select the top N% genes with the highest biological components\n",
    "#hvg_genes <- Reduce(intersect, lapply(all.var, getTopHVGs, prop = 0.20, var.field = \"bio\", var.threshold = 0))"
   ]
  },
  {
   "cell_type": "markdown",
   "id": "68ea753c",
   "metadata": {},
   "source": [
    "When integrating datasets of variable composition, it is generally safer to err on the side of **including more genes** than are used in a single dataset analysis, to ensure that markers are retained for any dataset-specific subpopulations that might be present. "
   ]
  },
  {
   "cell_type": "code",
   "execution_count": null,
   "id": "af858fe6",
   "metadata": {},
   "outputs": [],
   "source": [
    "combined.var <- do.call(combineVar, all.var)\n",
    "\n",
    "# Select the top N genes with the highest biological components\n",
    "hvg_genes <- getTopHVGs(combined.var, n = 3500, var.field = \"bio\", var.threshold = 0)\n",
    "\n",
    "# Select genes with positive average biological components\n",
    "#hvg_genes <- rownames(combined.var)[combined.var$bio > 0]\n",
    "\n",
    "# Select the top N% genes with the highest biological components\n",
    "#hvg_genes <- getTopHVGs(combined.var, prop = 0.20, var.field = \"bio\", var.threshold = 0)"
   ]
  },
  {
   "cell_type": "code",
   "execution_count": null,
   "id": "d4562433",
   "metadata": {},
   "outputs": [],
   "source": [
    "message(sprintf(\"Top %d HVGs selected (%s):\", length(hvg_genes), hvg_model))\n",
    "head(hvg_genes, 20)"
   ]
  },
  {
   "cell_type": "markdown",
   "id": "80ad1508",
   "metadata": {},
   "source": [
    "<div class=\"alert alert-info\">\n",
    "    <strong>Tip!</strong> In the accompanied Shiny App, top N HVGs are used as example genes in multi-gene expression visualisation.\n",
    "</div>"
   ]
  },
  {
   "cell_type": "code",
   "execution_count": null,
   "id": "db3d3468",
   "metadata": {},
   "outputs": [],
   "source": [
    "# Add to runInfo\n",
    "runInfo <- c(runInfo, list(\n",
    "    \"HVG\" = list(\n",
    "        \"Method\" = hvg_model, \n",
    "        \"Estimates\" = combined.var, \n",
    "        \"Genes\" = hvg_genes)\n",
    "    )\n",
    ")"
   ]
  },
  {
   "cell_type": "markdown",
   "id": "005e9422",
   "metadata": {},
   "source": [
    "# 4 - Data integration\n",
    "\n",
    "Large single-cell RNA sequencing (scRNA-seq) projects usually need to generate data across multiple batches due to logistical constraints. However, the processing of different batches is often subject to uncontrollable differences, and results in systematic differences in the observed expression in cells from different batches. We also often observe a strong donor effect in integrated datasets. This might be due to differences in cell type composition between donors, but the more likely explanation is that of a technical difference in sample preparation processing or uninteresting genotypic differences.\n",
    "\n",
    "Computational correction of batch effects is critical for eliminating batch-to-batch variation, allowing data across multiple batches to be combined for common downstream analysis. See [OSCA reference](https://bioconductor.org/books/3.20/OSCA.multisample/integrating-datasets.html)\n",
    "\n",
    "## Diagnosing batch effects\n",
    "\n",
    "Before performing any correction, we check that there actually is a batch effect across these datasets by checking that they cluster separately.\n",
    "\n",
    "### Create a single `SingleCellExperiment` object\n",
    "\n",
    " Here, we use the `cbind` function to combine `SingleCellExperiment` objects in the list without applying any correction, and we informally verify that cells from different batches are separated using a t-SNE plot.\n",
    "\n",
    "It is also possible to combine `SingleCellExperiment` objects with the `correctExperiments` function, and without applying any correction using the `NoCorrectParam` flag. However, data stored in `metadata` and `altExps` is not retained.\n",
    "\n",
    "<div class=\"alert alert-warning\">\n",
    "    <strong>Warning!</strong>\n",
    "    <br />\n",
    "    If it takes longer than 1 minute for the merging to complete, it means there is a problem with <code>cbind()</code> concerning the columns in either <code>rowData()</code> and/or <code>colData()</code>. Interrupt the kernel and check for consistency of the columns of the objects stored in <code>all.common.normed</code>. Alternatively, use <code>correctExperiments()</code> to merge data and it'll throw out warning messages if there's a problem with the data structure.\n",
    "</div>"
   ]
  },
  {
   "cell_type": "code",
   "execution_count": null,
   "id": "dd03526c",
   "metadata": {},
   "outputs": [],
   "source": [
    "#set.seed(12345)\n",
    "#combined <- correctExperiments(all.common.normed, PARAM = NoCorrectParam())\n",
    "# Use `cbind` to combine SingleCellExperiment to retain \"metadata\" and altExps\"\n",
    "combined <- do.call(cbind, all.common.normed)\n",
    "\n",
    "# Sort meta data\n",
    "combined$Sample <- factor(combined$Sample, levels = gtools::mixedsort(levels(combined$Sample)))\n",
    "combined$CellType <- factor(combined$CellType, levels = gtools::mixedsort(levels(combined$CellType)))\n",
    "\n",
    "# Remove \"merged\" matrix in the assays slot, as it is identical to the \"logcounts\" matrix\n",
    "assay(combined, \"merged\") <- NULL\n",
    "combined"
   ]
  },
  {
   "cell_type": "markdown",
   "id": "92a68de9",
   "metadata": {},
   "source": [
    "Fix duplicate `metadata` names after combining datasets"
   ]
  },
  {
   "cell_type": "code",
   "execution_count": null,
   "id": "c2fc462b",
   "metadata": {},
   "outputs": [],
   "source": [
    "# If metadata in single-sample data is identical\n",
    "if(length(metadata(combined)) %% length(names(all.common.normed)) == 0) {\n",
    "    n_meta <- length(metadata(combined)) / length(names(all.common.normed))\n",
    "    for(i in 1:length(names(all.common.normed))) {\n",
    "        name <- names(all.common.normed)[i]\n",
    "#        print(name)\n",
    "        to <- i * n_meta\n",
    "        from <- to - n_meta + 1\n",
    "        names(metadata(combined))[from:to] <- paste0(name, \"_\", names(metadata(combined))[from:to])\n",
    "    }\n",
    "} else {\n",
    "    stop(\"Not fixed automatically!\")\n",
    "}"
   ]
  },
  {
   "cell_type": "code",
   "execution_count": null,
   "id": "da13e2f2",
   "metadata": {},
   "outputs": [],
   "source": [
    "# Set colours for cell types\n",
    "c_celltype_col <- choosePalette(combined$CellType, c40)\n",
    "#c_celltype_col"
   ]
  },
  {
   "cell_type": "code",
   "execution_count": null,
   "id": "df005f35",
   "metadata": {},
   "outputs": [],
   "source": [
    "# Add HVG to rowData\n",
    "rowData(combined)$is_hvg <- FALSE\n",
    "rowData(combined)[rownames(combined) %in% hvg_genes,]$is_hvg <- TRUE\n",
    "table(\"Is HVG\" = rowData(combined)$is_hvg)"
   ]
  },
  {
   "cell_type": "markdown",
   "id": "2ae7941c",
   "metadata": {},
   "source": [
    "### Add additional variables that describes the samples  to `colData`\n",
    "\n",
    "<div class=\"alert alert-warning\">\n",
    "    <strong>Warning!</strong> Need to add additional information about your samples here.\n",
    "</div>"
   ]
  },
  {
   "cell_type": "code",
   "execution_count": null,
   "id": "e2970b75",
   "metadata": {},
   "outputs": [],
   "source": [
    "combined$condition <- combined$Sample\n",
    "levels(combined$condition) <- c(\"Control\",\"Cancer\",\"Cancer\",\"Cancer\")\n",
    "\n",
    "# Set colours for condition\n",
    "c_cond_col <- setNames(c(\"cyan\", \"magenta\"), c(\"Control\", \"Cancer\"))\n",
    "c_cond_col"
   ]
  },
  {
   "cell_type": "markdown",
   "id": "0fd8a1e8",
   "metadata": {},
   "source": [
    "### Run `multiBatchPCA` on the *uncorrected* `logcounts` matrix\n",
    "\n",
    "The `multiBatchPCA` function perform a principal components analysis across multiple gene expression matrices (i.e. batches) to project all cells to a common low-dimensional space. Default to `d = 50` dimensions.\n",
    "\n",
    "**weights**: A numeric vector, logical scalar or list specifying the weighting scheme to use. See `?multiBatchPCA` for more details."
   ]
  },
  {
   "cell_type": "code",
   "execution_count": null,
   "id": "afa599f2",
   "metadata": {},
   "outputs": [],
   "source": [
    "set.seed(12345)\n",
    "\n",
    "# Use Randomized SVD algorithm, faster for file-backed matrices\n",
    "#pca <- multiBatchPCA(normed_l, subset.row = hvg_genes, get.variance = TRUE, \n",
    "#                     weights = rep(1, length(normed_l)), \n",
    "#                     BSPARAM = BiocSingular::RandomParam(), BPPARAM = bpp)\n",
    "\n",
    "# Use IRLBA algorithm, default behavior is more accurate\n",
    "pca <- multiBatchPCA(normed_l, subset.row = hvg_genes, get.variance = TRUE, \n",
    "                     #weights = rep(1, length(normed_l)), \n",
    "                     BSPARAM = BiocSingular::IrlbaParam(), BPPARAM = bpp)"
   ]
  },
  {
   "cell_type": "code",
   "execution_count": null,
   "id": "c4747ee0",
   "metadata": {},
   "outputs": [],
   "source": [
    "# Re-construct pca object and attributes\n",
    "rotation <- metadata(pca)$rotation\n",
    "colnames(rotation) <- paste0(\"PC\", seq_len(ncol(rotation)))\n",
    "varExplained <- metadata(pca)$var.explained\n",
    "percentVar <- varExplained/metadata(pca)$var.total*100\n",
    "\n",
    "pca <- unlist(pca, use.names = FALSE)\n",
    "colnames(pca) <- paste0(\"PC\", seq_len(ncol(pca)))\n",
    "attr(pca, \"varExplained\") <- varExplained\n",
    "attr(pca, \"percentVar\") <- percentVar\n",
    "attr(pca, \"rotation\") <- rotation\n",
    "str(pca)\n",
    "\n",
    "# Store PCA results\n",
    "reducedDim(combined, \"PCA\") <- pca"
   ]
  },
  {
   "cell_type": "code",
   "execution_count": null,
   "id": "e1894bb9",
   "metadata": {},
   "outputs": [],
   "source": [
    "show <- 20 # Show first N PCs\n",
    "\n",
    "# Scree plot\n",
    "as.data.frame(percentVar) %>% rownames_to_column(\"PC\") %>% mutate(PC = as.numeric(PC)) %>% head(show) %>%\n",
    "    ggplot(aes(x = PC, y = percentVar)) + geom_point(size = 3) +\n",
    "    scale_x_continuous(breaks = seq(0, 50, by = 5)) + theme_cowplot(20) + \n",
    "    guides(color = guide_legend(title = \"Method\")) + theme(legend.position = \"top\") + \n",
    "    labs(x = \"PC\", y = \"Variance explained (%)\")"
   ]
  },
  {
   "cell_type": "markdown",
   "id": "0293c8c9",
   "metadata": {},
   "source": [
    "### Run `runTSNE` and `runUMAP` to find low-dimensional representations of the *uncorrected* data\n",
    "\n",
    "For `n_dimred`, better to include more PCs in integrated dataset than that used in a single dataset analysis. The default is 50, i.e. all dimensions."
   ]
  },
  {
   "cell_type": "code",
   "execution_count": null,
   "id": "bb3778e6",
   "metadata": {},
   "outputs": [],
   "source": [
    "set.seed(12345)\n",
    "combined <- runTSNE(combined, dimred = \"PCA\", name = \"TSNE\", n_dimred = 30, n_threads = nthreads, BPPARAM = bpp)"
   ]
  },
  {
   "cell_type": "code",
   "execution_count": null,
   "id": "3695f5bb",
   "metadata": {},
   "outputs": [],
   "source": [
    "set.seed(12345)\n",
    "combined <- runUMAP(combined, dimred = \"PCA\", name = \"UMAP\", n_dimred = 30,\n",
    "                    n_neighbors = 30, spread = 1, min_dist = 0.3, n_threads = nthreads, BPPARAM = bpp)"
   ]
  },
  {
   "cell_type": "code",
   "execution_count": null,
   "id": "a3edecd2",
   "metadata": {},
   "outputs": [],
   "source": [
    "# Added PCA, TSNE, UMAP reducedDims\n",
    "combined"
   ]
  },
  {
   "cell_type": "markdown",
   "id": "914670bf",
   "metadata": {},
   "source": [
    "### Visualise the *uncorrected* data in t-SNE and UMAP"
   ]
  },
  {
   "cell_type": "code",
   "execution_count": null,
   "id": "03408773",
   "metadata": {},
   "outputs": [],
   "source": [
    "fig(width = 16, height = 8)\n",
    "plotProjections(combined, \"Sample\", dimnames = c(\"TSNE\", \"UMAP\"), feat_desc = \"Sample\", \n",
    "                feat_color = c_sample_col, guides_size = 4, point_size = 0.1, point_alpha = 0.1,\n",
    "                legend_pos = \"bottom\", guides_nrow = 1, titles = c(\"TSNE, no correction\",\"UMAP, no correction\"))\n",
    "reset.fig()"
   ]
  },
  {
   "cell_type": "code",
   "execution_count": null,
   "id": "89c1c9a1",
   "metadata": {},
   "outputs": [],
   "source": [
    "fig(width = 16, height = 8)\n",
    "plotProjections(combined, \"CellType\", dimnames = c(\"TSNE\", \"UMAP\"), feat_desc = \"Cell Type\", \n",
    "                feat_color = c_celltype_col, guides_size = 4, point_size = 0.1, point_alpha = 0.1,\n",
    "                legend_pos = \"bottom\", guides_nrow = 1, titles = c(\"TSNE, no correction\",\"UMAP, no correction\"))\n",
    "reset.fig()"
   ]
  },
  {
   "cell_type": "markdown",
   "id": "0665b727",
   "metadata": {},
   "source": [
    "<div class=\"alert alert-info\">\n",
    "    <strong>About this dataset: </strong> (edits required)\n",
    "    <ul>\n",
    "        <li>Looks like the batch effect is very significant.</li>\n",
    "        <li>We will perform correction and see how the connected data looks like.</li>\n",
    "    </ul>\n",
    "</div>"
   ]
  },
  {
   "cell_type": "markdown",
   "id": "479e32e8",
   "metadata": {},
   "source": [
    "## Performing MNN correction\n",
    "\n",
    "We use a fast version of the mutual nearest neighbors (MNN) method, `fastMNN`, in the `batchelor` package to correct for batch effects in single-cell expression data. The batch correction functions in batchelor are organized into three levels:\n",
    "\n",
    "1. At the lowest level, we have the functions that implement a single type of correction, e.g., `fastMNN`.\n",
    "2. At the next level, we have the `batchCorrect` function that wraps the single-correction function into a common interface.\n",
    "3. At the highest level, we have the `correctExperiments` function that wraps the `batchCorrect` function.\n",
    "\n",
    "Here, we run the `batchCorrect` function with the `FastMnnParam` flag to apply the `fastMNN` correction. \n",
    "\n",
    "The `multiBatchPCA` function is called when applying `fastMNN` to perform a PCA across multiple batches to project all cells to a common low-dimensional space.\n",
    "\n",
    "### Controlling the merge order\n",
    "\n",
    "By default, batches are merged in the user-supplied order in the input `SingleCellExperiment` objects or list. The merge order may occasionally be important as it determines the number of MNN pairs available at each merge step. MNN pairs results in greater stability of the batch vectors and increased likelihood of identifying shared subpopulations, which are important to the precision and accuracy of the MNN-based correction, respectively. The order can be changed by setting the `merge.order` or `auto.merge` arguments. See `?fastMNN` for more details.\n",
    "\n",
    "**merge.order**: An integer vector containing the linear merge order of batches. Alternatively, a list of lists representing a tree structure specifying a hierarchical merge order. For example, a hierarchical merge to first merge together replicates with the same genotype, and then merge samples across different genotypes. See [Example](https://bioconductor.org/books/3.20/OSCA.multisample/chimeric-mouse-embryo-10x-genomics.html#merging)\n",
    "\n",
    "**auto.merge**: Use `auto.merge=TRUE` to instruct `fastMNN` automatically identify the “best” merge order (i.e. largest number of MNNs). The aim is to improve the stability of the correction by first merging more similar batches with more MNN pairs. This can be somewhat time-consuming as MNN pairs need to be iteratively recomputed for all possible batch pairings."
   ]
  },
  {
   "cell_type": "markdown",
   "id": "96450ebb",
   "metadata": {},
   "source": [
    "Option 1: Use below code to use `auto.merge = TRUE`."
   ]
  },
  {
   "cell_type": "code",
   "execution_count": null,
   "id": "69cb2834",
   "metadata": {},
   "outputs": [],
   "source": [
    "set.seed(12345)\n",
    "corrected <- batchCorrect(normed_l, subset.row = hvg_genes, \n",
    "                          PARAM = FastMnnParam(auto.merge = TRUE, \n",
    "                                               #weights = rep(1, length(normed_l)), # 1:1\n",
    "                                               # use Randomized SVD or IRLBA for PCA\n",
    "                                               #BSPARAM = BiocSingular::RandomParam(), # Use RandomParam\n",
    "                                               BSPARAM = BiocSingular::IrlbaParam(),   # Or IrlbaParam\n",
    "                                               BNPARAM = AnnoyParam(), BPPARAM = bpp))"
   ]
  },
  {
   "cell_type": "markdown",
   "id": "622fa95e",
   "metadata": {},
   "source": [
    "Option 2: Use below code and use `merge.order` to set the merge order if your choice."
   ]
  },
  {
   "cell_type": "code",
   "execution_count": null,
   "id": "4823b7bd",
   "metadata": {},
   "outputs": [],
   "source": [
    "#set.seed(12345)\n",
    "#corrected <- batchCorrect(normed_l, subset.row = hvg_genes, \n",
    "#                          PARAM = FastMnnParam(merge.order = list(1, list(2, 3)), \n",
    "#                                               weights = rep(1, length(normed_l)), # 1:1\n",
    "#                                               # use Randomized SVD or IRLBA for PCA\n",
    "#                                               #BSPARAM = BiocSingular::RandomParam(), # Use RandomParam\n",
    "#                                               BSPARAM = BiocSingular::IrlbaParam(),   # Or IrlbaParam\n",
    "#                                               BNPARAM = AnnoyParam(), BPPARAM = bpp))"
   ]
  },
  {
   "cell_type": "markdown",
   "id": "e393decc",
   "metadata": {},
   "source": [
    "The returned object contains:\n",
    "\n",
    "- A `batch` column in the `colData` slot, containing the batch of origin for each row (i.e., cell) in corrected.\n",
    "- A `rotation` column the `rowData` slot, containing the rotation matrix used for the PCA.\n",
    "- A `reconstructed` matrix in the `assays` slot, containing the low-rank reconstruction of the expression matrix. This can be interpreted as per-gene corrected log-expression values (after cosine normalization, if `cos.norm=TRUE` which is the default setting) but should not be used for quantitative analyses.\n",
    "- A `corrected` matrix in the `reducedDims` slot, containing corrected low-dimensional coordinates for each cell. \n",
    "\n",
    "Additionally, the metadata of the output object contains:\n",
    "\n",
    "- `merge.info`, a DataFrame of diagnostic information about each merge step.\n",
    "- `pca.info`, a list of metadata produced by `multiBatchPCA`, such as the variance explained when `get.variance=TRUE`."
   ]
  },
  {
   "cell_type": "code",
   "execution_count": null,
   "id": "fa40b819",
   "metadata": {},
   "outputs": [],
   "source": [
    "corrected"
   ]
  },
  {
   "cell_type": "markdown",
   "id": "6d07d902",
   "metadata": {},
   "source": [
    "### Check the proportion of variance lost\n",
    "\n",
    "For `fastMNN()`, one useful diagnostic is the proportion of variance within each batch that is lost during MNN correction. Specifically, this refers to the within-batch variance that is removed during orthogonalization with respect to the average correction vector at each merge step. This is returned via the `lost.var` field in the metadata of returned object, which contains a matrix of the variance lost in each batch (column) at each merge step (row).\n",
    "\n",
    "Large proportions of lost variance (>10%) suggest that correction is removing genuine biological heterogeneity. This would occur due to violations of the assumption of orthogonality between the batch effect and the biological subspace. If the proportion of lost variance is small, it indicates that non-orthogonality is not a major concern."
   ]
  },
  {
   "cell_type": "code",
   "execution_count": null,
   "id": "f2fda751",
   "metadata": {},
   "outputs": [],
   "source": [
    "metadata(corrected)$merge.info"
   ]
  },
  {
   "cell_type": "code",
   "execution_count": null,
   "id": "31e305a4",
   "metadata": {},
   "outputs": [],
   "source": [
    "data.frame(Order = 1:nrow(metadata(corrected)$merge.info),\n",
    "           Left = stringi::stri_join_list(as.list(metadata(corrected)$merge.info$left), sep = \", \"), \n",
    "           Right = stringi::stri_join_list(as.list(metadata(corrected)$merge.info$right)))"
   ]
  },
  {
   "cell_type": "code",
   "execution_count": null,
   "id": "8e5efa65",
   "metadata": {},
   "outputs": [],
   "source": [
    "metadata(corrected)$merge.info$lost.var"
   ]
  },
  {
   "cell_type": "markdown",
   "id": "b58539b3",
   "metadata": {},
   "source": [
    "## Save MNN results\n",
    "\n",
    "<div class=\"alert alert-warning\">\n",
    "    <strong>Warning!</strong> The <code>reconstructed</code> matrix in the <code>assays</code> slot contains the corrected expression values for each gene in each cell, obtained by projecting the low-dimensional coordinates in corrected back into gene expression space. <strong>It is not recommended using this for anything other than visualisation.</strong> Use of the corrected values in any quantitative procedure should be treated with caution, and should be backed up by similar results from an analysis on the uncorrected values. See <a href=\"https://bioconductor.org/books/3.20/OSCA.multisample/using-corrected-values.html\">OSCA reference</a>\n",
    "</div>"
   ]
  },
  {
   "cell_type": "code",
   "execution_count": null,
   "id": "8799de0b",
   "metadata": {},
   "outputs": [],
   "source": [
    "reducedDim(combined, \"MNN\") <- reducedDim(corrected, \"corrected\")\n",
    "combined"
   ]
  },
  {
   "cell_type": "markdown",
   "id": "56548058",
   "metadata": {},
   "source": [
    "## Visualising before & after MNN corrections with t-SNE"
   ]
  },
  {
   "cell_type": "code",
   "execution_count": null,
   "id": "c41153ef",
   "metadata": {},
   "outputs": [],
   "source": [
    "set.seed(12345)\n",
    "combined <- runTSNE(combined, dimred = \"MNN\", name = \"MNN-TSNE\", n_dimred = 30, \n",
    "                    n_threads = nthreads, BPPARAM = bpp)"
   ]
  },
  {
   "cell_type": "code",
   "execution_count": null,
   "id": "eb764d75",
   "metadata": {},
   "outputs": [],
   "source": [
    "fig(width = 16, height = 8)\n",
    "plotProjections(combined, \"Sample\", dimnames = c(\"TSNE\", \"MNN-TSNE\"), feat_desc = \"Sample\", \n",
    "                feat_color = c_sample_col, guides_size = 4, point_size = 0.1, point_alpha = 0.1,\n",
    "                legend_pos = \"bottom\", guides_nrow = 1, titles = c(\"TSNE, no correction\",\"TSNE, MNN correction\"))\n",
    "reset.fig()"
   ]
  },
  {
   "cell_type": "code",
   "execution_count": null,
   "id": "b66cb669",
   "metadata": {},
   "outputs": [],
   "source": [
    "fig(width = 16, height = 8)\n",
    "plotProjections(combined, \"CellType\", dimnames = c(\"TSNE\", \"MNN-TSNE\"), feat_desc = \"Cell Type\", \n",
    "                feat_color = c_celltype_col, guides_size = 4, point_size = 0.1, point_alpha = 0.1,\n",
    "                legend_pos = \"bottom\", guides_nrow = 1, titles = c(\"TSNE, no correction\",\"TSNE, MNN correction\"))\n",
    "reset.fig()"
   ]
  },
  {
   "cell_type": "markdown",
   "id": "d730033b",
   "metadata": {},
   "source": [
    "## Visualising before & after MNN corrections with UMAP"
   ]
  },
  {
   "cell_type": "code",
   "execution_count": null,
   "id": "265388c2",
   "metadata": {},
   "outputs": [],
   "source": [
    "set.seed(12345)\n",
    "combined <- runUMAP(combined, dimred = \"MNN\", name = \"MNN-UMAP\", n_dimred = 30, \n",
    "                    n_neighbors = 30, spread = 1, min_dist = 0.3, n_threads = nthreads, BPPARAM = bpp)"
   ]
  },
  {
   "cell_type": "code",
   "execution_count": null,
   "id": "b4175614",
   "metadata": {},
   "outputs": [],
   "source": [
    "fig(width = 16, height = 8)\n",
    "plotProjections(combined, \"Sample\", dimnames = c(\"UMAP\", \"MNN-UMAP\"), feat_desc = \"Sample\", \n",
    "                feat_color = c_sample_col, guides_size = 4, point_size = 0.1, point_alpha = 0.1,\n",
    "                legend_pos = \"bottom\", guides_nrow = 1, titles = c(\"UMAP, no correction\",\"UMAP, MNN correction\"))\n",
    "reset.fig()"
   ]
  },
  {
   "cell_type": "code",
   "execution_count": null,
   "id": "0f2d340d",
   "metadata": {},
   "outputs": [],
   "source": [
    "fig(width = 16, height = 8)\n",
    "plotProjections(combined, \"CellType\", dimnames = c(\"UMAP\", \"MNN-UMAP\"), feat_desc = \"Cell Type\", \n",
    "                feat_color = c_celltype_col, guides_size = 4, point_size = 0.1, point_alpha = 0.1,\n",
    "                legend_pos = \"bottom\", guides_nrow = 1, titles = c(\"UMAP, no correction\",\"UMAP, MNN correction\"))\n",
    "reset.fig()"
   ]
  },
  {
   "cell_type": "markdown",
   "id": "22f4f3af",
   "metadata": {},
   "source": [
    "### Colour cells by... \n",
    "\n",
    "#### Library size `log10Sum`"
   ]
  },
  {
   "cell_type": "code",
   "execution_count": null,
   "id": "380a1038",
   "metadata": {},
   "outputs": [],
   "source": [
    "bk <- seq(min(combined$log10Sum), max(combined$log10Sum), max(combined$log10Sum)/20)\n",
    "bk <- round(bk, 2)\n",
    "\n",
    "fig(width = 16, height = 8)\n",
    "plotProjections(combined, \"log10Sum\", dimnames = c(\"MNN-TSNE\",\"MNN-UMAP\"), feat_desc = \"log10(Sum)\", \n",
    "                feat_color = rev(rainbow(5)), color_breaks = bk, point_size = 0.1, point_alpha = 0.1, \n",
    "                guides_barheight = 20)\n",
    "reset.fig()"
   ]
  },
  {
   "cell_type": "markdown",
   "id": "aa975db0",
   "metadata": {},
   "source": [
    "#### Doublet score `DoubletDensity`"
   ]
  },
  {
   "cell_type": "code",
   "execution_count": null,
   "id": "3905f9ba",
   "metadata": {},
   "outputs": [],
   "source": [
    "combined$DoubletDensity <- unlist(lapply(all.common.normed, function(x) metadata(x)[['DoubletDensity']]))\n",
    "\n",
    "fig(width = 16, height = 8)\n",
    "plotProjections(combined, I(log1p(combined$DoubletDensity)), c(\"MNN-TSNE\",\"MNN-UMAP\"), \n",
    "                feat_desc = \"Doublet Score (log1p)\", feat_color = c_heatmap_col1, \n",
    "                point_size = 0.1, point_alpha = 0.1)\n",
    "reset.fig()"
   ]
  },
  {
   "cell_type": "markdown",
   "id": "0590024f",
   "metadata": {},
   "source": [
    "# 5 - Cell clustering\n",
    "\n",
    "Here, we recommend using any or all of graph-based methods, for example **Walktrap**, **Louvain** and **Leiden** algorithms, for cell clustering.\n",
    "\n",
    "Also, to consider a <strong>2-pass clustering procedure</strong>. A one-time clustering on the full dataset might not yield the desired resolution or subclusters. For a two-step process, first, the cells are separated into smaller subsets based on a initial round of coarse-grain clustering. Then, a second round of clustering is performed on each subset. Finally the clustering results are combined and stored into the full object <code>combined</code>.\n",
    "\n",
    "Below shows examples of uring `clusterRows()` function to perform the 3 clustering methods. Edit the workflow to perform clustering as one sees fit.\n",
    "\n",
    "```\n",
    "set.seed(12345)\n",
    "\n",
    "# walktrap\n",
    "clusterRows(mat, full = TRUE, \n",
    "            NNGraphParam(cluster.fun = \"walktrap\", k = k, type = \"rank\", # default in scran\n",
    "                         BNPARAM = AnnoyParam(), num.threads = nthreads))\n",
    "\n",
    "# louvain\n",
    "clusterRows(mat, full = TRUE, \n",
    "            NNGraphParam(cluster.fun = \"louvain\", k = k, type = \"jaccard\", # default in Seurat\n",
    "                         cluster.args = list(resolution = 1),\n",
    "                         BNPARAM = AnnoyParam(), num.threads = nthreads))\n",
    "\n",
    "# leiden\n",
    "clusterRows(mat, full = TRUE, \n",
    "            NNGraphParam(cluster.fun = \"leiden\", k = k, \n",
    "                         cluster.args = list(resolution_parameter = 1),\n",
    "                         BNPARAM = AnnoyParam(), num.threads = nthreads))\n",
    "```"
   ]
  },
  {
   "cell_type": "code",
   "execution_count": null,
   "id": "0da226ff",
   "metadata": {},
   "outputs": [],
   "source": [
    "# Stores clustering labels\n",
    "my.clusters <- vector(mode = \"list\")\n",
    "communities <- vector(mode = \"list\")"
   ]
  },
  {
   "cell_type": "markdown",
   "id": "8dfe54a9",
   "metadata": {},
   "source": [
    "## First-pass clustering\n",
    "\n",
    "Here, we use the faster **Leiden** algorithm to perform a quick coarse clustering."
   ]
  },
  {
   "cell_type": "code",
   "execution_count": null,
   "id": "914b628d",
   "metadata": {},
   "outputs": [],
   "source": [
    "method <- \"leiden\"\n",
    "dimname <- \"MNN\" # or \"PCA\" without batch correction\n",
    "n_dimred <- 20 # number of dimensions to use; default is 50\n",
    "k <- 15\n",
    "\n",
    "mat <- reducedDim(combined, dimname)[, seq_len(n_dimred), drop = FALSE]\n",
    "\n",
    "set.seed(12345)\n",
    "communities[[method]][[dimname]] <- clusterRows(mat, full = TRUE,\n",
    "                                                NNGraphParam(cluster.fun = method, k = k, \n",
    "                                                             cluster.args = list(resolution_parameter = 0.01),\n",
    "                                                             BNPARAM = AnnoyParam(), num.threads = nthreads))\n",
    "my.clusters[[method]][[dimname]] <- factor(communities[[method]][[dimname]]$clusters)"
   ]
  },
  {
   "cell_type": "code",
   "execution_count": null,
   "id": "c72aa706",
   "metadata": {},
   "outputs": [],
   "source": [
    "print(sprintf(\"%s cluster assignments from %s:\", stringr::str_to_title(method), dimname))\n",
    "table(colData(combined)$Sample, my.clusters[[method]][[dimname]])\n",
    "plotSilhouette(mat, my.clusters[[method]][[dimname]], printDiff = FALSE, plot = FALSE)\n",
    "\n",
    "combined$first.pass <- my.clusters[[method]][[dimname]]"
   ]
  },
  {
   "cell_type": "markdown",
   "id": "d775246a",
   "metadata": {},
   "source": [
    "### (Optional) Remove randomly scattered cells that have high `DoubletDensity` scores\n",
    "\n",
    "If there are many cells with high doublet scores randomly scattered on the dimensionality reduction plots (i.e. TSNE or UMAP), we can choose to do a round of doublet cell cleaning now. *The aim is to NOT remove doublet cluster(s).*"
   ]
  },
  {
   "cell_type": "markdown",
   "id": "0faff306",
   "metadata": {},
   "source": [
    "<div style=\"width: 100%; height: 25px; border-bottom: 1px dashed black; text-align: center\">\n",
    "    <span style=\"font-size: 20px; background-color: yellow; padding: 0 10px;\">Begin Optional Step (remove doublet cells)</span>\n",
    "</div>"
   ]
  },
  {
   "cell_type": "code",
   "execution_count": null,
   "id": "add3472d",
   "metadata": {},
   "outputs": [],
   "source": [
    "fig(width = 16, height = 8)\n",
    "plotProjections(combined, I(log1p(combined$DoubletDensity)), c(\"MNN-TSNE\",\"MNN-UMAP\"), \n",
    "                feat_desc = \"Doublet Score (log1p)\", feat_color = c_heatmap_col1, text_by = \"first.pass\", \n",
    "                point_size = 0.1, point_alpha = 0.1)\n",
    "reset.fig()"
   ]
  },
  {
   "cell_type": "markdown",
   "id": "59ef8ff7",
   "metadata": {},
   "source": [
    "#### Define per-sample per-cluster `DoubletDensity` score upperbound thresholds"
   ]
  },
  {
   "cell_type": "code",
   "execution_count": null,
   "id": "ca746c59",
   "metadata": {},
   "outputs": [],
   "source": [
    "# Upper limit/outlier: 75% quantile + (IQR * 3)\n",
    "upper <- as.data.frame(colData(combined)[,c(\"Sample\",\"first.pass\",\"DoubletDensity\")]) %>% \n",
    "    group_by(Sample, first.pass) %>% \n",
    "    reframe(iqr = iqr(log1p(DoubletDensity)), \n",
    "            enframe(quantile(log1p(DoubletDensity), c(0.25, 0.5, 0.75)), \"quantile\", \"Score\")) %>% \n",
    "    filter(quantile == \"75%\") %>% mutate(upper = iqr * 3 + Score) %>% arrange(Sample, first.pass)\n",
    "head(upper)"
   ]
  },
  {
   "cell_type": "code",
   "execution_count": null,
   "id": "72fbaa1c",
   "metadata": {},
   "outputs": [],
   "source": [
    "doublets <- as.data.frame(colData(combined)[,c(\"Sample\",\"first.pass\",\"DoubletDensity\")]) %>%\n",
    "    rownames_to_column(\"Barcode\") %>% left_join(upper[,c(\"Sample\",\"first.pass\",\"upper\")]) %>%\n",
    "    filter(log1p(DoubletDensity) > upper)\n",
    "head(doublets)\n",
    "\n",
    "table(\"Is doublet\" = colnames(combined) %in% doublets$Barcode)"
   ]
  },
  {
   "cell_type": "code",
   "execution_count": null,
   "id": "5b4e4a1d",
   "metadata": {},
   "outputs": [],
   "source": [
    "fig(width = 16, height = 8)\n",
    "plotProjections(combined, colnames(combined) %in% doublets$Barcode, c(\"MNN-TSNE\",\"MNN-UMAP\"), \n",
    "                feat_desc = \"Doublets to be removed\", feat_color = c(\"yellow\",\"red\"), \n",
    "                point_size = 0.1, point_alpha = 0.1, guides_size = 4, rel_widths = c(9, 1))\n",
    "reset.fig()"
   ]
  },
  {
   "cell_type": "markdown",
   "id": "5a6c565c",
   "metadata": {},
   "source": [
    "#### Remove marked doublet cells and re-do `runTSNE`and `runUMAP`"
   ]
  },
  {
   "cell_type": "code",
   "execution_count": null,
   "id": "f24233a7",
   "metadata": {},
   "outputs": [],
   "source": [
    "combined <- combined[, !colnames(combined) %in% doublets$Barcode]\n",
    "combined"
   ]
  },
  {
   "cell_type": "code",
   "execution_count": null,
   "id": "94caec00",
   "metadata": {},
   "outputs": [],
   "source": [
    "set.seed(12345)\n",
    "combined <- runTSNE(combined, dimred = \"MNN\", name = \"MNN-TSNE\", n_dimred = 30, \n",
    "                    n_threads = nthreads, BPPARAM = bpp)"
   ]
  },
  {
   "cell_type": "code",
   "execution_count": null,
   "id": "73fa5447",
   "metadata": {},
   "outputs": [],
   "source": [
    "set.seed(12345)\n",
    "combined <- runUMAP(combined, dimred = \"MNN\", name = \"MNN-UMAP\", n_dimred = 30, \n",
    "                    n_neighbors = 30, spread = 1, min_dist = 0.3, n_threads = nthreads, BPPARAM = bpp)"
   ]
  },
  {
   "cell_type": "markdown",
   "id": "00420cb9",
   "metadata": {},
   "source": [
    "#### Re-run first-pass clustering using Leiden algorithm"
   ]
  },
  {
   "cell_type": "code",
   "execution_count": null,
   "id": "b7626669",
   "metadata": {},
   "outputs": [],
   "source": [
    "method <- \"leiden\"\n",
    "dimname <- \"MNN\" # or \"PCA\" without batch correction\n",
    "n_dimred <- 50 # number of dimensions to use; default is 50\n",
    "k <- 10\n",
    "\n",
    "mat <- reducedDim(combined, dimname)[, seq_len(n_dimred), drop = FALSE]\n",
    "\n",
    "set.seed(12345)\n",
    "communities[[method]][[dimname]] <- clusterRows(mat, full = TRUE,\n",
    "                                                NNGraphParam(cluster.fun = method, k = k, \n",
    "                                                             cluster.args = list(resolution_parameter = 0.01),\n",
    "                                                             BNPARAM = AnnoyParam(), num.threads = nthreads))\n",
    "my.clusters[[method]][[dimname]] <- factor(communities[[method]][[dimname]]$clusters)"
   ]
  },
  {
   "cell_type": "code",
   "execution_count": null,
   "id": "3430a5ec",
   "metadata": {},
   "outputs": [],
   "source": [
    "print(sprintf(\"%s cluster assignments from %s:\", stringr::str_to_title(method), dimname))\n",
    "table(colData(combined)$Sample, my.clusters[[method]][[dimname]])\n",
    "plotSilhouette(mat, my.clusters[[method]][[dimname]], printDiff = FALSE, plot = FALSE)\n",
    "\n",
    "combined$first.pass <- my.clusters[[method]][[dimname]]"
   ]
  },
  {
   "cell_type": "markdown",
   "id": "d4d90b65",
   "metadata": {},
   "source": [
    "<div style=\"width: 100%; height: 25px; border-bottom: 1px dashed black; text-align: center\">\n",
    "    <span style=\"font-size: 20px; background-color: yellow; padding: 0 10px;\">End Optional Step (remove doublet cells)</span>\n",
    "</div>"
   ]
  },
  {
   "cell_type": "code",
   "execution_count": null,
   "id": "d5bcdd3b",
   "metadata": {},
   "outputs": [],
   "source": [
    "p1 <- plotProjections(combined, \"CellType\", dimnames = c(\"MNN-TSNE\", \"MNN-UMAP\"), feat_desc = \"Cell Type\", \n",
    "                      feat_color = c_celltype_col, text_by = \"first.pass\", point_size = 0.1, point_alpha = 0.1, \n",
    "                      legend_pos = \"none\", add_void = TRUE)\n",
    "\n",
    "p2 <- plotProjections(combined, \"first.pass\", dimnames = c(\"MNN-TSNE\", \"MNN-UMAP\"), feat_desc = method, \n",
    "                      feat_color = c30(), text_by = \"first.pass\", point_size = 0.1, point_alpha = 0.1,\n",
    "                      guides_size = 4)\n",
    "\n",
    "fig(width = 16, height = 15)\n",
    "plot_grid(p1, p2, ncol = 1)\n",
    "reset.fig()"
   ]
  },
  {
   "cell_type": "markdown",
   "id": "172a6143",
   "metadata": {},
   "source": [
    "## Create subsets\n",
    "\n",
    "You may divide your cells into subsets containing fewer clusters.\n",
    "\n",
    "In this example, we create 3 subsets:\n",
    "\n",
    "<div class=\"alert alert-info\">\n",
    "    <ul>\n",
    "        <li>Subset 1: 2, 7, 10, 18, 20</li>\n",
    "        <li>Subset 2: 3, 5, 14, 17</li>\n",
    "        <li>Subset 3: 1, 4, 6, 8, 9, 11, 12, 13, 15, 16, 19</li>\n",
    "    </ul>\n",
    "</div>"
   ]
  },
  {
   "cell_type": "markdown",
   "id": "ab0b5da5",
   "metadata": {},
   "source": [
    "### Create TSNE & UMAP (Subset 1)"
   ]
  },
  {
   "cell_type": "code",
   "execution_count": null,
   "id": "9f292ba8",
   "metadata": {},
   "outputs": [],
   "source": [
    "subset1 <- combined[, combined$first.pass %in% c(2, 7, 10, 18, 20)]\n",
    "colData(subset1) <- droplevels(colData(subset1))\n",
    "dim(subset1)\n",
    "\n",
    "set.seed(12345)\n",
    "subset1 <- runTSNE(subset1, dimred = \"MNN\", name = \"MNN-TSNE\", n_dimred = 50, n_threads = nthreads, BPPARAM = bpp)\n",
    "\n",
    "set.seed(12345)\n",
    "subset1 <- runUMAP(subset1, dimred = \"MNN\", name = \"MNN-UMAP\", n_dimred = 50, \n",
    "                   n_neighbors = 30, spread = 1, min_dist = 0.3, n_threads = nthreads, BPPARAM = bpp)\n",
    "\n",
    "p1 <- plotProjections(subset1, \"first.pass\", dimnames = c(\"MNN-TSNE\", \"MNN-UMAP\"), feat_desc = \"Cluster\", \n",
    "                      feat_color = c30(), text_by = \"first.pass\", point_size = 0.1, point_alpha = 0.1, \n",
    "                      guides_size = 4, rel_widths = c(8,1))\n",
    "\n",
    "p2 <- plotProjections(subset1, \"CellCycle\", dimnames = c(\"MNN-TSNE\", \"MNN-UMAP\"), feat_desc = \"Cell Cycle\", \n",
    "                      feat_color = c_phase_col, text_by = \"first.pass\", point_size = 0.1, point_alpha = 0.1,\n",
    "                      guides_size = 4, rel_widths = c(8,1))\n",
    "\n",
    "fig(width = 16, height = 15)\n",
    "plot_grid(p1, p2, ncol = 1)\n",
    "reset.fig()"
   ]
  },
  {
   "cell_type": "markdown",
   "id": "340ab6e6",
   "metadata": {},
   "source": [
    "### Create TSNE & UMAP (Subset 2)"
   ]
  },
  {
   "cell_type": "code",
   "execution_count": null,
   "id": "5112e9a5",
   "metadata": {},
   "outputs": [],
   "source": [
    "subset2 <- combined[, combined$first.pass %in% c(3, 5, 14, 17)]\n",
    "colData(subset2) <- droplevels(colData(subset2))\n",
    "dim(subset2)\n",
    "\n",
    "set.seed(12345)\n",
    "subset2 <- runTSNE(subset2, dimred = \"MNN\", name = \"MNN-TSNE\", n_dimred = 50, n_threads = nthreads, BPPARAM = bpp)\n",
    "\n",
    "set.seed(12345)\n",
    "subset2 <- runUMAP(subset2, dimred = \"MNN\", name = \"MNN-UMAP\", n_dimred = 50, \n",
    "                   n_neighbors = 30, spread = 1, min_dist = 0.3, n_threads = nthreads, BPPARAM = bpp)\n",
    "\n",
    "p1 <- plotProjections(subset2, \"first.pass\", dimnames = c(\"MNN-TSNE\", \"MNN-UMAP\"), feat_desc = \"Cluster\", \n",
    "                      feat_color = c30(), text_by = \"first.pass\", point_size = 0.1, point_alpha = 0.1, \n",
    "                      guides_size = 4, rel_widths = c(8,1))\n",
    "\n",
    "p2 <- plotProjections(subset2, \"CellCycle\", dimnames = c(\"MNN-TSNE\", \"MNN-UMAP\"), feat_desc = \"Cell Cycle\", \n",
    "                      feat_color = c_phase_col, text_by = \"first.pass\", point_size = 0.1, point_alpha = 0.1, \n",
    "                      guides_size = 4, rel_widths = c(8,1))\n",
    "\n",
    "fig(width = 16, height = 15)\n",
    "plot_grid(p1, p2, ncol = 1)\n",
    "reset.fig()"
   ]
  },
  {
   "cell_type": "markdown",
   "id": "0cd3206c",
   "metadata": {},
   "source": [
    "### Create TSNE & UMAP (Subset 3)"
   ]
  },
  {
   "cell_type": "code",
   "execution_count": null,
   "id": "336d47e8",
   "metadata": {},
   "outputs": [],
   "source": [
    "subset3 <- combined[, combined$first.pass %in% c(1, 4, 6, 8, 9, 11, 12, 13, 15, 16, 19)]\n",
    "colData(subset3) <- droplevels(colData(subset3))\n",
    "dim(subset3)\n",
    "\n",
    "set.seed(12345)\n",
    "subset3 <- runTSNE(subset3, dimred = \"MNN\", name = \"MNN-TSNE\", n_dimred = 50, n_threads = nthreads, BPPARAM = bpp)\n",
    "\n",
    "set.seed(12345)\n",
    "subset3 <- runUMAP(subset3, dimred = \"MNN\", name = \"MNN-UMAP\", n_dimred = 50, \n",
    "                   n_neighbors = 30, spread = 1, min_dist = 0.3, n_threads = nthreads, BPPARAM = bpp)\n",
    "\n",
    "p1 <- plotProjections(subset3, \"first.pass\", dimnames = c(\"MNN-TSNE\", \"MNN-UMAP\"), feat_desc = \"Cluster\", \n",
    "                      feat_color = c30(), text_by = \"first.pass\", point_size = 0.1, point_alpha = 0.1, \n",
    "                      guides_size = 4, rel_widths = c(8,1))\n",
    "\n",
    "p2 <- plotProjections(subset3, \"CellCycle\", dimnames = c(\"MNN-TSNE\", \"MNN-UMAP\"), feat_desc = \"Cell Cycle\", \n",
    "                      feat_color = c_phase_col, text_by = \"first.pass\", point_size = 0.1, point_alpha = 0.1,\n",
    "                      guides_size = 4, rel_widths = c(8,1))\n",
    "\n",
    "fig(width = 16, height = 15)\n",
    "plot_grid(p1, p2, ncol = 1)\n",
    "reset.fig()"
   ]
  },
  {
   "cell_type": "markdown",
   "id": "63d770e7",
   "metadata": {},
   "source": [
    "## Second-pass clustering\n",
    "\n",
    "Here, we use the **Louvain** algorithm to perform clustering, but feel free to use different clustering algorithms that suit your dataset\n",
    "\n",
    "**Subset 1**"
   ]
  },
  {
   "cell_type": "code",
   "execution_count": null,
   "id": "80df8ab3",
   "metadata": {},
   "outputs": [],
   "source": [
    "method <- \"louvain\"\n",
    "dimname <- \"MNN\" # or \"PCA\" without batch correction\n",
    "n_dimred <- 20 # number of dimensions to use; default is 50\n",
    "k <- 15\n",
    "\n",
    "mat <- reducedDim(subset1, dimname)[, seq_len(n_dimred), drop = FALSE]\n",
    "\n",
    "set.seed(12345)\n",
    "communities[[method]][[dimname]] <- clusterRows(mat, full = TRUE,\n",
    "                                                NNGraphParam(cluster.fun = method, k = k, type = \"jaccard\", \n",
    "                                                             cluster.args = list(resolution = 2.5), \n",
    "                                                             BNPARAM = AnnoyParam(), num.threads = nthreads))\n",
    "my.clusters[[method]][[dimname]] <- factor(communities[[method]][[dimname]]$clusters)"
   ]
  },
  {
   "cell_type": "code",
   "execution_count": null,
   "id": "7b7e65f0",
   "metadata": {},
   "outputs": [],
   "source": [
    "print(sprintf(\"%s cluster assignments from %s:\", stringr::str_to_title(method), dimname))\n",
    "table(colData(subset1)$Sample, my.clusters[[method]][[dimname]])\n",
    "plotSilhouette(mat, my.clusters[[method]][[dimname]], printDiff = FALSE, plot = FALSE)\n",
    "\n",
    "subset1$merged.louvain <- my.clusters[[method]][[dimname]]"
   ]
  },
  {
   "cell_type": "markdown",
   "id": "c1164281",
   "metadata": {},
   "source": [
    "<div class=\"alert alert-warning\">\n",
    "  <strong>Note!</strong> After partially running the workflow, usually after preliminary manual curation of per-cluster cell types, you may want/need to come back to this stage to fine-tune the clusters.\n",
    "</div>\n",
    "\n",
    "Example of changing pre-defined clusters, we:\n",
    "- merge clusters 1, 2 and 3, which are **naive CD8 T cells**\n",
    "- merge clusters 15 and 20, which are **activated CD8(hi) T**"
   ]
  },
  {
   "cell_type": "code",
   "execution_count": null,
   "id": "166488c8",
   "metadata": {},
   "outputs": [],
   "source": [
    "levels(subset1$merged.louvain)[c(2, 3)] <- 1\n",
    "levels(subset1$merged.louvain)[20] <- 15\n",
    "levels(subset1$merged.louvain) <- seq(1:nlevels(subset1$merged.louvain))\n",
    "table(subset1$condition, subset1$merged.louvain)"
   ]
  },
  {
   "cell_type": "code",
   "execution_count": null,
   "id": "5a9404b2",
   "metadata": {},
   "outputs": [],
   "source": [
    "p1 <- plotProjections(subset1, \"merged.louvain\", dimnames = c(\"MNN-TSNE\", \"MNN-UMAP\"), feat_desc = \"Cluster\", \n",
    "                      feat_color = c30(), text_by = \"merged.louvain\", point_size = 0.3, point_alpha = 0.1,\n",
    "                      guides_size = 4, rel_widths = c(8,1))\n",
    "\n",
    "p2 <- plotProjections(subset1, \"CellCycle\", dimnames = c(\"MNN-TSNE\", \"MNN-UMAP\"), feat_desc = \"Cell Cycle\", \n",
    "                      feat_color = c_phase_col, text_by = \"merged.louvain\", point_size = 0.3, point_alpha = 0.1,\n",
    "                      guides_size = 4, rel_widths = c(8,1))\n",
    "\n",
    "fig(width = 16, height = 15)\n",
    "plot_grid(p1, p2, ncol = 1)\n",
    "reset.fig()"
   ]
  },
  {
   "cell_type": "markdown",
   "id": "686ac69c",
   "metadata": {},
   "source": [
    "**Subset 2**"
   ]
  },
  {
   "cell_type": "code",
   "execution_count": null,
   "id": "87e47637",
   "metadata": {},
   "outputs": [],
   "source": [
    "method <- \"louvain\"\n",
    "dimname <- \"MNN\" # or \"PCA\" without batch correction\n",
    "n_dimred <- 50 # number of dimensions to use; default is 50\n",
    "k <- 10\n",
    "\n",
    "mat <- reducedDim(subset2, dimname)[, seq_len(n_dimred), drop = FALSE]\n",
    "\n",
    "set.seed(12345)\n",
    "communities[[method]][[dimname]] <- clusterRows(mat, full = TRUE,\n",
    "                                                NNGraphParam(cluster.fun = method, k = k, type = \"jaccard\", \n",
    "                                                             cluster.args = list(resolution = 0.8), \n",
    "                                                             BNPARAM = AnnoyParam(), num.threads = nthreads))\n",
    "my.clusters[[method]][[dimname]] <- factor(communities[[method]][[dimname]]$clusters)"
   ]
  },
  {
   "cell_type": "code",
   "execution_count": null,
   "id": "0ec6fb02",
   "metadata": {},
   "outputs": [],
   "source": [
    "print(sprintf(\"%s cluster assignments from %s:\", stringr::str_to_title(method), dimname))\n",
    "table(colData(subset2)$Sample, my.clusters[[method]][[dimname]])\n",
    "plotSilhouette(mat, my.clusters[[method]][[dimname]], printDiff = FALSE, plot = FALSE)\n",
    "\n",
    "subset2$merged.louvain <- my.clusters[[method]][[dimname]]"
   ]
  },
  {
   "cell_type": "markdown",
   "id": "9e0055b9",
   "metadata": {},
   "source": [
    "<div class=\"alert alert-warning\">\n",
    "  <strong>Note!</strong> After partially running the workflow, usually after preliminary manual curation of per-cluster cell types, you may want/need to come back to this stage to fine-tune the clusters.\n",
    "</div>\n",
    "\n",
    "Example of changing pre-defined clusters, we:\n",
    "- merge clusters 6 and 9, which are **ICOS(hi) Momory CD4+ T**"
   ]
  },
  {
   "cell_type": "code",
   "execution_count": null,
   "id": "5d6a6a6d",
   "metadata": {},
   "outputs": [],
   "source": [
    "levels(subset2$merged.louvain)[9] <- 6\n",
    "levels(subset2$merged.louvain) <- seq(1:nlevels(subset2$merged.louvain))\n",
    "table(subset2$condition, subset2$merged.louvain)"
   ]
  },
  {
   "cell_type": "code",
   "execution_count": null,
   "id": "bc22de46",
   "metadata": {},
   "outputs": [],
   "source": [
    "p1 <- plotProjections(subset2, \"merged.louvain\", dimnames = c(\"MNN-TSNE\", \"MNN-UMAP\"), feat_desc = \"Cluster\", \n",
    "                      feat_color = c30(), text_by = \"merged.louvain\", point_size = 0.1, point_alpha = 0.1,\n",
    "                      guides_size = 4, rel_widths = c(8,1))\n",
    "\n",
    "p2 <- plotProjections(subset2, \"CellCycle\", dimnames = c(\"MNN-TSNE\", \"MNN-UMAP\"), feat_desc = \"Cell Cycle\", \n",
    "                      feat_color = c_phase_col, text_by = \"merged.louvain\", point_size = 0.1, point_alpha = 0.1, \n",
    "                      guides_size = 4, rel_widths = c(8,1))\n",
    "\n",
    "fig(width = 16, height = 15)\n",
    "plot_grid(p1, p2, ncol = 1)\n",
    "reset.fig()"
   ]
  },
  {
   "cell_type": "markdown",
   "id": "9bff58cd",
   "metadata": {},
   "source": [
    "**Subset 3**"
   ]
  },
  {
   "cell_type": "code",
   "execution_count": null,
   "id": "4cc54c39",
   "metadata": {},
   "outputs": [],
   "source": [
    "method <- \"louvain\"\n",
    "dimname <- \"MNN\" # or \"PCA\" without batch correction\n",
    "n_dimred <- 50 # number of dimensions to use; default is 50\n",
    "k <- 10\n",
    "\n",
    "mat <- reducedDim(subset3, dimname)[, seq_len(n_dimred), drop = FALSE]\n",
    "\n",
    "set.seed(12345)\n",
    "communities[[method]][[dimname]] <- clusterRows(mat, full = TRUE,\n",
    "                                                NNGraphParam(cluster.fun = method, k = k, type = \"jaccard\", \n",
    "                                                             cluster.args = list(resolution = 1.25), \n",
    "                                                             BNPARAM = AnnoyParam(), num.threads = nthreads))\n",
    "my.clusters[[method]][[dimname]] <- factor(communities[[method]][[dimname]]$clusters)"
   ]
  },
  {
   "cell_type": "code",
   "execution_count": null,
   "id": "bbaba179",
   "metadata": {},
   "outputs": [],
   "source": [
    "print(sprintf(\"%s cluster assignments from %s:\", stringr::str_to_title(method), dimname))\n",
    "table(colData(subset3)$Sample, my.clusters[[method]][[dimname]])\n",
    "plotSilhouette(mat, my.clusters[[method]][[dimname]], printDiff = FALSE, plot = FALSE)\n",
    "\n",
    "subset3$merged.louvain <- my.clusters[[method]][[dimname]]"
   ]
  },
  {
   "cell_type": "markdown",
   "id": "6cde6885",
   "metadata": {},
   "source": [
    "<div class=\"alert alert-warning\">\n",
    "  <strong>Note!</strong> After partially running the workflow, usually after preliminary manual curation of per-cluster cell types, you may want/need to come back to this stage to fine-tune the clusters.\n",
    "</div>\n",
    "\n",
    "Example of changing pre-defined clusters, we: \n",
    "- merge clusters of **NK cells**."
   ]
  },
  {
   "cell_type": "code",
   "execution_count": null,
   "id": "e6815978",
   "metadata": {},
   "outputs": [],
   "source": [
    "levels(subset3$merged.louvain)[c(10, 12, 17)] <- 7\n",
    "levels(subset3$merged.louvain) <- seq(1:nlevels(subset3$merged.louvain))\n",
    "table(subset3$condition, subset3$merged.louvain)"
   ]
  },
  {
   "cell_type": "code",
   "execution_count": null,
   "id": "95428c7c",
   "metadata": {},
   "outputs": [],
   "source": [
    "p1 <- plotProjections(subset3, \"merged.louvain\", dimnames = c(\"MNN-TSNE\", \"MNN-UMAP\"), feat_desc = \"Cluster\", \n",
    "                      feat_color = c30(), text_by = \"merged.louvain\", point_size = 0.1, point_alpha = 0.1,\n",
    "                      guides_size = 4, rel_widths = c(8,1))\n",
    "\n",
    "p2 <- plotProjections(subset3, \"CellCycle\", dimnames = c(\"MNN-TSNE\", \"MNN-UMAP\"), feat_desc = \"Cell Cycle\", \n",
    "                      feat_color = c_phase_col, text_by = \"merged.louvain\", point_size = 0.1, point_alpha = 0.1, \n",
    "                      guides_size = 4, rel_widths = c(8,1))\n",
    "\n",
    "fig(width = 16, height = 15)\n",
    "plot_grid(p1, p2, ncol = 1)\n",
    "reset.fig()"
   ]
  },
  {
   "cell_type": "markdown",
   "id": "445fa6e2",
   "metadata": {},
   "source": [
    "## Add assigned clusters to `sce` objects\n",
    "\n",
    "Choose the desired clustering result and assign to the default \"label\" column using the `colLabels` function."
   ]
  },
  {
   "cell_type": "code",
   "execution_count": null,
   "id": "a3d7c874",
   "metadata": {},
   "outputs": [],
   "source": [
    "# Combine cluster labels from all subsets\n",
    "# Assign temporary IDs for now\n",
    "combined$merged.louvain <- rbind(colData(subset1)[, c(\"Barcode\",\"merged.louvain\")] %>% as.data.frame %>% \n",
    "                                 mutate(merged.louvain = paste0(\"a\", merged.louvain)), \n",
    "                                 colData(subset2)[, c(\"Barcode\",\"merged.louvain\")] %>% as.data.frame %>% \n",
    "                                 mutate(merged.louvain = paste0(\"b\", merged.louvain)), \n",
    "                                 colData(subset3)[, c(\"Barcode\",\"merged.louvain\")] %>% as.data.frame %>% \n",
    "                                 mutate(merged.louvain = paste0(\"c\", merged.louvain)))[colnames(combined),\"merged.louvain\"]\n",
    "combined$merged.louvain <- factor(combined$merged.louvain, \n",
    "                                  levels = gtools::mixedsort(unique(combined$merged.louvain)))\n",
    "colLabels(combined) <- combined$merged.louvain"
   ]
  },
  {
   "cell_type": "markdown",
   "id": "3bd27b2b",
   "metadata": {},
   "source": [
    "### Rename and reorder clusters\n",
    "\n",
    "<div class=\"alert alert-warning\">\n",
    "    <strong>Skip this step in the initial run!</strong>\n",
    "    <br />Come back and run this step after cell clusters of the same \"coarse cell type\" and/or lineage are identified preliminarily. We do this so that the clusters of the same \"<i>type</i>\" are in sequential order by their cluster number.    \n",
    "</div>"
   ]
  },
  {
   "cell_type": "code",
   "execution_count": null,
   "id": "4dd99351",
   "metadata": {},
   "outputs": [],
   "source": [
    "levels(colLabels(combined)) <- c(10, 21, 12, 22, 43, 20, 42, 41, 8, 17, 25, 40, 11, 19, 13, 24, 14, 9, \n",
    "                                 16, 26, 18, 15, 6, 1, 7, 5, 4, 2, 29, 3, 44, 30, 45, 34, 33, 35, 27, \n",
    "                                 36, 23, 39, 38, 32, 46, 31, 37, 28)\n",
    "colLabels(combined) <- factor(colLabels(combined), levels = gtools::mixedsort(levels(colLabels(combined))))"
   ]
  },
  {
   "cell_type": "code",
   "execution_count": null,
   "id": "15df98f3",
   "metadata": {},
   "outputs": [],
   "source": [
    "# Set colours for cell clusters\n",
    "c_clust_col <- choosePalette(colLabels(combined), \n",
    "                             # more than 40 clusters\n",
    "                             pals::kovesi.rainbow_bgyrm_35_85_c69(nlevels(colLabels(combined))))"
   ]
  },
  {
   "cell_type": "markdown",
   "id": "9727e1f3",
   "metadata": {},
   "source": [
    "### Print number and percentage of cells"
   ]
  },
  {
   "cell_type": "code",
   "execution_count": null,
   "id": "1d410ae9",
   "metadata": {},
   "outputs": [],
   "source": [
    "table_samples_by_clusters <- table(Sample = combined$Sample, Cluster = combined$label)\n",
    "table_samples_by_clusters"
   ]
  },
  {
   "cell_type": "code",
   "execution_count": null,
   "id": "0380cc82",
   "metadata": {},
   "outputs": [],
   "source": [
    "# No. of cells \n",
    "fig(width = 16, height = 5)\n",
    "ggplot(data.frame(table_samples_by_clusters), aes(Sample, Freq, fill = Cluster)) + \n",
    "    geom_bar(position = \"stack\", stat = \"identity\", linewidth = 0.2, color = \"black\") + coord_flip() +\n",
    "    scale_y_continuous(\"Number of cells\", labels = comma) + guides(fill = guide_legend(ncol = 4)) +\n",
    "    scale_fill_manual(values = c_clust_col) + theme_cowplot(20) + theme(axis.title.y = element_blank())\n",
    "reset.fig()"
   ]
  },
  {
   "cell_type": "code",
   "execution_count": null,
   "id": "a4429063",
   "metadata": {},
   "outputs": [],
   "source": [
    "# Percenatge cells\n",
    "fig(width = 16, height = 5)\n",
    "ggplot(data.frame(table_samples_by_clusters), aes(Sample, Freq, fill = Cluster)) +\n",
    "    geom_bar(position = \"fill\", stat = \"identity\", linewidth = 0.2, color = \"black\") + coord_flip() +\n",
    "    scale_y_continuous(\"Percentage\", labels = percent_format()) + guides(fill = guide_legend(ncol = 4)) +\n",
    "    scale_fill_manual(values = c_clust_col) + theme_cowplot(20) + theme(axis.title.y = element_blank())\n",
    "reset.fig()"
   ]
  },
  {
   "cell_type": "markdown",
   "id": "318bdb80",
   "metadata": {},
   "source": [
    "## t-SNE and UMAP plots\n",
    "\n",
    "<div class=\"alert alert-warning\">\n",
    "    <strong>Warning!</strong> change the <code>dimnames</code> names to view plot in the corresponding reduced dimension results.\n",
    "</div>"
   ]
  },
  {
   "cell_type": "code",
   "execution_count": null,
   "id": "d48854f9",
   "metadata": {},
   "outputs": [],
   "source": [
    "# Coloured by clusters\n",
    "fig(width = 16, height = 9)\n",
    "plotProjections(combined, \"label\", dimnames = c(\"MNN-TSNE\", \"MNN-UMAP\"), feat_desc = \"Cluster\", \n",
    "                feat_color = c_clust_col, text_by = \"label\", point_size = 0.1, point_alpha = 0.1,\n",
    "                text_size = 6, guides_nrow = 3, guides_size = 4, legend_pos = \"bottom\", rel_heights = c(8,1))\n",
    "reset.fig()"
   ]
  },
  {
   "cell_type": "code",
   "execution_count": null,
   "id": "c5739414",
   "metadata": {},
   "outputs": [],
   "source": [
    "bk <- seq(min(combined$log10Sum), max(combined$log10Sum), max(combined$log10Sum)/20)\n",
    "bk <- round(bk, 2)\n",
    "\n",
    "# Coloured by log10Sum\n",
    "fig(width = 16, height = 8)\n",
    "plotProjections(combined, \"log10Sum\", dimnames = c(\"MNN-TSNE\", \"MNN-UMAP\"), feat_desc = \"log10(Sum)\", \n",
    "                feat_color = rev(rainbow(5)), color_breaks = bk, point_size = 0.1, point_alpha = 0.1,\n",
    "                text_by = \"label\", text_size = 6, guides_barheight = 20)\n",
    "reset.fig()"
   ]
  },
  {
   "cell_type": "code",
   "execution_count": null,
   "id": "6aedbd39",
   "metadata": {},
   "outputs": [],
   "source": [
    "# Coloured by cell cycle phases\n",
    "fig(width = 16, height = 9)\n",
    "plotProjections(combined, \"CellCycle\", dimnames = c(\"MNN-TSNE\", \"MNN-UMAP\"), feat_desc = \"Cell Cycle Phases\", \n",
    "                feat_color = c_phase_col, text_by = \"label\", point_size = 0.1, point_alpha = 0.1,\n",
    "                text_size = 6, guides_nrow = 1, guides_size = 4, legend_pos = \"bottom\")\n",
    "reset.fig()"
   ]
  },
  {
   "cell_type": "code",
   "execution_count": null,
   "id": "5d07db88",
   "metadata": {},
   "outputs": [],
   "source": [
    "fig(width = 16, height = 5)\n",
    "colData(combined) %>% as.data.frame %>% group_by(label, CellCycle) %>% summarise(counts = n()) %>%\n",
    "    ggplot(aes(label, counts, fill = CellCycle)) + geom_col(position = \"fill\") + \n",
    "    scale_fill_manual(values = c_phase_col) + theme_cowplot(14) +\n",
    "    theme(axis.text.x = element_text(angle = 90, hjust = 1, vjust = 0.5))\n",
    "reset.fig()"
   ]
  },
  {
   "cell_type": "code",
   "execution_count": null,
   "id": "64043cfe",
   "metadata": {},
   "outputs": [],
   "source": [
    "# Coloured by samples\n",
    "fig(width = 16, height = 9)\n",
    "plotProjections(combined, \"Sample\", dimnames = c(\"MNN-TSNE\", \"MNN-UMAP\"), feat_desc = \"Sample\", \n",
    "                feat_color = c_sample_col, text_by = \"label\", point_size = 0.1, point_alpha = 0.1,\n",
    "                text_size = 6, guides_nrow = 1, guides_size = 4, legend_pos = \"bottom\")\n",
    "reset.fig()"
   ]
  },
  {
   "cell_type": "code",
   "execution_count": null,
   "id": "327c5317",
   "metadata": {},
   "outputs": [],
   "source": [
    "fig(width = 16, height = 5)\n",
    "colData(combined) %>% as.data.frame %>% group_by(label, Sample) %>% summarise(counts = n()) %>%\n",
    "    ggplot(aes(label, counts, fill = Sample)) + geom_col(position = \"fill\") + \n",
    "    scale_fill_manual(values = c_sample_col) + theme_cowplot(14) +\n",
    "    theme(axis.text.x = element_text(angle = 90, hjust = 1, vjust = 0.5))\n",
    "reset.fig()"
   ]
  },
  {
   "cell_type": "code",
   "execution_count": null,
   "id": "d4714dd2",
   "metadata": {},
   "outputs": [],
   "source": [
    "# Coloured by condition\n",
    "fig(width = 16, height = 9)\n",
    "plotProjections(combined, \"condition\", dimnames = c(\"MNN-TSNE\", \"MNN-UMAP\"), feat_desc = \"Condition\", \n",
    "                feat_color = c_cond_col, text_by = \"label\", point_size = 0.1, point_alpha = 0.1,\n",
    "                text_size = 6, guides_nrow = 1, guides_size = 4, legend_pos = \"bottom\")\n",
    "reset.fig()"
   ]
  },
  {
   "cell_type": "code",
   "execution_count": null,
   "id": "dd05d20e",
   "metadata": {},
   "outputs": [],
   "source": [
    "fig(width = 16, height = 5)\n",
    "colData(combined) %>% as.data.frame %>% group_by(label, condition) %>% summarise(counts = n()) %>%\n",
    "    ggplot(aes(label, counts, fill = condition)) + geom_col(position = \"fill\") + \n",
    "    scale_fill_manual(values = c_cond_col) + theme_cowplot(14) +\n",
    "    theme(axis.text.x = element_text(angle = 90, hjust = 1, vjust = 0.5))\n",
    "reset.fig()"
   ]
  },
  {
   "cell_type": "code",
   "execution_count": null,
   "id": "a2ec303d",
   "metadata": {},
   "outputs": [],
   "source": [
    "# Coloured by cell types\n",
    "fig(width = 16, height = 9)\n",
    "plotProjections(combined, \"CellType\", dimnames = c(\"MNN-TSNE\", \"MNN-UMAP\"), feat_desc = \"Cell Type\", \n",
    "                feat_color = c_celltype_col, text_by = \"label\", point_size = 0.1, point_alpha = 0.1,\n",
    "                text_size = 6, guides_nrow = 1, guides_size = 4, legend_pos = \"bottom\")\n",
    "reset.fig()"
   ]
  },
  {
   "cell_type": "code",
   "execution_count": null,
   "id": "730a6a72",
   "metadata": {},
   "outputs": [],
   "source": [
    "table(Cluster = combined$label, CellType = combined$CellType)"
   ]
  },
  {
   "cell_type": "code",
   "execution_count": null,
   "id": "b56c1d9b",
   "metadata": {},
   "outputs": [],
   "source": [
    "# Coloured by DoubletDensity scores\n",
    "fig(width = 16, height = 8)\n",
    "plotProjections(combined, I(log1p(combined$DoubletDensity)), c(\"MNN-TSNE\",\"MNN-UMAP\"), \n",
    "                feat_desc = \"Doublet Score (log1p)\", feat_color = c_heatmap_col1, \n",
    "                text_by = \"label\", text_size = 6, point_size = 0.1, point_alpha = 0.1)\n",
    "reset.fig()"
   ]
  },
  {
   "cell_type": "code",
   "execution_count": null,
   "id": "036c29d7",
   "metadata": {},
   "outputs": [],
   "source": [
    "# Plot DoubletDensity scores\n",
    "fig(width = 16, height = 7)\n",
    "as.data.frame(colData(combined)[,c(\"Sample\",\"label\",\"DoubletDensity\")]) %>% \n",
    "ggplot(aes(label, log1p(DoubletDensity), color = Sample)) + \n",
    "    geom_boxplot(position = position_dodge(width = 0.5), width = 0.3, outlier.size = 0.5) + \n",
    "    scale_color_manual(values = c_sample_col) + theme_cowplot(16) + \n",
    "    theme(legend.position = \"top\", axis.text.x = element_text(angle = 90, hjust = 1, vjust = 0.5)) + \n",
    "    ylab(\"log Score\")\n",
    "reset.fig()"
   ]
  },
  {
   "cell_type": "markdown",
   "id": "e76a655f",
   "metadata": {},
   "source": [
    "## Visualising gene expressions in cells\n",
    "\n",
    "### Single gene expression\n",
    "\n",
    "In the following plots we visualise the expression of `XIST` (expressed in female) and `DDX3Y` (expressed in male) in individual cells in human samples. The genes in mouse are `Xist` and `Ddx3y` respectively.\n",
    "\n",
    "<div class=\"alert alert-warning\">\n",
    "    For <strong>Flex Gene Expression</strong> dataset, <code>XIST</code>/<code>Xist</code> is not available in the feature list, use other X-linked genes instead, such as <code>RLIM</code>/<code>Rlim</code>, <code>LAMP2</code>/<code>Lamp2</code>, and <code>ATRX</code>/<code>Atrx</code>.\n",
    "</div>"
   ]
  },
  {
   "cell_type": "code",
   "execution_count": null,
   "id": "a6375282",
   "metadata": {},
   "outputs": [],
   "source": [
    "p1 <- plotProjection(combined, \"RLIM\", \"MNN-TSNE\", feat_color = c_heatmap_col1, other_fields = \"Sample\", \n",
    "                     point_size = 0.1, theme_size = 16) + facet_wrap(~ Sample, nrow = 1)\n",
    "p2 <- plotProjection(combined, \"DDX3Y\", \"MNN-TSNE\", feat_color = c_heatmap_col1, other_fields = \"Sample\", \n",
    "                     point_size = 0.1, theme_size = 16) + facet_wrap(~ Sample, nrow = 1)\n",
    "\n",
    "fig(width = 16, height = 12)\n",
    "plot_grid(p1, p2, align = \"vh\", nrow = 2)\n",
    "reset.fig()"
   ]
  },
  {
   "cell_type": "markdown",
   "id": "8b9fc96f",
   "metadata": {},
   "source": [
    "## Output average expression (logcounts) \n",
    "\n",
    "Set outfile prefix"
   ]
  },
  {
   "cell_type": "code",
   "execution_count": null,
   "id": "96dd9172",
   "metadata": {},
   "outputs": [],
   "source": [
    "# Set outfile ID\n",
    "file_id <- \"160k_All\"\n",
    "file_id"
   ]
  },
  {
   "cell_type": "markdown",
   "id": "99fdab0f",
   "metadata": {},
   "source": [
    "Create a `dgCMatrix` logcounts matrix for faster computation in some steps."
   ]
  },
  {
   "cell_type": "code",
   "execution_count": null,
   "id": "8324864f",
   "metadata": {},
   "outputs": [],
   "source": [
    "sce_l <- as(logcounts(combined, withDimnames = TRUE), \"dgCMatrix\") # update object with new cell counts"
   ]
  },
  {
   "cell_type": "markdown",
   "id": "378745c8",
   "metadata": {},
   "source": [
    "### Average `logcounts` expression across samples"
   ]
  },
  {
   "cell_type": "code",
   "execution_count": null,
   "id": "db2be781",
   "metadata": {},
   "outputs": [],
   "source": [
    "# Use logcounts from combined\n",
    "ave.expr.sample <- sumCountsAcrossCells(sce_l, average = TRUE, BPPARAM = bpp,\n",
    "                                       ids = DataFrame(Sample = combined$Sample)) %>% \n",
    "    `colnames<-`(.$Sample) %>% assay %>% as.data.frame %>% rownames_to_column(\"Symbol\")\n",
    "head(ave.expr.sample)\n",
    "\n",
    "outfile <- paste0(file_id, \"_average_logcounts_in_samples.tsv\")\n",
    "print(paste(\"Write to file:\", outfile))\n",
    "write.table(ave.expr.sample, file = outfile, sep = \"\\t\", quote = F, row.names = F, col.names = T)"
   ]
  },
  {
   "cell_type": "markdown",
   "id": "515a5b62",
   "metadata": {},
   "source": [
    "### Average `logcounts` expression across clusters"
   ]
  },
  {
   "cell_type": "code",
   "execution_count": null,
   "id": "117703aa",
   "metadata": {},
   "outputs": [],
   "source": [
    "# Use logcounts from combined\n",
    "ave.expr.label <- sumCountsAcrossCells(sce_l, average = TRUE, BPPARAM = bpp,\n",
    "                                       ids = DataFrame(cluster = combined$label)) %>% \n",
    "    `colnames<-`(paste0(\"Cluster\", .$cluster)) %>% assay %>% as.data.frame %>% rownames_to_column(\"Symbol\")\n",
    "head(ave.expr.label)\n",
    "\n",
    "outfile <- paste0(file_id, \"_average_logcounts_in_clusters.tsv\")\n",
    "print(paste(\"Write to file:\", outfile))\n",
    "write.table(ave.expr.label, file = outfile, sep = \"\\t\", quote = F, row.names = F, col.names = T)"
   ]
  },
  {
   "cell_type": "markdown",
   "id": "c0cc739a",
   "metadata": {},
   "source": [
    "### Average `logcounts` expression across conditions"
   ]
  },
  {
   "cell_type": "code",
   "execution_count": null,
   "id": "1050506e",
   "metadata": {},
   "outputs": [],
   "source": [
    "ave.expr.cond <- sumCountsAcrossCells(sce_l, average = TRUE, BPPARAM = bpp,\n",
    "                                      ids = DataFrame(condition = combined$condition)) %>% \n",
    "    `colnames<-`(.$condition) %>% assay %>% as.data.frame %>% rownames_to_column(\"Symbol\")\n",
    "head(ave.expr.cond)\n",
    "\n",
    "outfile <- paste0(file_id, \"_average_logcounts_in_conditions.tsv\")\n",
    "print(paste(\"Write to file:\", outfile))\n",
    "\n",
    "write.table(ave.expr.cond, file = outfile, sep = \"\\t\", quote = F, row.names = F, col.names = T)"
   ]
  },
  {
   "cell_type": "markdown",
   "id": "f9c7cfba",
   "metadata": {},
   "source": [
    "### Average `logcounts` expression across conditions and clusters"
   ]
  },
  {
   "cell_type": "code",
   "execution_count": null,
   "id": "50f7805f",
   "metadata": {},
   "outputs": [],
   "source": [
    "ave.expr.gp <- sumCountsAcrossCells(sce_l, average = TRUE, BPPARAM = bpp,\n",
    "                                    ids = DataFrame(group = paste(combined$label, combined$condition, sep = \"_\"))) %>% \n",
    "    `colnames<-`(paste0(\"Cluster\", .$group)) \n",
    "\n",
    "ave.expr.gp$group <- factor(ave.expr.gp$group, levels = gtools::mixedsort(unique(ave.expr.gp$group)))\n",
    "ave.expr.gp <- ave.expr.gp[,order(ave.expr.gp$group)]\n",
    "ave.expr.gp <- ave.expr.gp %>% assay %>% as.data.frame %>% rownames_to_column(\"Symbol\")\n",
    "head(ave.expr.gp)\n",
    "\n",
    "outfile <- paste0(file_id, \"_average_logcounts_in_groups.tsv\")\n",
    "print(paste(\"Write to file:\", outfile))\n",
    "\n",
    "write.table(ave.expr.gp, file = outfile, sep = \"\\t\", quote = F, row.names = F, col.names = T)"
   ]
  },
  {
   "cell_type": "markdown",
   "id": "0cd116dd",
   "metadata": {},
   "source": [
    "# 6 - Expression of manually selected genes\n",
    "\n",
    "<div class=\"alert alert-info\">\n",
    "    <strong>Tip!</strong> Use known markers to help manual annotation of cell clusters\n",
    "</div>\n",
    "\n",
    "**Show expression profiles of manually selected genes.**\n",
    "\n",
    "T cells: CD3D, CD3E, CD3G\n",
    "\n",
    "- CD4+ T: CD4, CD28, IL7R\n",
    "  - Naive: (see naive markers)\n",
    "  - Memory: ICOS, CCR4, GPR183, SLC2A3, NR3C1\n",
    "  - Th17: RORA, CCR6, RORC\n",
    "  - Effector: CCL5, CXCR3, GZMK, PDE4B\n",
    "  - Regulatory T (Treg): FOXP3, STAM, CTLA4\n",
    "  - CD40LG\n",
    "\n",
    "- CD8+ T: CD8A, KLRK1\n",
    "  - Naive: (see naive markers)\n",
    "  - Tumour-infiltrating (TIL) (with Naive markers): ZEB1, SETD1B, TMEM123, STAT3\n",
    "  - Activated: DUSP4, IL21R, DUSP2, CXCR3\n",
    "  - Terminally differentiated effector (TE): CX3CR1, KLRG1, ADRB2\n",
    "  - Mucosal-associated invariant T (MAIT): KLRB1 (CD161), SLC4A10, LTK, CXCR6, CCR5\n",
    "  - gamma delta (γδ) T: PTPRC (CD45), TRDC, not KLRC1\n",
    "    \n",
    "- Double-negative (DN) T: CD3+ CD4- CD8-\n",
    "- Double-positive (DP) T: CD4, CD8A\n",
    "- Naive: ATM, LEF1, CCR7, TCF7, NELL2, TGFBR2\n",
    "- Cytotoxic : GZMH, CST7, GNLY, CTSW, FGFBP2, GZMB, PRF1, KLRC1, KLRC3, KLRC4, ADGRG1, FCRL6, IKZF2\n",
    "- Inflamed: CCL3, CCL4, IFIT2, IFIT3, ZC3HAV1\n",
    "\n",
    "Natural Killer (NK) cells: CD7, MATK, IL2RB, KLRF1, NCR1\n",
    "\n",
    "Innate lymphoid cells: GATA3, ICAM3\n",
    "   - Group 2 (ILC2): RORA, MAF, PTGDR2, MBOAT2\n",
    "\n",
    "B cells: CD79A, CD22, MS4A1 (CD20)\n",
    "  - Naive: TCL1A, BACH2, IGHM, IGHD\n",
    "  - Activated: CD83, CD55, BACH1, CXCR4, JUND\n",
    "  - Unswitched memory (USM): ARHGAP25, CD24,PARP15, TCF4\n",
    "  - Switched memory (SM): TNFRSF13B, IGHA1, IGHG1\n",
    "\n",
    "Monocytes:\n",
    "- CD14+ (classical): CD14, LYZ, VCAN, S100A8, S100A9, S100A12, TREM1\n",
    "  - Tumour-associated: VEGFA, HIF1A, IER3, THBD, FOSL1\n",
    "  - Cytokine stimulated: WARS1, IFITM3, GBP1\n",
    "- CD16+ (non-classical): SIGLEC10, TCF7L2, FCGR3A (CD16a), CDKN1C, HES4, CX3CR1\n",
    "\n",
    "Dendritic cells:\n",
    "- CD1C+ DCs: CD1C, CD1D, CD33, CLEC10A, FCER1A\n",
    "- Plasmacytoid dendritic cellS (pDCs): ITM2C, TCF4, LILRA4, CLEC4C, SERPINF1, MZB1"
   ]
  },
  {
   "cell_type": "code",
   "execution_count": null,
   "id": "5cb37b1f",
   "metadata": {},
   "outputs": [],
   "source": [
    "geneNames <- c(\"CD3E\",\"CD3D\",\"CD3G\",\"CD4\",\"CD8A\",\"TGFBR2\",\"CCR7\",\"LEF1\",\"IL7R\",\"TCF7\",\"NELL2\",\"SETD1B\",\"STAT3\",\n",
    "               \"NR3C1\",\"ZEB1\",\"TMEM123\",\"CCR4\",\"CD28\",\"ICOS\",\"CCR6\",\"GPR183\",\"SLC2A3\",\"RORA\",\"MAF\",\"CD40LG\",\n",
    "               \"STAM\",\"FOXP3\",\"CTLA4\",\"GNLY\",\"GZMH\",\"FGFBP2\",\"KLRG1\",\"ADRB2\",\"CCL5\",\"CST7\",\"CTSW\",\"MATK\",\"KLRK1\",\n",
    "               \"ADGRG1\",\"FCRL6\",\"GZMB\",\"DUSP4\",\"PDE4B\",\"CXCR4\",\"IL21R\",\"DUSP2\",\"GZMK\",\"CXCR3\",\"ZC3HAV1\",\"IFIT2\",\n",
    "               \"IFIT3\",\"CCL3\",\"CCL4\",\"IKZF2\",\"KLRC1\",\"KLRC3\",\"KLRC4\",\"CCR5\",\"SLC4A10\",\"LTK\",\"CXCR6\",\"KLRB1\",\n",
    "               \"KLRF1\",\"NCR1\",\"TRDC\",\"ATM\",\"CD7\",\"PRF1\",\"IL2RB\",\"GATA3\",\"ICAM3\",\"RORC\",\"PTGDR2\",\"MBOAT2\",\"BACH2\",\n",
    "               \"CD24\",\"CD22\",\"CD79A\",\"MS4A1\",\"TCL1A\",\"IGHM\",\"IGHD\",\"CD83\",\"BACH1\",\"CD55\",\"JUND\",\"IGHA1\",\n",
    "               \"TNFRSF13B\",\"IGHG1\",\"ARHGAP25\",\"PARP15\",\"S100A12\",\"TREM1\",\"VEGFA\",\"LYZ\",\"CD14\",\"VCAN\",\"S100A8\",\n",
    "               \"S100A9\",\"GBP1\",\"TCF7L2\",\"SIGLEC10\",\"WARS1\",\"IFITM3\",\"HES4\",\"CDKN1C\",\"FCGR3A\",\"CX3CR1\",\"PTPRC\",\n",
    "               \"HIF1A\",\"THBD\",\"IER3\",\"FOSL1\",\"CD1D\",\"CD33\",\"FCER1A\",\"CD1C\",\"CLEC10A\",\"TCF4\",\"MZB1\",\"ITM2C\",\n",
    "               \"LILRA4\",\"CLEC4C\",\"SERPINF1\")\n",
    "length(geneNames)"
   ]
  },
  {
   "cell_type": "code",
   "execution_count": null,
   "id": "7ca0108c",
   "metadata": {},
   "outputs": [],
   "source": [
    "fig(width = 16, height = 30)\n",
    "plotDots(combined, features = geneNames, group = \"label\", zlim = c(-3, 3),\n",
    "              center = TRUE, scale = TRUE) + scale_size(limits = c(0, 1), range = c(0.1, 6)) + \n",
    "    guides(colour = guide_colourbar(title = \"Row (Gene) Z-Score\", barwidth = 10), \n",
    "           size = guide_legend(title = \"Proportion Detected\")) + theme_cowplot(16) + #coord_flip() + \n",
    "    theme(panel.grid.major = element_line(colour = \"gray90\"), \n",
    "          axis.text.x = element_text(angle = 90, hjust = 1, vjust = 0.5), \n",
    "          legend.position = \"top\", legend.justification = \"center\", legend.title.position = \"top\") + \n",
    "    labs(x = \"Cluster\", y = \"Marker Genes\")\n",
    "reset.fig()"
   ]
  },
  {
   "cell_type": "code",
   "execution_count": null,
   "id": "a5976e81",
   "metadata": {},
   "outputs": [],
   "source": [
    "dimname <- \"MNN-UMAP\"\n",
    "\n",
    "p <- as.data.frame(reducedDim(combined, dimname)) %>% \n",
    "    bind_cols(as_tibble(t(logcounts(combined[geneNames,])))) %>% rename(V1 = 1, V2 = 2) %>% \n",
    "    gather(., key = \"Symbol\", value =\"Expression\", -c(V1, V2) ) %>% \n",
    "    mutate_at(vars(Symbol), factor) %>% mutate(Symbol = factor(Symbol, levels = geneNames)) %>%\n",
    "    ggplot(aes(x = V1, y = V2, color = Expression)) + geom_point(size = 0.1, alpha = 0.1) + \n",
    "    facet_wrap(~ Symbol, ncol = 5) + scale_color_viridis(option = \"plasma\", direction = -1) +\n",
    "    theme_classic(base_size = 20) + labs(x = paste(dimname, \"1\"), y = paste(dimname, \"2\"))\n",
    "\n",
    "fig(width = 16, height = 72)\n",
    "p\n",
    "reset.fig()"
   ]
  },
  {
   "cell_type": "markdown",
   "id": "d3091d8e",
   "metadata": {},
   "source": [
    "# 7 - Define per-cluster cell types\n",
    "\n",
    "Introduces 2 new cell type labels:\n",
    "\n",
    "- `CellType_1`: Coarse cell type annotation (same as `ClusterCellType`)\n",
    "- `CellType_2`: Fine (per-cluster) cell type annotation\n",
    "\n",
    "## Define \"Coarse Cell Type\" annotation"
   ]
  },
  {
   "cell_type": "code",
   "execution_count": null,
   "id": "7eeb47f5",
   "metadata": {},
   "outputs": [],
   "source": [
    "combined$CellType_1 <- combined$label\n",
    "levels(combined$CellType_1) <- c(\"CD4 T\",\"CD4 T\",\"CD4 T\",\"CD4 T\",\"CD4 T\",\"CD4 T\",\"CD4 T\",\"CD4 T\",\"CD4 T\",\"CD8 T\",\n",
    "                                 \"CD8 T\",\"CD8 T\",\"CD8 T\",\"CD8 T\",\"CD8 T\",\"CD8 T\",\"CD8 T\",\"CD8 T\",\"gdT\",\"CD8 T\",\n",
    "                                 \"CD8 T\",\"CD8 T\",\"Other T\",\"Other T\",\"Other T\",\"Other T\",\"NK\",\"NK\",\"ILC\",\"B\",\n",
    "                                 \"B\",\"B\",\"B\",\"Monocytes\",\"Monocytes\",\"Monocytes\",\"Monocytes\",\"DCs\",\"DCs\",\n",
    "                                 \"Unknown\",\"Unknown\",\"Doublets\",\"Doublets\",\"Doublets\",\"Doublets\",\"Doublets\")\n",
    "combined$ClusterCellType <- combined$CellType_1"
   ]
  },
  {
   "cell_type": "code",
   "execution_count": null,
   "id": "cb9e719f",
   "metadata": {},
   "outputs": [],
   "source": [
    "table(\"Coarse Cell Type\" = combined$CellType_1, \"Condition\" = combined$condition)"
   ]
  },
  {
   "cell_type": "code",
   "execution_count": null,
   "id": "51410ec1",
   "metadata": {},
   "outputs": [],
   "source": [
    "table(\"Coarse Cell Type\" = combined$CellType_1, \"Clusters\" = combined$label)"
   ]
  },
  {
   "cell_type": "code",
   "execution_count": null,
   "id": "891ec2cc",
   "metadata": {},
   "outputs": [],
   "source": [
    "# Set colours for CellType_1\n",
    "set.seed(10010)\n",
    "c_celltype_col2 <- choosePalette(combined$CellType_1, sample(pals::cols25(nlevels(combined$CellType_1))))\n",
    "\n",
    "# Coloured by CellType_1\n",
    "fig(width = 16, height = 9)\n",
    "plotProjections(combined, \"CellType_1\", dimnames = c(\"MNN-TSNE\", \"MNN-UMAP\"), feat_desc = \"Coarse Cell Type\", \n",
    "                feat_color = c_celltype_col2, text_by = \"label\", point_size = 0.1, point_alpha = 0.1,\n",
    "                text_size = 6, guides_nrow = 1, guides_size = 4, legend_pos = \"bottom\")\n",
    "reset.fig()"
   ]
  },
  {
   "cell_type": "code",
   "execution_count": null,
   "id": "c94adfeb",
   "metadata": {},
   "outputs": [],
   "source": [
    "fig(width = 16, height = 6)\n",
    "data.frame(table(\"ct\" = combined$CellType_1, \"label\" = combined$label, \"Condition\" = combined$condition)) %>% \n",
    "    ggplot(aes(Condition, Freq, fill = ct)) + geom_col() + \n",
    "    facet_wrap(~ ct, nrow = 2, scales = \"free_y\") + scale_fill_manual(values = c_celltype_col2) + \n",
    "    theme_cowplot(16) + guides(fill = guide_legend(\"Coarse CT\", ncol = 1)) +\n",
    "    theme(axis.text.x = element_text(angle = 0, hjust = 0.5, vjust = 1)) + ylab(\"Number of cells\")\n",
    "reset.fig()"
   ]
  },
  {
   "cell_type": "code",
   "execution_count": null,
   "id": "c0e6ac2a",
   "metadata": {},
   "outputs": [],
   "source": [
    "fig(width = 16, height = 6)\n",
    "data.frame(prop.table(table(\"Condition\" = combined$condition, \"ct\" = combined$CellType_1, \"label\" = combined$label), 1)) %>% \n",
    "    ggplot(aes(Condition, Freq, fill = ct)) + geom_col() + \n",
    "    facet_wrap(~ ct, nrow = 2, scales = \"free_y\") + scale_fill_manual(values = c_celltype_col2) + \n",
    "    scale_y_continuous(labels = percent) + theme_cowplot(16) + guides(fill = guide_legend(\"Coarse CT\", ncol = 1)) + \n",
    "    theme(axis.text.x = element_text(angle = 0, hjust = 0.5, vjust = 1)) + ylab(\"% Cells in condition\")\n",
    "reset.fig()"
   ]
  },
  {
   "cell_type": "markdown",
   "id": "be3ce1fd",
   "metadata": {},
   "source": [
    "## Define \"Fine Cell Type\" annotation"
   ]
  },
  {
   "cell_type": "code",
   "execution_count": null,
   "id": "35f74076",
   "metadata": {},
   "outputs": [],
   "source": [
    "combined$CellType_2 <- combined$label\n",
    "levels(combined$CellType_2) <- paste(1:nlevels(combined$label), \n",
    "                                     c(\"Naive CD4 T\",\"ICOS(hi) Momory CD4 T\",\"ICOS(hi) Momory CD4 T\",\n",
    "                                       \"Th17-like T\",\"Effector CD4 T\",\"CD40LG+ CD4 T\",\"Memory Tregs\",\n",
    "                                       \"CTSW- Cytotoxic CD4 T\",\"Inflamed Cytotoxic CD4 T\",\"Naive CD8 T\",\n",
    "                                       \"CD8 TILs\",\"Naive-like Activated CD8 T\",\"Activated CD8(hi) T\",\n",
    "                                       \"Activated CD8(lo) T\",\"Inflamed Activated CD8 T\",\"CD16(lo) Cytotoxic CD8 T\",\n",
    "                                       \"CD16+ Cytotoxic CD8 T\",\"CD16+ Inflamed Cytotoxic CD8 T\",\"gdT\",\n",
    "                                       \"TE CD8(lo) T\",\"TE CD8(hi) T\",\"MAITs\",\"DP T\",\"Cytotoxic DP T\",\n",
    "                                       \"Cytotoxic DP T\",\"Activated DN T\",\"NK\",\"Inflamed NK\",\"ILC2\",\"Naive B\",\n",
    "                                       \"Activated B\",\"USM B\",\"SM B\",\"CD14 Monocytes\",\"Stimulated CD14 Monocytes\",\n",
    "                                       \"CD16 Monocytes\",\"CD14 TAM\",\"CD1C+ DCs\",\"pDCs\",\"Cytotoxic-like\",\n",
    "                                       \"Momory-like\",\"Naive T/TIL/NK\",\"Naive T/Effect T/NK\",\"B/T\",\"Monocytes/T\",\n",
    "                                       \"B/Monocytes\"))"
   ]
  },
  {
   "cell_type": "code",
   "execution_count": null,
   "id": "e6fbfc37",
   "metadata": {},
   "outputs": [],
   "source": [
    "table(\"Fine Cell Type\" = combined$CellType_2, \"Condition\" = combined$condition)"
   ]
  },
  {
   "cell_type": "code",
   "execution_count": null,
   "id": "f80d3f9e",
   "metadata": {},
   "outputs": [],
   "source": [
    "# Set colours for CellType_2\n",
    "c_celltype_col3 <- choosePalette(combined$CellType_2, c_clust_col) # same colour as cluster colours\n",
    "\n",
    "# Coloured by CellType_2\n",
    "fig(width = 16, height = 11)\n",
    "plotProjections(combined, \"CellType_2\", dimnames = c(\"MNN-TSNE\", \"MNN-UMAP\"), feat_desc = \"Fine Cell Type\", \n",
    "                feat_color = c_celltype_col3, text_by = \"label\", point_size = 0.1, point_alpha = 0.1,\n",
    "                text_size = 6, guides_nrow = 10, guides_size = 4, legend_pos = \"bottom\", rel_height = c(6, 2))\n",
    "reset.fig()"
   ]
  },
  {
   "cell_type": "code",
   "execution_count": null,
   "id": "e42fb534",
   "metadata": {},
   "outputs": [],
   "source": [
    "fig(width = 16, height = 22)\n",
    "data.frame(table(\"ct\" = combined$CellType_2, \"label\" = combined$label, \"Condition\" = combined$condition)) %>% \n",
    "    ggplot(aes(Condition, Freq, fill = ct)) + geom_col() + facet_wrap(~ ct, ncol = 5, scales = \"free_y\") + \n",
    "    scale_fill_manual(values = c_celltype_col3) + theme_cowplot(16) + guides(fill = \"none\") +\n",
    "    theme(axis.text.x = element_text(angle = 0, hjust = 0.5, vjust = 1)) + ylab(\"Number of cells\")\n",
    "reset.fig()"
   ]
  },
  {
   "cell_type": "code",
   "execution_count": null,
   "id": "e2f5dfef",
   "metadata": {},
   "outputs": [],
   "source": [
    "fig(width = 16, height = 22)\n",
    "data.frame(prop.table(table(\"Condition\" = combined$condition, \"ct\" = combined$CellType_2, \"label\" = combined$label), 1)) %>% \n",
    "    ggplot(aes(Condition, Freq, fill = ct)) + geom_col() + facet_wrap(~ ct, ncol = 5, scales = \"free_y\") + \n",
    "    scale_fill_manual(values = c_celltype_col3) + scale_y_continuous(labels = percent) + \n",
    "    theme_cowplot(16) + guides(fill = \"none\") +\n",
    "    theme(axis.text.x = element_text(angle = 0, hjust = 0.5, vjust = 1)) + ylab(\"% Cells in condition\")\n",
    "reset.fig()"
   ]
  },
  {
   "cell_type": "markdown",
   "id": "2fe47b9c",
   "metadata": {},
   "source": [
    "# 8 - Marker gene detection\n",
    "\n",
    "Potential marker genes are identified by taking the top set of DE genes from each pairwise comparison between clusters. The results are arranged into a single output table that allows a marker set to be easily defined for a user-specified size of the top set. For example, to construct a marker set from the top 10 genes of each comparison, one would filter `marker.set` to retain rows with Top less than or equal to 10.\n",
    "\n",
    "<div class=\"alert alert-warning\">\n",
    "  <strong>Warning!</strong> Take note of any poor clusters in the silhouette plot and consider how trustworthy the marker genes actually are.\n",
    "</div>\n",
    "\n",
    "Here we are going to use `findMarkers` from `scran` package as this is much faster. \n",
    "\n",
    "## Decided the `pval.type` and `min.prop` settings\n",
    "\n",
    "- Use `pval.type` to specify how p-values are to be combined across pairwise comparisons for a given group/cluster. Defaults `pval.type` is `\"any\"`.\n",
    "- Use `min.prop` to specify the minimum proportion of significant comparisons per gene. Defaults `min.prop` is 0.5 when `pval.type=\"some\"`, and zero for all other `pval.type` options.\n",
    "\n",
    "The choice of `pval.type` determines whether the highly ranked genes are those that are DE between the current group and:\n",
    "\n",
    "### 1. DE against any other cluster (\"any\")\n",
    "\n",
    "If `pval.type=\"any\"`, the null hypothesis is that the **gene is not DE in as least 1 contrasts**. This approach does not explicitly favour genes that are uniquely expressed in a cluster. Rather, it focuses on combinations of genes that - together - drive separation of a cluster from the others. This is more general and robust but tends to yield a less focused marker set compared to the other `pval.type` settings.\n",
    "\n",
    "Using `pval.type=\"any\"`, the result will contain a `Top` column that shows the minimum rank across all pairwise comparisons. For example, if we define a marker set with an `T` of 1 for a given cluster. The set of genes with `Top <= 1` will contain the top gene from each pairwise comparison to every other cluster. If `T` is `5`, the set will consist of the union of the top 5 genes from each pairwise comparison. This approach does not explicitly favour genes that are uniquely expressed in a cluster. Rather, it focuses on combinations of genes that - together - drive separation of a cluster from the others. This is more general and robust but tends to yield a less focused marker set compared to the other `pval.type` settings.\n",
    "\n",
    "### 2. DE against all other clusters (\"all\")\n",
    "\n",
    "If `pval.type=\"all\"`, the null hypothesis is that the **gene is not DE in all contrasts**. This strategy is particularly effective when dealing with distinct clusters that have a unique expression profile. In such cases, it yields a highly focused marker set that concisely captures the differences between clusters. However, it can be too stringent if the cluster's separation is driven by combinations of gene expression. \n",
    "\n",
    "### 3. DE against some (50%) other clusters (\"some\")\n",
    "\n",
    "The `pval.type=\"some\"` setting serves as a compromise between \"all\" and \"any\". A combined p-value is calculated by taking the middlemost value of the Holm-corrected p-values for each gene. Here, the null hypothesis is that the **gene is not DE in at least half of the contrasts**.\n",
    "\n",
    "### 4. DE against some other clusters (rank-style)\n",
    "\n",
    "This is achieved by setting `pval.type=\"any\"` with `min.prop` set to some positive value in (0, 1). Here, we are selecting high-ranked genes that are among the top-ranked (`Top`) genes in at least `min.prop` of the pairwise comparisons\n",
    "\n",
    "For example, if `pval.type=\"any\", min.prop=0.3`, any gene with a value of `Top` less than or equal to 5 will be in the top 5 DEGs of at least 30% of the comparisons. This method increases the stringency of the `\"any\"` setting in a safer manner than `pval.type=\"some\"`.\n",
    "\n",
    "More explanation can be found by `?findMarkers`, `?combineMarkers` and `?combinePValues`.\n",
    "\n",
    "## Find marker genes for clusters\n",
    "\n",
    "<div class=\"alert alert-warning\">\n",
    "  <strong>Warning!</strong> All doublet clusters are not included in the marker analysis.\n",
    "</div>"
   ]
  },
  {
   "cell_type": "code",
   "execution_count": null,
   "id": "c08fd96e",
   "metadata": {},
   "outputs": [],
   "source": [
    "not_doublets <- combined$CellType_1 != \"Doublets\"\n",
    "table(not_doublets)"
   ]
  },
  {
   "cell_type": "markdown",
   "id": "b9a333dc",
   "metadata": {},
   "source": [
    "### Run `findMarkers` (both directions)\n",
    "\n",
    "Considers both up- and downregulated genes to be potential markers."
   ]
  },
  {
   "cell_type": "code",
   "execution_count": null,
   "id": "95eba298",
   "metadata": {},
   "outputs": [],
   "source": [
    "# Set pval.type (and min.prop if using \"any\")\n",
    "pval.type <- \"any\"\n",
    "min.prop <- 0.3\n",
    "\n",
    "# Using logcounts from combined\n",
    "marker.genes.cluster <- findMarkers(sce_l[, not_doublets], groups = droplevels(combined$label[not_doublets]),\n",
    "                                    #blocking on uninteresting factors\n",
    "                                    block = droplevels(combined$condition[not_doublets]),\n",
    "                                    pval.type = pval.type, min.prop = min.prop, BPPARAM = bpp)\n",
    "marker.genes.cluster"
   ]
  },
  {
   "cell_type": "markdown",
   "id": "0bc64018",
   "metadata": {},
   "source": [
    "Print the number of markers that passed the FDR or `Top` threshold. This will be the number of genes as inut for `enrichR`."
   ]
  },
  {
   "cell_type": "code",
   "execution_count": null,
   "id": "f50665cc",
   "metadata": {},
   "outputs": [],
   "source": [
    "printMarkerStats(marker.genes.cluster, pval.type = pval.type, min.prop = min.prop)"
   ]
  },
  {
   "cell_type": "code",
   "execution_count": null,
   "id": "f0882590",
   "metadata": {},
   "outputs": [],
   "source": [
    "for(ID in names(marker.genes.cluster)) {\n",
    "    # Append Ensembl ID and Symbol from rowData\n",
    "    marker.genes.cluster[[ID]] <- cbind(rowData(combined)[rownames(marker.genes.cluster[[ID]]),][,1:2], \n",
    "                                        marker.genes.cluster[[ID]])\n",
    "}\n",
    "\n",
    "exportResList(marker.genes.cluster, col_anno = c(\"ID\",\"Symbol\"), prefix = paste0(file_id, \"_cluster\"))"
   ]
  },
  {
   "cell_type": "markdown",
   "id": "fe264e5f",
   "metadata": {},
   "source": [
    "### Run `findMarkers` (upregulated genes)\n",
    "\n",
    "Set `direction='up'` to only consider upregulated genes as potential markers."
   ]
  },
  {
   "cell_type": "code",
   "execution_count": null,
   "id": "9a162f1b",
   "metadata": {},
   "outputs": [],
   "source": [
    "# Set pval.type (and min.prop if using \"any\")\n",
    "pval.type <- \"any\"\n",
    "min.prop <- 0.3\n",
    "direction <- \"up\"\n",
    "\n",
    "# Using logcounts from combined\n",
    "marker.genes.cluster.up <- findMarkers(sce_l[, not_doublets], groups = droplevels(combined$label[not_doublets]),\n",
    "                                       #blocking on uninteresting factors\n",
    "                                       block = droplevels(combined$condition[not_doublets]), \n",
    "                                       pval.type = pval.type, min.prop = min.prop,\n",
    "                                       lfc = 0.5, direction = direction, BPPARAM = bpp)\n",
    "marker.genes.cluster.up"
   ]
  },
  {
   "cell_type": "markdown",
   "id": "c76e3d62",
   "metadata": {},
   "source": [
    "Print the number of markers that passed the FDR or `Top` threshold. This will be the number of genes as inut for `enrichR`."
   ]
  },
  {
   "cell_type": "code",
   "execution_count": null,
   "id": "69005f2e",
   "metadata": {},
   "outputs": [],
   "source": [
    "printMarkerStats(marker.genes.cluster.up, pval.type = pval.type, min.prop = min.prop)"
   ]
  },
  {
   "cell_type": "code",
   "execution_count": null,
   "id": "a3ebd853",
   "metadata": {},
   "outputs": [],
   "source": [
    "# Append Ensembl ID and Symbol from rowData\n",
    "for(ID in names(marker.genes.cluster.up)) {\n",
    "    marker.genes.cluster.up[[ID]] <- cbind(rowData(combined)[rownames(marker.genes.cluster.up[[ID]]),][,1:2], \n",
    "                                           marker.genes.cluster.up[[ID]])\n",
    "}\n",
    "\n",
    "exportResList(marker.genes.cluster.up, col_anno = c(\"ID\",\"Symbol\"), prefix = paste0(file_id, \"_cluster\"), \n",
    "              direction = direction)"
   ]
  },
  {
   "cell_type": "markdown",
   "id": "fbee5502",
   "metadata": {},
   "source": [
    "### Run `findMarkers` (downregulated genes)\n",
    "\n",
    "Set `direction='down'` to only consider downregulated genes as potential markers."
   ]
  },
  {
   "cell_type": "code",
   "execution_count": null,
   "id": "3faa88bc",
   "metadata": {},
   "outputs": [],
   "source": [
    "# Set pval.type (and min.prop if using \"any\")\n",
    "pval.type <- \"any\"\n",
    "min.prop <- 0.3\n",
    "direction <- \"down\"\n",
    "\n",
    "# Using logcounts from combined\n",
    "marker.genes.cluster.dn <- findMarkers(sce_l[, not_doublets], groups = droplevels(combined$label[not_doublets]),\n",
    "                                       #blocking on uninteresting factors\n",
    "                                       block = droplevels(combined$condition[not_doublets]), \n",
    "                                       pval.type = pval.type, min.prop = min.prop,\n",
    "                                       lfc = 0.5, direction = direction, BPPARAM = bpp)\n",
    "marker.genes.cluster.dn"
   ]
  },
  {
   "cell_type": "markdown",
   "id": "ce1d604e",
   "metadata": {},
   "source": [
    "Print the number of markers that passed the FDR or `Top` threshold. This will be the number of genes as inut for `enrichR`."
   ]
  },
  {
   "cell_type": "code",
   "execution_count": null,
   "id": "c54f7c72",
   "metadata": {},
   "outputs": [],
   "source": [
    "printMarkerStats(marker.genes.cluster.dn, pval.type = pval.type, min.prop = min.prop)"
   ]
  },
  {
   "cell_type": "code",
   "execution_count": null,
   "id": "222d7a9e",
   "metadata": {},
   "outputs": [],
   "source": [
    "# Append Ensembl ID and Symbol from rowData\n",
    "for(ID in names(marker.genes.cluster.dn)) {\n",
    "    marker.genes.cluster.dn[[ID]] <- cbind(rowData(combined)[rownames(marker.genes.cluster.dn[[ID]]),][,1:2], \n",
    "                                                marker.genes.cluster.dn[[ID]])\n",
    "}\n",
    "\n",
    "exportResList(marker.genes.cluster.dn, col_anno = c(\"ID\",\"Symbol\"), prefix = paste0(file_id, \"_cluster\"), \n",
    "              direction = direction)"
   ]
  },
  {
   "cell_type": "markdown",
   "id": "e6d780db",
   "metadata": {},
   "source": [
    "## Save `findMarkers` results to `metadata`\n",
    "\n",
    "<div class=\"alert alert-info\">\n",
    "    <strong>Tip!</strong> In the accompanied Shiny App, it will look for list(s) named with \"findMarkers_\" in the prefix in <code>metadata()</code> and show their content under the <u>Gene markers</u> section of the website. In the example below, the content of the 3 lists will be displayed in their respective sub-menus under the following titles: \n",
    "    <ul>\n",
    "        <li>Cluster</li>\n",
    "        <li>Cluster: up</li>\n",
    "        <li>Cluster: dn</li>\n",
    "    </ul>\n",
    "</div>"
   ]
  },
  {
   "cell_type": "code",
   "execution_count": null,
   "id": "f36f9d72",
   "metadata": {},
   "outputs": [],
   "source": [
    "metadata(combined)[['findMarkers_Cluster']] <- marker.genes.cluster\n",
    "metadata(combined)[['findMarkers_Cluster_up']] <- marker.genes.cluster.up\n",
    "metadata(combined)[['findMarkers_Cluster_dn']] <- marker.genes.cluster.dn"
   ]
  },
  {
   "cell_type": "markdown",
   "id": "366c02a3",
   "metadata": {},
   "source": [
    "## Use cluster marker genes to show cluster similarities"
   ]
  },
  {
   "cell_type": "code",
   "execution_count": null,
   "id": "0788a8b2",
   "metadata": {},
   "outputs": [],
   "source": [
    "nGene <- 200\n",
    "geneNames <- sapply(marker.genes.cluster, function(x) rownames(x[1:nGene,]))\n",
    "\n",
    "geneNames <- unique(as.character(geneNames)) # Remove duplicated genes\n",
    "print(paste(\"Number of genes to plot:\", length(geneNames)))"
   ]
  },
  {
   "cell_type": "code",
   "execution_count": null,
   "id": "3fb6337e",
   "metadata": {},
   "outputs": [],
   "source": [
    "fig(width = 16, height = 10)\n",
    "plotGroupedHeatmap(combined, features = geneNames, group = \"CellType_2\", clustering_method = \"ward.D2\", \n",
    "                   border_color = \"black\", color = c_heatmap_col2, fontsize = 16, angle_col = 90,\n",
    "                   center = TRUE, scale = TRUE, zlim = c(-3, 3), main = \"Row-scaled\", show_rownames = FALSE)\n",
    "reset.fig()"
   ]
  },
  {
   "cell_type": "markdown",
   "id": "666e1bb3",
   "metadata": {},
   "source": [
    "## Visualise first N cluster marker genes\n",
    "\n",
    "Use `findMarkers` result from both directions. We aimed to present between 50 to 100 genes in the heatmap."
   ]
  },
  {
   "cell_type": "code",
   "execution_count": null,
   "id": "e79ea0e6",
   "metadata": {},
   "outputs": [],
   "source": [
    "nGene <- 4\n",
    "geneNames <- sapply(marker.genes.cluster, function(x) rownames(x[1:nGene,]))\n",
    "t(geneNames) # A matrix\n",
    "\n",
    "geneNames <- unique(as.character(geneNames)) # Remove duplicated genes\n",
    "print(paste(\"Number of genes to plot:\", length(geneNames)))"
   ]
  },
  {
   "cell_type": "markdown",
   "id": "c8b9fc27",
   "metadata": {},
   "source": [
    "Alternatively, use genes identified from up- and downregulated `findMarkers` results."
   ]
  },
  {
   "cell_type": "code",
   "execution_count": null,
   "id": "23afaa0d",
   "metadata": {},
   "outputs": [],
   "source": [
    "#nGene <- 5\n",
    "#geneNames1 <- sapply(marker.genes.cluster.up, function(x) rownames(x[1:nGene,]))\n",
    "#geneNames1 # A matrix\n",
    "\n",
    "#geneNames2 <- sapply(marker.genes.cluster.dn, function(x) rownames(x[1:nGene,]))\n",
    "#geneNames2 # A matrix\n",
    "\n",
    "#geneNames <- unique(c(as.character(geneNames1), as.character(geneNames2))) # Remove duplicated genes\n",
    "#print(paste(\"Number of genes to plot:\", length(geneNames)))"
   ]
  },
  {
   "cell_type": "code",
   "execution_count": null,
   "id": "422dd368",
   "metadata": {},
   "outputs": [],
   "source": [
    "p1 <- plotGroupedHeatmap(combined, features = geneNames, group = \"label\", clustering_method = \"ward.D2\", \n",
    "                         border_color = \"black\", color = c_heatmap_col1, fontsize = 12, angle_col = 90, \n",
    "                         main = \"Unscaled\", silent = T)\n",
    "\n",
    "p2 <- plotGroupedHeatmap(combined, features = geneNames, group = \"label\", clustering_method = \"ward.D2\", \n",
    "                         border_color = \"black\", color = c_heatmap_col2, fontsize = 12, angle_col = 90,\n",
    "                         center = TRUE, scale = TRUE, zlim = c(-3, 3), main = \"Row-scaled\", silent = T)\n",
    "\n",
    "fig(width = 16, height = 18)\n",
    "plot(p1$gtable)\n",
    "plot(p2$gtable)\n",
    "reset.fig()"
   ]
  },
  {
   "cell_type": "code",
   "execution_count": null,
   "id": "cc91a27a",
   "metadata": {},
   "outputs": [],
   "source": [
    "fig(width = 16, height = 20)\n",
    "plotDots(combined, features = geneNames[p2$tree_row$order], group = \"label\", zlim = c(-3, 3), \n",
    "         center = TRUE, scale = TRUE) + scale_size(limits = c(0, 1), range = c(0.1, 6)) + \n",
    "    scale_y_discrete(limits = geneNames[p2$tree_row$order]) + # order genes based on heatmap p2 above\n",
    "    scale_x_discrete(limits = p2$tree_col$labels[p2$tree_col$order]) + # order clusters based on heatmap p2 above\n",
    "    guides(colour = guide_colourbar(title = \"Row (Gene) Z-Score\", barwidth = 10), \n",
    "           size = guide_legend(title = \"Proportion Detected\")) + theme_cowplot(16) + #coord_flip() +\n",
    "    theme(panel.grid.major = element_line(colour = \"gray90\"), \n",
    "          axis.text.x = element_text(angle = 90, hjust = 1, vjust = 0.5), \n",
    "          legend.position = \"top\", legend.justification = \"center\", legend.title.position = \"top\") + \n",
    "    labs(x = \"Cluster\", y = \"Genes\")\n",
    "reset.fig()"
   ]
  },
  {
   "cell_type": "markdown",
   "id": "46c52d28",
   "metadata": {},
   "source": [
    "## Visualise first upregulated marker genes from each cluster"
   ]
  },
  {
   "cell_type": "code",
   "execution_count": null,
   "id": "05f2dc9a",
   "metadata": {},
   "outputs": [],
   "source": [
    "geneNames <- sapply(marker.genes.cluster.up, function(x) rownames(x[1,]))\n",
    "#geneNames\n",
    "\n",
    "df <- data.frame(cluster = names(geneNames), gene = geneNames) %>% group_by(gene) %>% \n",
    "    summarise(cluster = paste(cluster, collapse = \",\")) %>% \n",
    "    mutate(order = as.numeric(str_replace(cluster, \",.*\", \"\"))) %>% arrange(order)\n",
    "df\n",
    "\n",
    "print(paste(\"Number of genes to plot:\", nrow(df)))"
   ]
  },
  {
   "cell_type": "code",
   "execution_count": null,
   "id": "60a9b5b7",
   "metadata": {},
   "outputs": [],
   "source": [
    "p1 <- plotGroupedHeatmap(combined, features = df$gene, group = \"label\", clustering_method = \"ward.D2\", \n",
    "                         border_color = \"black\", color = c_heatmap_col1, fontsize = 12, angle_col = 90, \n",
    "                         main = \"Unscaled\", silent = T)\n",
    "\n",
    "p2 <- plotGroupedHeatmap(combined, features = df$gene, group = \"label\", clustering_method = \"ward.D2\", \n",
    "                         border_color = \"black\", color = c_heatmap_col2, fontsize = 12, angle_col = 90,\n",
    "                         center = TRUE, scale = TRUE, zlim = c(-3, 3), main = \"Row-scaled\", silent = T)\n",
    "\n",
    "fig(width = 16, height = 7)\n",
    "plot(p1$gtable)\n",
    "plot(p2$gtable)\n",
    "reset.fig()"
   ]
  },
  {
   "cell_type": "code",
   "execution_count": null,
   "id": "44292843",
   "metadata": {},
   "outputs": [],
   "source": [
    "fig(width = 16, height = 7)\n",
    "plotDots(combined, features = df$gene[p2$tree_row$order], group = \"label\", zlim = c(-3, 3), \n",
    "         center = TRUE, scale = TRUE) + scale_size(limits = c(0, 1), range = c(0.1, 6)) + \n",
    "    scale_y_discrete(limits = df$gene[p2$tree_row$order]) + # order genes based on heatmap p2 above\n",
    "    scale_x_discrete(limits = p2$tree_col$labels[p2$tree_col$order]) + # order clusters based on heatmap p2 above\n",
    "    guides(colour = guide_colourbar(title = \"Row (Gene) Z-Score\", barwidth = 10), \n",
    "           size = guide_legend(title = \"Proportion Detected\")) + theme_cowplot(16) + #coord_flip() +\n",
    "    theme(panel.grid.major = element_line(colour = \"gray90\"), \n",
    "          axis.text.x = element_text(angle = 90, hjust = 1, vjust = 0.5), \n",
    "          legend.position = \"top\", legend.justification = \"center\", legend.title.position = \"top\") + \n",
    "    labs(x = \"Cluster\", y = \"Genes\")\n",
    "reset.fig()"
   ]
  },
  {
   "cell_type": "code",
   "execution_count": null,
   "id": "8e762719",
   "metadata": {},
   "outputs": [],
   "source": [
    "dimname <- \"MNN-TSNE\"\n",
    "\n",
    "fig(width = 16, height = 15)\n",
    "as.data.frame(reducedDim(combined, dimname)) %>% `colnames<-`(c(\"V1\",\"V2\")) %>%\n",
    "    bind_cols(as_tibble(t(logcounts(combined[df$gene,])))) %>%\n",
    "    gather(., key = \"Symbol\", value = \"Expression\", -c(V1, V2) ) %>% \n",
    "    mutate_at(vars(Symbol), factor) %>% mutate(Symbol = factor(Symbol, levels = df$gene)) %>%\n",
    "    ggplot(aes(x = V1, y = V2, color = Expression)) + geom_point(size = 0.3, alpha = 0.3) + \n",
    "    facet_wrap(~ Symbol, ncol = 5, \n",
    "               labeller = as_labeller(function(x) paste0(df$cluster,\": \", x))) + # add cluster id\n",
    "    scale_color_viridis(option = \"plasma\", direction = -1) +\n",
    "    theme_classic(base_size = 20) + labs(x = paste(dimname, \"1\"), y = paste(dimname, \"2\"))\n",
    "reset.fig()"
   ]
  },
  {
   "cell_type": "markdown",
   "id": "0b663a55",
   "metadata": {},
   "source": [
    "# 9 - DE analysis between conditions\n",
    "\n",
    "## Prepare input\n",
    "\n",
    "**Excluded celltypes and/or clusters**\n",
    "\n",
    "*Assuming excluding 'Other T', 'ILC', 'DC', 'Unknown' and 'Doublets'*\n",
    "\n",
    "- Cluster 23 DP T\n",
    "- Cluster 24 Cytotoxic DP T\n",
    "- Cluster 25 Cytotoxic DP T\n",
    "- Cluster 26 Activated DN T\n",
    "- Cluster 29 ILC2\n",
    "- Cluster 38 CD1C+ DCs\n",
    "- Cluster 39 pDCs\n",
    "- Cluster 40 Cytotoxic-like\n",
    "- Cluster 41 Momory-like\n",
    "- Clusters 42-46 Doublets"
   ]
  },
  {
   "cell_type": "code",
   "execution_count": null,
   "id": "83f7e530",
   "metadata": {},
   "outputs": [],
   "source": [
    "table(combined$CellType_1, combined$Sample)"
   ]
  },
  {
   "cell_type": "code",
   "execution_count": null,
   "id": "cf06e455",
   "metadata": {},
   "outputs": [],
   "source": [
    "table(\"Cells kept\" = !combined$CellType_1 %in% c(\"Other T\",\"ILC\",\"DC\",\"Unknown\",\"Doublets\"))\n",
    "\n",
    "kept <- combined[,!combined$CellType_1 %in% c(\"Other T\",\"ILC\",\"DC\",\"Unknown\",\"Doublets\")]\n",
    "colData(kept) <- droplevels(colData(kept))\n",
    "\n",
    "# remove whitespaces from CellType_1, which we'll use later\n",
    "levels(kept$CellType_1) <- gsub(\"\\\\s*\",\"\", levels(kept$CellType_1))\n",
    "\n",
    "# Remove genes not expressed at all\n",
    "is.exp <- rowSums(counts(kept) > 0) > 1\n",
    "table(\"Is expressed\" = is.exp)\n",
    "\n",
    "kept <- kept[is.exp,]\n",
    "kept"
   ]
  },
  {
   "cell_type": "markdown",
   "id": "65324805",
   "metadata": {},
   "source": [
    "Create a `dgCMatrix` counts matrix for faster computation in some steps."
   ]
  },
  {
   "cell_type": "code",
   "execution_count": null,
   "id": "e15e7f98",
   "metadata": {},
   "outputs": [],
   "source": [
    "kept_c <- as(counts(kept, withDimnames = TRUE), \"dgCMatrix\")"
   ]
  },
  {
   "cell_type": "markdown",
   "id": "31192aa5",
   "metadata": {},
   "source": [
    "## Creating pseudo-bulk samples\n",
    "\n",
    "We sum counts together from cells with the same combination of selected features. See [OSCA reference](https://bioconductor.org/books/3.20/OSCA.multisample/multi-sample-comparisons.html)\n",
    "\n",
    "<div class=\"alert alert-warning\">\n",
    "    <strong>Warning!</strong> Change the <code>\"ids\" DataFrame</code> to include the factors where the unique combination of levels is used to define a group.\n",
    "</div>"
   ]
  },
  {
   "cell_type": "code",
   "execution_count": null,
   "id": "2f36a307",
   "metadata": {},
   "outputs": [],
   "source": [
    "summed <- aggregateAcrossCells(kept, id = colData(kept)[,c(\"Sample\",\"CellType_1\")], BPPARAM = bpp)\n",
    "colData(summed) <- droplevels(colData(summed))\n",
    "sizeFactors(summed) <- NULL\n",
    "summed <- logNormCounts(summed) # Add logcounts\n",
    "summed"
   ]
  },
  {
   "cell_type": "markdown",
   "id": "ceba3638",
   "metadata": {},
   "source": [
    "### Add column names to `summed`\n",
    "\n",
    "<div class=\"alert alert-warning\">\n",
    "    <strong>Warning!</strong> Very important to define the column name of the <code>summed</code> object, i.e. a unique ID for each pseudo-bulk sample in <code>colData</code>. This is so that the <code>DGEList</code> object in the following edgeR analysis is created with the approprate row names for the <code>samples</code> slot.\n",
    "</div>"
   ]
  },
  {
   "cell_type": "code",
   "execution_count": null,
   "id": "4866620f",
   "metadata": {},
   "outputs": [],
   "source": [
    "summed$PseudoSample <- paste(summed$Sample, summed$CellType_1, sep = \"_\")\n",
    "summed$PseudoSample <- as.factor(summed$PseudoSample)\n",
    "summed$PseudoSample <- factor(summed$PseudoSample, levels = gtools::mixedsort(levels(summed$PseudoSample)))\n",
    "colnames(summed) <- summed$PseudoSample"
   ]
  },
  {
   "cell_type": "code",
   "execution_count": null,
   "id": "89beaa2e",
   "metadata": {},
   "outputs": [],
   "source": [
    "fig(width = 16, height = 8)\n",
    "as.data.frame(colData(summed)[,c(\"PseudoSample\",\"condition\",\"ncells\")]) %>% \n",
    "    ggplot(aes(PseudoSample, ncells, fill = condition)) + geom_col() + \n",
    "    geom_text(aes(label = ncells), hjust = -0.1, size = 4) + coord_flip() + \n",
    "    scale_y_continuous(limits = c(0, 11000), expand = c(0, 0)) + scale_fill_manual(values = c_cond_col) + \n",
    "    theme_cowplot(16) + theme(legend.position = \"top\") + ylab(\"Number of cells\")\n",
    "reset.fig()"
   ]
  },
  {
   "cell_type": "markdown",
   "id": "fbb56088",
   "metadata": {},
   "source": [
    "## Perform DE analysis between conditions\n",
    "\n",
    "[DESeq2](https://bioconductor.org/packages/release/bioc/html/DESeq2.html) or [edgeR](https://bioconductor.org/packages/release/bioc/html/edgeR.html): For data with a high level of multimodality (data heterogeneity) methods that consider the behavior of each individual gene, such as DESeq2 show better true positive rates (sensitivities). If the level of multimodality is low, however, edgeR can provide higher precision. [Reference](https://bmcbioinformatics.biomedcentral.com/articles/10.1186/s12859-019-2599-6)\n",
    "\n",
    "Here we use edgeR to perform DE analysis.\n",
    "\n",
    "### Create DGEList data object\n",
    "\n",
    "<div class=\"alert alert-warning\">\n",
    "    <strong>Warning!</strong> Change the information to be added to the <code>samples</code> slot.\n",
    "</div>"
   ]
  },
  {
   "cell_type": "code",
   "execution_count": null,
   "id": "bba6fb38",
   "metadata": {},
   "outputs": [],
   "source": [
    "y <- DGEList(counts(summed), samples = colData(summed)[,c(\"PseudoSample\",\"ncells\",\"condition\",\"CellType_1\")], \n",
    "             genes = rowData(summed)[,c(\"ID\",\"Symbol\")])\n",
    "\n",
    "# Removing sample that have very few or lowly-sequenced cells\n",
    "# In this case, we remove combinations containing fewer than 10 cells\n",
    "discarded <- y$samples$ncells < 10\n",
    "y <- y[,!discarded]\n",
    "summary(discarded)"
   ]
  },
  {
   "cell_type": "markdown",
   "id": "3676d0e3",
   "metadata": {},
   "source": [
    "### Set design matrix\n",
    "\n",
    "Read more about design matrices with and without intercept term [here](https://bioconductor.org/packages/release/workflows/vignettes/RNAseq123/inst/doc/designmatrices.html#design-matrices-with-and-without-intercept-term), and ordering of terms in the `model.matrix` when using `0+` in the model formula [here](https://support.bioconductor.org/p/110327/#110379)."
   ]
  },
  {
   "cell_type": "code",
   "execution_count": null,
   "id": "1e8ebff9",
   "metadata": {},
   "outputs": [],
   "source": [
    "my.design <- model.matrix(~ 0 + y$samples$condition + y$samples$CellType_1, y$samples)\n",
    "\n",
    "colnames(my.design) <- gsub(\"y\\\\$samples\\\\$\", \"\", colnames(my.design)) # simplify term name\n",
    "data.frame(coef = 1:ncol(my.design), term = colnames(my.design))"
   ]
  },
  {
   "cell_type": "markdown",
   "id": "3022ddeb",
   "metadata": {},
   "source": [
    "### Construct contrast vector using `makeContrasts` to make comparison easier"
   ]
  },
  {
   "cell_type": "code",
   "execution_count": null,
   "id": "07fb0551",
   "metadata": {},
   "outputs": [],
   "source": [
    "my.contrasts <- makeContrasts(\n",
    "    Cancer_Control = conditionCancer-conditionControl,\n",
    "    levels = my.design\n",
    ")"
   ]
  },
  {
   "cell_type": "markdown",
   "id": "46ebf8fb",
   "metadata": {},
   "source": [
    "### Remove lowly expressed genes"
   ]
  },
  {
   "cell_type": "code",
   "execution_count": null,
   "id": "0080f75a",
   "metadata": {},
   "outputs": [],
   "source": [
    "# Use the filterByExpr() function from edgeR\n",
    "keep <- filterByExpr(y, design = my.design, group = NULL)\n",
    "y <- y[keep, , keep.lib.sizes = FALSE]\n",
    "summary(keep)\n",
    "\n",
    "# Correct for composition biases by computing normalization factors\n",
    "y <- calcNormFactors(y)\n",
    "DataFrame(y$samples)"
   ]
  },
  {
   "cell_type": "markdown",
   "id": "eadbc1ae",
   "metadata": {},
   "source": [
    "### Create multi-dimensional scaling (MDS) plot"
   ]
  },
  {
   "cell_type": "code",
   "execution_count": null,
   "id": "255141fa",
   "metadata": {},
   "outputs": [],
   "source": [
    "fig(width = 8, height = 8)\n",
    "limma::plotMDS(cpm(y, log = TRUE), col = str_replace_all(y$samples$condition, c_cond_col),\n",
    "        main = \"PCoA\", cex.main = 2, cex.lab = 1.5, cex.axis = 1.5, cex = 1)\n",
    "reset.fig()"
   ]
  },
  {
   "cell_type": "markdown",
   "id": "72eff43a",
   "metadata": {},
   "source": [
    "### Estimating the dispersions"
   ]
  },
  {
   "cell_type": "code",
   "execution_count": null,
   "id": "6a46fdf6",
   "metadata": {},
   "outputs": [],
   "source": [
    "y <- estimateDisp(y, my.design)\n",
    "summary(y$trended.dispersion)\n",
    "\n",
    "# Visualise dispersion estimates\n",
    "fig(width = 7, height = 7)\n",
    "plotBCV(y, cex.lab = 1.5, cex.axis = 1.5, cex = 0.5, main = \"Show common, trended and genewise BCV estimates\")\n",
    "reset.fig()"
   ]
  },
  {
   "cell_type": "markdown",
   "id": "f02a55cd",
   "metadata": {},
   "source": [
    "### Estimating the quasi-likelihood (QL) dispersions"
   ]
  },
  {
   "cell_type": "code",
   "execution_count": null,
   "id": "88009c8c",
   "metadata": {},
   "outputs": [],
   "source": [
    "fit <- glmQLFit(y, my.design, robust = TRUE)\n",
    "\n",
    "# Visualise QL dispersion estimates\n",
    "fig(width = 7, height = 7)\n",
    "plotQLDisp(fit, cex.lab = 1.5, cex.axis = 1.5, cex = 0.5, \n",
    "           main = \"Show common, trended and genewise QL dispersion estimates\")\n",
    "reset.fig()"
   ]
  },
  {
   "cell_type": "markdown",
   "id": "49cf9ac7",
   "metadata": {},
   "source": [
    "### Performs QL F-test to determine DE genes\n",
    "\n",
    "#### DE: Cancer vs. Control"
   ]
  },
  {
   "cell_type": "code",
   "execution_count": null,
   "id": "35a54240",
   "metadata": {},
   "outputs": [],
   "source": [
    "res <- glmQLFTest(fit, contrast = my.contrasts[,\"Cancer_Control\"])\n",
    "\n",
    "# Print the total number of differentially expressed genes at 5% FDR\n",
    "summary(decideTests(res))\n",
    "\n",
    "# Print top 10 DE genes\n",
    "topTags(res)\n",
    "\n",
    "# Output DE results to text file\n",
    "outfile <- paste0(file_id, \"_edgeR_DE_results_Cancer_vs_Ctrl.tsv\")\n",
    "print(paste(\"Write to file:\", outfile))\n",
    "write.table(topTags(res, n = nrow(res), sort.by = \"PValue\", adjust.method = \"BH\"), file = outfile, \n",
    "            sep = \"\\t\", quote = F, row.names = F, col.names = T)"
   ]
  },
  {
   "cell_type": "markdown",
   "id": "5ac29bba",
   "metadata": {},
   "source": [
    "### Save DE results to `metadata`\n",
    "\n",
    "<div class=\"alert alert-info\">\n",
    "    <strong>Tip!</strong> In the accompanied Shiny App, it will look for list(s) named with \"edgeR_\" in the prefix in <code>metadata()</code> and show their content under the <u>DEA (edgeR)</u> section of the website. In the example below, the content of the 3 <code>TopTags</code> objects will be displayed in the <u>Condition</u> sub-menu.\n",
    "</div>"
   ]
  },
  {
   "cell_type": "code",
   "execution_count": null,
   "id": "b546986a",
   "metadata": {},
   "outputs": [],
   "source": [
    "metadata(combined)[['edgeR_Cancer_Control']] <- list(\"Cancer_Control\" = res)"
   ]
  },
  {
   "cell_type": "markdown",
   "id": "053f0267",
   "metadata": {},
   "source": [
    "## Visualise first N condition DE genes\n",
    "\n",
    "#### Vis: Cancer vs. Control\n",
    "\n",
    "Assuming we are interested in looking at cells grouped by both Sample ID and Coarse Cell Type. Let's define these groupings here."
   ]
  },
  {
   "cell_type": "code",
   "execution_count": null,
   "id": "3e14f9c9",
   "metadata": {},
   "outputs": [],
   "source": [
    "kept$Group <- as.factor(paste0(kept$Sample, kept$CellType_1))\n",
    "kept$Group <- factor(kept$Group, levels = as.vector(outer(levels(kept$Sample), levels(kept$CellType_1), paste0)))\n",
    "#levels(kept$Group)\n",
    "\n",
    "summed$Group <- as.factor(paste0(summed$Sample, summed$CellType_1))\n",
    "summed$Group <- factor(summed$Group, levels = levels(kept$Group))\n",
    "#levels(summed$Group)"
   ]
  },
  {
   "cell_type": "code",
   "execution_count": null,
   "id": "66c107eb",
   "metadata": {},
   "outputs": [],
   "source": [
    "nGene <- 50\n",
    "geneNames <- rownames(topTags(res, nGene))\n",
    "geneNames"
   ]
  },
  {
   "cell_type": "markdown",
   "id": "75061cac",
   "metadata": {},
   "source": [
    "Using `summed` pseudo-bulk samples."
   ]
  },
  {
   "cell_type": "code",
   "execution_count": null,
   "id": "7f269517",
   "metadata": {},
   "outputs": [],
   "source": [
    "logexp <- logcounts(summed)[geneNames,] # logcounts\n",
    "\n",
    "expr <- data.frame(Group = summed$Group, t(logexp)) %>% group_by(Group) %>% data.frame %>% \n",
    "    column_to_rownames(\"Group\") %>% t()\n",
    "\n",
    "ann_col <- data.frame(Sample = summed$Sample, Condition = summed$condition, row.names = colnames(expr))\n",
    "condition_colors <- list(Sample = c_sample_col, Condition = c_cond_col)\n",
    "\n",
    "p <- pheatmap(expr, scale = \"row\", clustering_method = \"ward.D2\", cluster_cols = TRUE, \n",
    "              border_color = \"black\", fontsize = 12, angle_col = 45, color = c_heatmap_col2, breaks = breaks,\n",
    "              annotation_col = ann_col, annotation_colors = condition_colors, \n",
    "              main = \"Row-scaled 'summed' logcounts\", silent = T)\n",
    "\n",
    "fig(width = 14, height = 15)\n",
    "plot(p$gtable)\n",
    "reset.fig()"
   ]
  },
  {
   "cell_type": "markdown",
   "id": "e13af4d3",
   "metadata": {},
   "source": [
    "Using `kept` filtered single cells."
   ]
  },
  {
   "cell_type": "code",
   "execution_count": null,
   "id": "f806f040",
   "metadata": {},
   "outputs": [],
   "source": [
    "fig(width = 12, height = 16)\n",
    "plotDots(kept, features = geneNames[p$tree_row$order], group = \"Group\", \n",
    "         center = TRUE, scale = TRUE, zlim = c(-3, 3)) + scale_size(limits = c(0, 1), range = c(0.1, 6)) + \n",
    "    scale_x_discrete(limits = p$tree_col$labels[p$tree_col$order]) + # order groups based on heatmap p above\n",
    "    scale_y_discrete(limits = geneNames[p$tree_row$order]) + # order genes based on heatmap p above\n",
    "    guides(colour = guide_colourbar(title = \"Row (Gene) Z-Score\", barwidth = 10), \n",
    "           size = guide_legend(title = \"Proportion Detected\")) + theme_cowplot(16) + #coord_flip() + \n",
    "    theme(panel.grid.major = element_line(colour = \"gray90\"), \n",
    "          axis.text.x = element_text(angle = 45, hjust = 1, vjust = 1), \n",
    "          legend.position = \"top\", legend.justification = \"center\", legend.title.position = \"top\") + \n",
    "    labs(title = \"Cancer vs. Control\", x = \"Group\", y =\"Genes\")\n",
    "reset.fig()"
   ]
  },
  {
   "cell_type": "markdown",
   "id": "3a422402",
   "metadata": {},
   "source": [
    "# 10 - DE analysis between conditions in each cluster/cell type\n",
    "\n",
    "For this analysis, each cell is consider a sample. [DESeq2](https://bioconductor.org/packages/release/bioc/html/DESeq2.html) and [glmGamPoi](https://bioconductor.org/packages/release/bioc/html/glmGamPoi.html) are used to fit the gene-wise dispersion, its trend and calculate the MAP based on the quasi-likelihood framework for single-cell data. See [recommendations for single-cell analysis](https://bioconductor.org/packages/release/bioc/vignettes/DESeq2/inst/doc/DESeq2.html#recommendations-for-single-cell-analysis) for more information.\n",
    "\n",
    "> If **glmGamPoi** is used in published research, please cite:\n",
    "    Ahlmann-Eltze, C., Huber, W. (2020) glmGamPoi: Fitting Gamma-Poisson\n",
    "    Generalized Linear Models on Single Cell Count Data. Bioinformatics.\n",
    "    https://doi.org/10.1093/bioinformatics/btaa1009"
   ]
  },
  {
   "cell_type": "code",
   "execution_count": null,
   "id": "f95016ef",
   "metadata": {},
   "outputs": [],
   "source": [
    "# Use previously prepared input\n",
    "table(kept$CellType_1, kept$Sample)"
   ]
  },
  {
   "cell_type": "markdown",
   "id": "1d9817a7",
   "metadata": {},
   "source": [
    "## Performs likelihood ratio test (LRT) using `DESeq2`\n",
    "\n",
    "LRT test is testing whether the term(s) removed in the 'reduced' model explains a significant amount of variation in the data. The LRT p-values are determined solely by the difference in deviance between the 'full' and 'reduced' model formula, i.e. p-values is identical in all contrasts. The test statistic and p-values may involve the testing of one or more log2 fold changes.\n",
    "\n",
    "If the adjusted p-value (`padj`) is small, then for the set of genes with those small adjusted p-values, the additional coefficient in 'full' and not in 'reduced' increased the log likelihood more than would be expected if their true value was zero.\n",
    "\n",
    "**Define thresholds, variable of interest and include unwanted variation present in the data**"
   ]
  },
  {
   "cell_type": "code",
   "execution_count": null,
   "id": "f5fe76e4",
   "metadata": {},
   "outputs": [],
   "source": [
    "minCell <- 10 # Ignore clusters that have fewer than 10 cells in test and reference conditions\n",
    "padj_cutoff <- 0.05 # FDR threshold\n",
    "\n",
    "test <- \"condition\"\n",
    "\n",
    "full <- ~ condition # full model\n",
    "reduced <- ~ 1 # reduced model"
   ]
  },
  {
   "cell_type": "code",
   "execution_count": null,
   "id": "15253fe3",
   "metadata": {},
   "outputs": [],
   "source": [
    "outputRes <- function(dds, test = \"condition\", ref = NULL, old_ref = NULL) {\n",
    "    # Build results tables\n",
    "    res <- list()\n",
    "    freq <- data.frame(table(colData(dds)[,test]))\n",
    "    ref <- if(is.null(ref)) levels(colData(dds)[,test])[1] else ref\n",
    "    t <- NULL\n",
    "    for(j in resultsNames(dds)) {\n",
    "        if(grepl(test, j)) {\n",
    "            t <- sub(test, \"\", j)\n",
    "            if(!is.null(old_ref) && t == old_ref) next\n",
    "            \n",
    "            if(freq$Freq[freq$Var1 == ref] >= minCell & freq$Freq[freq$Var1 == t] >= minCell) {\n",
    "                resultsname <- j\n",
    "            } else next\n",
    "        } else next\n",
    "        \n",
    "        id <- paste0(t, \"_vs_\", ref)\n",
    "        title <- paste0(t, \"_vs_\", ref, \"_\", i)\n",
    "        message(paste(t, \"vs.\", ref, \"in Cluster\", i))\n",
    "\n",
    "        res[[id]] <- results(dds, name = resultsname, alpha = padj_cutoff)\n",
    "        res[[id]]$ID <- mcols(dds)$ID\n",
    "        res[[id]]$Symbol <- mcols(dds)$Symbol\n",
    "        slot(mcols(res[[id]]), \n",
    "             \"listData\")$type <- c(slot(mcols(res[[id]]), \"listData\")$type[1:6], \n",
    "                                   \"annotation\", \"annotation\")\n",
    "        slot(mcols(res[[id]]), \n",
    "             \"listData\")$description <- c(slot(mcols(res[[id]]), \"listData\")$description[1:6], \n",
    "                                          \"ID\", \"Symbol\")\n",
    "        res[[id]]<- res[[id]][,c(7,8,1:6)]\n",
    "\n",
    "        # Print the total number of DEGs at defined FDR threshold\n",
    "        print(summary(res[[id]]))\n",
    "    \n",
    "        # Print top 10 genes, ordered by FDR then p-values\n",
    "        df <- as.data.frame(res[[id]]) %>% arrange(padj, pvalue)\n",
    "        print(head(df, 10))\n",
    "\n",
    "        # Output DE results to text file\n",
    "        outfile <- paste0(file_id, \"_DESeq2_DE_results_\", title, \".tsv\")\n",
    "        print(paste(\"Write to file:\", outfile))\n",
    "        write.table(df, file = outfile, sep = \"\\t\", quote = F, row.names = F, col.names = T)\n",
    "        flush.console()\n",
    "    }\n",
    "    return(res)\n",
    "}"
   ]
  },
  {
   "cell_type": "markdown",
   "id": "933ebd62",
   "metadata": {},
   "source": [
    "The code below currently only work with a `test` term with 3 or less levels.\n",
    "\n",
    "<div class=\"alert alert-warning\">\n",
    "    In the example below, we group cells and compare between conditions in each <b>coarse cell type</b>, i.e. <code>CellType_1</code>.\n",
    "</div>"
   ]
  },
  {
   "cell_type": "code",
   "execution_count": null,
   "id": "04e4d9e6",
   "metadata": {},
   "outputs": [],
   "source": [
    "dds <- list()\n",
    "res <- list()\n",
    "\n",
    "# Loop through available cell groups\n",
    "for(i in levels(kept$CellType_1)) {\n",
    "    tmp <- kept[,kept$CellType_1 == i]\n",
    "    # Build DESeqDataSet\n",
    "    dds[[i]] <- DESeqDataSetFromMatrix(countData = kept_c[, kept$CellType_1 == i], \n",
    "                                       colData = droplevels(colData(tmp)), \n",
    "                                       rowData = rowData(tmp), design = full)\n",
    "    \n",
    "    # Use sizeFactors from SingleCellExperiment\n",
    "    sizeFactors(dds[[i]]) <- sizeFactors(kept)[kept$CellType_1 == i]\n",
    "    \n",
    "    # Run LRT test\n",
    "    dds[[i]] <- DESeq(dds[[i]], test = \"LRT\", useT = TRUE, minmu = 1e-6, minReplicatesForReplace = Inf, \n",
    "                      fitType = \"glmGamPoi\", sfType = \"poscounts\", reduced = reduced, quiet = TRUE)\n",
    "\n",
    "    # Build results tables\n",
    "    res[[i]] <- outputRes(dds[[i]], test = test, ref = levels(colData(dds[[i]])[,test])[1])\n",
    "    \n",
    "    # Use relevel to change ref to get all possible comparisons when nlevels is 3.\n",
    "    #if(nlevels(colData(dds[[i]])[,test]) == 3) {\n",
    "    #    colData(dds[[i]])[,test] <- relevel(colData(dds[[i]])[,test], ref = levels(colData(dds[[i]])[,test])[2])\n",
    "    #    dds[[i]] <- nbinomLRT(dds[[i]], minmu = 1e-6, type = \"glmGamPoi\", reduced = reduced, quiet = TRUE)\n",
    "    #    res[[i]] <- c(res[[i]], outputRes(dds[[i]], test = test,\n",
    "    #                                      ref = levels(colData(dds[[i]])[,test])[1], \n",
    "    #                                      old_ref = levels(colData(tmp[[i]])[,test])[1]))\n",
    "    #}\n",
    "    flush.console()\n",
    "}"
   ]
  },
  {
   "cell_type": "markdown",
   "id": "7c11ce2d",
   "metadata": {},
   "source": [
    "### Save DESeq2 DE results to `metadata`\n",
    "\n",
    "<div class=\"alert alert-info\">\n",
    "    <strong>Tip!</strong> In the accompanied Shiny App, it will look for list(s) named with \"DESeq2_\" in the prefix in <code>metadata()</code> and show their content under the <u>DEA (DESeq2)</u> section of the website.\n",
    "</div>"
   ]
  },
  {
   "cell_type": "code",
   "execution_count": null,
   "id": "60b442a0",
   "metadata": {},
   "outputs": [],
   "source": [
    "# Check list names\n",
    "names(res)"
   ]
  },
  {
   "cell_type": "code",
   "execution_count": null,
   "id": "bd989cff",
   "metadata": {},
   "outputs": [],
   "source": [
    "# Use purrr::map to retrieve element in list with the specified second-layer element name\n",
    "# Use purrr::compact to remove empty list elements\n",
    "# Note: duplicate and update accordingly if you have more second-layer element names to store in `metadata`\n",
    "metadata(combined)[[\"DESeq2_Cancer_Control\"]] <- purrr::compact(purrr::map(res, \"Cancer_vs_Control\"))"
   ]
  },
  {
   "cell_type": "markdown",
   "id": "20f67ffd",
   "metadata": {},
   "source": [
    "## Visualise MA-plot\n",
    "\n",
    "The function `plotMA` shows the log2 fold changes attributable to a given variable over the mean of normalized counts for all the samples in the comparison. Points will be colored blue if the adjusted p value is less than `padj_cutoff`. Points which fall out of the window are plotted as open triangles pointing either up or down.\n",
    "\n",
    "<div class=\"alert alert-warning\">\n",
    "    <strong>Warning!</strong> Usually, log2 fold change (LFC) shrinkage is performed with the <code>lfcShrink</code> function to generate more accurate estimates. However, shrinkage cannot be performed on results fitted by <code>glmGamPoiM</code>. Therefore, you may observed large fold changes from genes with low information, including genes that have low counts or high dispersion values.\n",
    "</div>"
   ]
  },
  {
   "cell_type": "code",
   "execution_count": null,
   "id": "f86e55d6",
   "metadata": {},
   "outputs": [],
   "source": [
    "tmp <- metadata(combined)[[\"DESeq2_Cancer_Control\"]] # all levels have same pvalue/padj in LRT"
   ]
  },
  {
   "cell_type": "code",
   "execution_count": null,
   "id": "5b433df8",
   "metadata": {},
   "outputs": [],
   "source": [
    "minexp <- 0.1 # red line at baseMean = 0.1\n",
    "plist <- list()\n",
    "\n",
    "j <- 1\n",
    "for(i in 1:length(tmp)) {\n",
    "    plist[[j]] <- ggplotify::as.ggplot(~{\n",
    "        DESeq2::plotMA(tmp[[i]], ylim = c(-4, 4))\n",
    "        title(paste(\"Cancer vs. Control, \", names(tmp)[i]), line = 0.5)\n",
    "        abline(v = minexp, lwd = 2, lty = 2, col = \"red\")\n",
    "    })\n",
    "    j <- j + 1\n",
    "}\n",
    "\n",
    "fig(width = 18, height = 10)\n",
    "plot_grid(plotlist = plist, ncol = 4, align = \"vh\")\n",
    "reset.fig()\n"
   ]
  },
  {
   "cell_type": "markdown",
   "id": "72802a2c",
   "metadata": {},
   "source": [
    "## Visualise gene expression as boxplots\n",
    "\n",
    "Show top N genes with `baseMean` > `minexp`.\n",
    "\n",
    "<div class=\"alert alert-warning\">\n",
    "    The <code>baseMean</code> represents the mean of normalized counts for all samples in the dataset, not the subset of samples specified by 'contrast'.\n",
    "</div>\n",
    "\n",
    "<div class=\"alert alert-warning\">\n",
    "    In the example below, we group cells and compare between conditions in each <b>coarse cell type</b>, i.e. <code>CellType_1</code>, as how the DEA was performed above.\n",
    "</div>"
   ]
  },
  {
   "cell_type": "code",
   "execution_count": null,
   "id": "b9063bdf",
   "metadata": {},
   "outputs": [],
   "source": [
    "minexp <- 0.1 # red line at baseMean = 0.1\n",
    "nTop <- 10\n",
    "\n",
    "fig(width = 16, height = 6)\n",
    "for(i in names(tmp)) {\n",
    "    g <- if(grepl(\"^[[:digit:]]+$\", i)) paste(\"Cluster\", i) else i\n",
    "    df <- as.data.frame(tmp[[i]]) %>% arrange(padj, pvalue) %>% filter(padj < padj_cutoff & baseMean > minexp)\n",
    "    if(nrow(df) < 1) {\n",
    "        message(sprintf(\"There is no DE genes that passed the defined thresholds in '%s'.\", g))\n",
    "        next\n",
    "    }\n",
    "    \n",
    "    geneNames <- head(rownames(df), nTop)\n",
    "    p <- plotBox(kept[,kept$CellType_1 == i], features = geneNames, group_by = c(\"CellType_1\",\"condition\"), \n",
    "                 color_by = \"Detected\", box_colors = c_heatmap_col2, guides_barheight = 10, \n",
    "                 facet_ncol = 10, x.text_angle = 90, x.text_size = 14, theme_size = 16) + \n",
    "    geom_boxplot(color = \"black\", linewidth = 0.1, outlier.size = 0.2) +\n",
    "    ggtitle(g, subtitle = sprintf(\"Total %d genes with FDR < %.2f and baseMean > %.1f\", \n",
    "                                                    nrow(df), padj_cutoff, minexp))\n",
    "    \n",
    "    print(p)\n",
    "    flush.console()\n",
    "}\n",
    "reset.fig()"
   ]
  },
  {
   "cell_type": "markdown",
   "id": "c56fc979",
   "metadata": {},
   "source": [
    "# 11 - Functional analysis using `enrichR`\n",
    "\n",
    "## Enriched pathways\n",
    "\n",
    "We use the `enrichR` package to access the [Enrichr](https://maayanlab.cloud/Enrichr/) website to perform gene set enrichment analysis.\n",
    "\n",
    "### Set up `enrichR`\n",
    "\n",
    "All the available gene-set libraries are listed in `dbs`"
   ]
  },
  {
   "cell_type": "code",
   "execution_count": null,
   "id": "5faff2a5",
   "metadata": {},
   "outputs": [],
   "source": [
    "# This function generates the whole list of database for the enrichR. \n",
    "dbs <- listEnrichrDbs()\n",
    "print(paste(\"Number of available databases from Enrichr:\", nrow(dbs)))\n",
    "#head(dbs)"
   ]
  },
  {
   "cell_type": "markdown",
   "id": "b34accab",
   "metadata": {},
   "source": [
    "Change `dbsSel` to remove or include more gene-set libraries in the enrichment analysis."
   ]
  },
  {
   "cell_type": "code",
   "execution_count": null,
   "id": "d4a95e66",
   "metadata": {},
   "outputs": [],
   "source": [
    "# Human\n",
    "dbsSel <- c(\"GO_Biological_Process_2025\", # Ontologies\n",
    "#            \"GO_Molecular_Function_2025\", # Ontologies\n",
    "#            \"GO_Cellular_Component_2025\", # Ontologies\n",
    "            \"Reactome_Pathways_2024\",     # Pathways\n",
    "            \"WikiPathways_2024_Human\",    # Pathways\n",
    "            \"CellMarker_2024\")            # Cell types\n",
    "\n",
    "# Mouse\n",
    "#dbsSel <- c(\"GO_Biological_Process_2025\", # Ontologies\n",
    "#            \"GO_Molecular_Function_2025\", # Ontologies\n",
    "#            \"GO_Cellular_Component_2025\", # Ontologies\n",
    "#            \"Reactome_Pathways_2024\",     # Pathways\n",
    "#            \"WikiPathways_2024_Mouse\",    # Pathways\n",
    "#            \"CellMarker_2024\")            # Cell types"
   ]
  },
  {
   "cell_type": "markdown",
   "id": "d80df502",
   "metadata": {},
   "source": [
    "### Run enrichR\n",
    "\n",
    "**On upregulated 'Cluster' marker genes (from `findMarkers`)**"
   ]
  },
  {
   "cell_type": "code",
   "execution_count": null,
   "id": "300ce147",
   "metadata": {},
   "outputs": [],
   "source": [
    "input <- metadata(combined)[['findMarkers_Cluster_up']]\n",
    "metadata(combined)[['enrichR_findMarkers_Cluster_up']] <- runEnrichR(input, dbs = dbsSel, direction = \"up\", \n",
    "                                                                     column_by = \"Symbol\")"
   ]
  },
  {
   "cell_type": "markdown",
   "id": "19d9213e",
   "metadata": {},
   "source": [
    "**On upregulated and downregulated 'Cancer vs. Control' DE genes (from `edgeR`)**"
   ]
  },
  {
   "cell_type": "code",
   "execution_count": null,
   "id": "32490d0e",
   "metadata": {},
   "outputs": [],
   "source": [
    "input <- metadata(combined)[['edgeR_Cancer_Control']]\n",
    "metadata(combined)[['enrichR_edgeR_Cancer_Control_up']] <- runEnrichR(input, dbs = dbsSel, direction = \"up\", \n",
    "                                                                 column_by = \"Symbol\")"
   ]
  },
  {
   "cell_type": "code",
   "execution_count": null,
   "id": "a7556abe",
   "metadata": {},
   "outputs": [],
   "source": [
    "input <- metadata(combined)[['edgeR_Cancer_Control']]\n",
    "metadata(combined)[['enrichR_edgeR_Cancer_Control_dn']] <- runEnrichR(input, dbs = dbsSel, direction = \"down\", \n",
    "                                                                 column_by = \"Symbol\")"
   ]
  },
  {
   "cell_type": "markdown",
   "id": "d879e397",
   "metadata": {},
   "source": [
    "**On upregulated and downregulated 'Cancer vs. Control' DE genes (from `DESeq2`)**"
   ]
  },
  {
   "cell_type": "code",
   "execution_count": null,
   "id": "52f33f77",
   "metadata": {},
   "outputs": [],
   "source": [
    "input <- metadata(combined)[['DESeq2_Cancer_Control']]\n",
    "metadata(combined)[['enrichR_DESeq2_Cancer_Control_up']] <- runEnrichR(input, dbs = dbsSel, direction = \"up\", \n",
    "                                                                       column_by = \"Symbol\")"
   ]
  },
  {
   "cell_type": "code",
   "execution_count": null,
   "id": "33ab02cc",
   "metadata": {},
   "outputs": [],
   "source": [
    "input <- metadata(combined)[['DESeq2_Cancer_Control']]\n",
    "metadata(combined)[['enrichR_DESeq2_Cancer_Control_dn']] <- runEnrichR(input, dbs = dbsSel, direction = \"down\", \n",
    "                                                                       column_by = \"Symbol\")"
   ]
  },
  {
   "cell_type": "markdown",
   "id": "9a3f53cd",
   "metadata": {},
   "source": [
    "### Plot enrichR results\n",
    "\n",
    "Using `GO_Biological_Process_2025` as example.\n",
    "\n",
    "**On upregulated 'Cluster' marker genes**"
   ]
  },
  {
   "cell_type": "code",
   "execution_count": null,
   "id": "4c8bf1ff",
   "metadata": {},
   "outputs": [],
   "source": [
    "fig(width = 16, height = 5)\n",
    "plotEnrichR(metadata(combined)[['enrichR_findMarkers_Cluster_up']], db = \"GO_Biological_Process_2025\")\n",
    "reset.fig()"
   ]
  },
  {
   "cell_type": "markdown",
   "id": "e027240f",
   "metadata": {},
   "source": [
    "**On upregulated 'Cancer vs. Control' DE genes (from `edgeR`)**"
   ]
  },
  {
   "cell_type": "code",
   "execution_count": null,
   "id": "abe4ac69",
   "metadata": {},
   "outputs": [],
   "source": [
    "fig(width = 16, height = 5)\n",
    "plotEnrichR(metadata(combined)[['enrichR_edgeR_Cancer_Control_up']], db = \"GO_Biological_Process_2025\")\n",
    "reset.fig()"
   ]
  },
  {
   "cell_type": "markdown",
   "id": "6cf0768d",
   "metadata": {},
   "source": [
    "**On downregulated 'Cancer vs. Control' DE genes (from `edgeR`)**"
   ]
  },
  {
   "cell_type": "code",
   "execution_count": null,
   "id": "99dceacf",
   "metadata": {},
   "outputs": [],
   "source": [
    "fig(width = 16, height = 5)\n",
    "plotEnrichR(metadata(combined)[['enrichR_edgeR_Cancer_Control_dn']], db = \"GO_Biological_Process_2025\")\n",
    "reset.fig()"
   ]
  },
  {
   "cell_type": "markdown",
   "id": "a53b2c71",
   "metadata": {},
   "source": [
    "**On upregulated 'Cancer vs. Control' DE genes (from `DESeq2`)**"
   ]
  },
  {
   "cell_type": "code",
   "execution_count": null,
   "id": "04529bb1",
   "metadata": {},
   "outputs": [],
   "source": [
    "fig(width = 16, height = 5)\n",
    "plotEnrichR(metadata(combined)[['enrichR_DESeq2_Cancer_Control_up']], db = \"GO_Biological_Process_2025\")\n",
    "reset.fig()"
   ]
  },
  {
   "cell_type": "markdown",
   "id": "0a273367",
   "metadata": {},
   "source": [
    "**On downregulated 'Cancer vs. Control' DE genes (from `DESeq2`)**"
   ]
  },
  {
   "cell_type": "code",
   "execution_count": null,
   "id": "fe07dcb5",
   "metadata": {},
   "outputs": [],
   "source": [
    "fig(width = 16, height = 5)\n",
    "plotEnrichR(metadata(combined)[['enrichR_DESeq2_Cancer_Control_dn']], db = \"GO_Biological_Process_2025\")\n",
    "reset.fig()"
   ]
  },
  {
   "cell_type": "markdown",
   "id": "1fa670fc",
   "metadata": {},
   "source": [
    "### Print enrichR results to files\n",
    "\n",
    "#### Create a sub-folder `Enrichr` to store enrichR results"
   ]
  },
  {
   "cell_type": "code",
   "execution_count": null,
   "id": "21533e65",
   "metadata": {},
   "outputs": [],
   "source": [
    "dir.create(file.path(\"Enrichr\"), showWarnings = FALSE)"
   ]
  },
  {
   "cell_type": "markdown",
   "id": "85af2842",
   "metadata": {},
   "source": [
    "**On upregulated 'Cluster' marker genes**"
   ]
  },
  {
   "cell_type": "code",
   "execution_count": null,
   "id": "585a668b",
   "metadata": {},
   "outputs": [],
   "source": [
    "printEnrichR(metadata(combined)[[\"enrichR_findMarkers_Cluster_up\"]], \n",
    "             prefix = file.path(\"Enrichr\", paste0(file_id, \"_findMarkers_upregulated\")))"
   ]
  },
  {
   "cell_type": "markdown",
   "id": "7c1921c7",
   "metadata": {},
   "source": [
    "**On upregulated and downregulated 'Cancer vs. Control' DE genes (from `edgeR`)**"
   ]
  },
  {
   "cell_type": "code",
   "execution_count": null,
   "id": "c82525bb",
   "metadata": {},
   "outputs": [],
   "source": [
    "printEnrichR(metadata(combined)[[\"enrichR_edgeR_Cancer_Control_up\"]], \n",
    "             prefix = file.path(\"Enrichr\", paste0(file_id, \"_edgeR_upregulated\")))"
   ]
  },
  {
   "cell_type": "code",
   "execution_count": null,
   "id": "ae0283d0",
   "metadata": {},
   "outputs": [],
   "source": [
    "printEnrichR(metadata(combined)[[\"enrichR_edgeR_Cancer_Control_dn\"]], \n",
    "             prefix = file.path(\"Enrichr\", paste0(file_id, \"_edgeR_downregulated\")))"
   ]
  },
  {
   "cell_type": "markdown",
   "id": "d15d4fc5",
   "metadata": {},
   "source": [
    "**On upregulated and downregulated 'Cancer vs. Control' DE genes (from `DESeq2`)**"
   ]
  },
  {
   "cell_type": "code",
   "execution_count": null,
   "id": "6fa7aa2e",
   "metadata": {},
   "outputs": [],
   "source": [
    "printEnrichR(metadata(combined)[[\"enrichR_DESeq2_Cancer_Control_up\"]], \n",
    "             prefix = file.path(\"Enrichr\", paste0(file_id, \"_Cancer_Control_DESeq2_upregulated\")))"
   ]
  },
  {
   "cell_type": "code",
   "execution_count": null,
   "id": "4c484758",
   "metadata": {},
   "outputs": [],
   "source": [
    "printEnrichR(metadata(combined)[[\"enrichR_DESeq2_Cancer_Control_dn\"]], \n",
    "             prefix = file.path(\"Enrichr\", paste0(file_id, \"_Cancer_Control_DESeq2_downregulated\")))"
   ]
  },
  {
   "cell_type": "markdown",
   "id": "d1c6a240",
   "metadata": {},
   "source": [
    "## Ingenuity Pathway Analysis (IPA)\n",
    "\n",
    "Here we generate a file that can be imported directly into IPA for downstream analysis."
   ]
  },
  {
   "cell_type": "markdown",
   "id": "6228570e",
   "metadata": {},
   "source": [
    "### Concatenate `findMarkers` 'Cluster' marker gene results"
   ]
  },
  {
   "cell_type": "code",
   "execution_count": null,
   "id": "0927af7d",
   "metadata": {},
   "outputs": [],
   "source": [
    "exportResList(metadata(combined)[['findMarkers_Cluster']], concatenate = TRUE, col_anno = c(\"ID\",\"Symbol\"), \n",
    "              prefix = paste0(file_id, \"_cluster\"))"
   ]
  },
  {
   "cell_type": "markdown",
   "id": "3ce3ab97",
   "metadata": {},
   "source": [
    "### Concatenate `edgeR` 'Cancer vs. Control' DE gene results"
   ]
  },
  {
   "cell_type": "code",
   "execution_count": null,
   "id": "6b4038b0",
   "metadata": {},
   "outputs": [],
   "source": [
    "exportResList(metadata(combined)[['edgeR_Cancer_Control']], concatenate = TRUE, col_anno = c(\"ID\",\"Symbol\"), \n",
    "              prefix = paste0(file_id, \"_Cancer_Control\"))"
   ]
  },
  {
   "cell_type": "markdown",
   "id": "494f947a",
   "metadata": {},
   "source": [
    "### Concatenate `DESeq2` 'Cancer vs. Control' DE gene results"
   ]
  },
  {
   "cell_type": "code",
   "execution_count": null,
   "id": "9758928e",
   "metadata": {},
   "outputs": [],
   "source": [
    "exportResList(metadata(combined)[['DESeq2_Cancer_Control']], concatenate = TRUE, col_anno = c(\"ID\",\"Symbol\"), \n",
    "              prefix = paste0(file_id, \"_Cancer_Control\"))"
   ]
  },
  {
   "cell_type": "markdown",
   "id": "ed6fee0e",
   "metadata": {},
   "source": [
    "# Save `runInfo` to `metadata`\n",
    "\n",
    "<div class=\"alert alert-info\">\n",
    "    <strong>Tip!</strong> In the accompanied Shiny App, the Run Information will be displayed under the <u>Overview</u>.\n",
    "</div>"
   ]
  },
  {
   "cell_type": "code",
   "execution_count": null,
   "id": "8b9f47e5",
   "metadata": {},
   "outputs": [],
   "source": [
    "metadata(combined)[['runInfo']] <- runInfo\n",
    "combined"
   ]
  },
  {
   "cell_type": "markdown",
   "id": "243b3690",
   "metadata": {},
   "source": [
    "# Save objects"
   ]
  },
  {
   "cell_type": "code",
   "execution_count": null,
   "id": "cfc5597c",
   "metadata": {},
   "outputs": [],
   "source": [
    "# Remove unwanted information stored in the SingleCellExperiment before saving the object\n",
    "# For example, this removed \"PCA\" from the reducedDims slot\n",
    "# reducedDim(combined, \"PCA\") <- NULL\n",
    "# For example, this removed \"MNN\" from the reducedDims slot\n",
    "# reducedDim(combined, \"MNN\") <- NULL"
   ]
  },
  {
   "cell_type": "code",
   "execution_count": null,
   "id": "cb319485",
   "metadata": {},
   "outputs": [],
   "source": [
    "# For HDF5-based SummarizedExperiment object\n",
    "HDF5Array::saveHDF5SummarizedExperiment(combined, dir = \"combined_h5_sce\", replace = TRUE, verbose = FALSE)\n",
    "\n",
    "# Print file size\n",
    "\"Folder: combined_h5_sce\"\n",
    "paste(\"Size:\", utils:::format.object_size(file.info(\"combined_h5_sce/assays.h5\")$size + \n",
    "                                          file.info(\"combined_h5_sce/se.rds\")$size, \"auto\"))"
   ]
  },
  {
   "cell_type": "markdown",
   "id": "2983def9",
   "metadata": {},
   "source": [
    "# Session Info"
   ]
  },
  {
   "cell_type": "code",
   "execution_count": null,
   "id": "8c450f13",
   "metadata": {},
   "outputs": [],
   "source": [
    "writeLines(capture.output(sessionInfo()), \"sessionInfo.txt\")\n",
    "sessionInfo()"
   ]
  }
 ],
 "metadata": {
  "kernelspec": {
   "display_name": "R [conda env:github_sc] *",
   "language": "R",
   "name": "conda-env-github_sc-r"
  },
  "language_info": {
   "codemirror_mode": "r",
   "file_extension": ".r",
   "mimetype": "text/x-r-source",
   "name": "R",
   "pygments_lexer": "r",
   "version": "4.4.3"
  }
 },
 "nbformat": 4,
 "nbformat_minor": 5
}
