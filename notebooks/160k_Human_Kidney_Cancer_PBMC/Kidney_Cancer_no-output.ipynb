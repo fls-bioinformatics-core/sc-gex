{
 "cells": [
  {
   "cell_type": "markdown",
   "metadata": {},
   "source": [
    "# Analysis of Single-cell Gene Expression Data <span style=\"font-size:20px\">(single-sample) v2.0.0</span>\n",
    "\n",
    "## Bioinformatics Core Facility, University of Manchester\n",
    "\n",
    "1. [Prepare workspace and data](#1---Prepare-workspace-and-data)\n",
    "2. [Cells and genes QC plots](#2---Cells-and-genes-QC-plots)\n",
    "3. [Quality filtering of cells](#3---Quality-filtering-of-cells)\n",
    "4. [Classification of cell cycle phase](#4---Classification-of-cell-cycle-phase)\n",
    "5. [Expression normalization](#5---Expression-normalization)\n",
    "6. [Feature (HVGs) selection](#6---Feature-(HVGs)-selection)\n",
    "7. [Dimensionality reduction using HVG](#7---Dimensionality-reduction-using-HVG)\n",
    "8. [Cell type annotation](#8---Cell-type-annotation)\n",
    "9. [Cell clustering](#9---Cell-clustering)\n",
    "10. [Marker gene detection](#10---Marker-gene-detection)\n",
    "11. [Functional analysis using `enrichR`](#11---Functional-analysis-using-enrichR)\n",
    "12. [Doublet detection](#12---Doublet-detection)"
   ]
  },
  {
   "cell_type": "markdown",
   "metadata": {},
   "source": [
    "# Project summary\n",
    "\n",
    "*Add experimental details here. For example:*\n",
    "\n",
    "<div class=\"alert alert-info\">\n",
    "    <b>Kidney and Lung DTCs Matched PBMC MultiPro® Human Discovery Panel</b> <a href =\"https://www.10xgenomics.com/datasets/160k_DTC_Matched_PBMC_MultiPro_Human_Discovery_Panel\">Link</a>\n",
    "    <br /><br />\n",
    "    DTCs and matched PBMCs were obtained from Discovery Life Sciences, including Stage I kidney cancer DTCs, Stage I kidney cancer matched PBMCs, Stage III kidney cancer DTCs, Stage III kidney cancer matched PBMCs, Stage III lung cancer DTCs, and Stage III lung cancer matched PBMCs. Control PBMCs were obtained from AllCells.\n",
    "    <br /><br />\n",
    "    Samples were prepared in accordance with the Cell Preparation Guide Handbook (CG00053) for Tips & Best Practices on handling and counting cells. Consult Cell Thawing Protocols for Single Cell Assays (CG000447) for guidance on thawing dissociated tumor cells.\n",
    "    <br /><br />\n",
    "    Antibody staining was performed as described in Intracellular Protein Labeling Protocol section of the Demonstrated Protocol Cell Surface & Intracellular Protein Labeling for GEM-X Flex Gene Expression (CG000781, Rev A) and Flex assay was performed as described in the GEM-X Flex Gene Expression Reagent Kits for Multiplexed Samples with Feature Barcode technology for Protein using Barcode Oligo Capture User Guide (CG000789). Libraries were sequenced on an Illumina NovaSeq 6000 with approximately 40,000 paired end reads/cell for Gene Expression and 20,000 paired end reads/cell for Feature Barcode libraries.\n",
    "    <br /><br />\n",
    "    Dual indexing libraries were sequenced with the following scheme:\n",
    "    <ul>\n",
    "        <li>28 cycles Read 1</li>\n",
    "        <li>10 cycles i7</li>\n",
    "        <li>10 cycles i5</li>\n",
    "        <li>90 cycles Read 2</li>\n",
    "    </ul>\n",
    "</div>\n",
    "\n",
    "## Dataset summary"
   ]
  },
  {
   "cell_type": "code",
   "execution_count": null,
   "metadata": {},
   "outputs": [],
   "source": [
    "# Change/add/delete as required\n",
    "runInfo <- list(\n",
    "    \"Sample\" = c(\n",
    "        \"Sample ID\" = \"KidneyCancer\", \n",
    "        \"Platform\" = \"10x Genomics\",\n",
    "        \"Chemistry\" = \"Flex Gene Expression\", \n",
    "        \"Reference\" = \"GRCh38-2024-A\", \n",
    "        \"Transcriptome\" = \"GRCh38-2024-A\", \n",
    "        \"Probe Set Name\" = \"Chromium Human Transcriptome Probe Set v1.1.0\",\n",
    "        \"Pipeline Version\" = \"cellranger-9.0.0\"),\n",
    "    \"Data\" = c(\n",
    "        \"Lab/Facility\" = \"UoM BCF\",\n",
    "        \"Analyst\" = \"I-Hsuan Lin\",\n",
    "        \"Run ID\" = \"SOME_RUN_ID\", \n",
    "        \"Run Name\" = \"SOME_RUN_NAME\", \n",
    "        \"Sequencer\" = \"NovaSeq 6000\", \n",
    "        \"User\" = \"SOME_USER\", \n",
    "        \"PI\" = \"SOME_PI\", \n",
    "        \"Organism\" = \"Human\")\n",
    ")"
   ]
  },
  {
   "cell_type": "code",
   "execution_count": null,
   "metadata": {},
   "outputs": [],
   "source": [
    "if (suppressPackageStartupMessages(requireNamespace(\"kableExtra\")) && requireNamespace(\"IRdisplay\")) {\n",
    "    suppressPackageStartupMessages(library(kableExtra))\n",
    "    data.frame(Feat = names(runInfo[[1]]), Info = runInfo[[1]], row.names = NULL) %>% \n",
    "    kable(\"html\", caption = '<span style = \"font-size: 110%; font-weight:bold; color: blue; white-space: nowrap;\">Sample Summary</span>') %>% \n",
    "    kable_styling(font_size = 14, position = \"left\", full_width = FALSE) %>% column_spec(1, bold = T) %>% \n",
    "    as.character() %>% IRdisplay::display_html()\n",
    "    \n",
    "    data.frame(Feat = names(runInfo[[2]]), Info = runInfo[[2]], row.names = NULL) %>% \n",
    "    kable(\"html\", caption = '<span style = \"font-size: 110%; font-weight:bold; color: blue; white-space: nowrap;\">Data Analysis Summary</span>') %>% \n",
    "    kable_styling(font_size = 14, position = \"left\", full_width = FALSE) %>% column_spec(1, bold = T) %>% \n",
    "    as.character() %>% IRdisplay::display_html()\n",
    "} else {\n",
    "    message(\"Single-cell Sample Summary\")\n",
    "    data.frame(data.frame(Feat = names(runInfo[[1]]), Info = runInfo[[1]], row.names = NULL))\n",
    "    message(\"Data Processing Summary\")\n",
    "    data.frame(data.frame(Feat = names(runInfo[[2]]), Info = runInfo[[2]], row.names = NULL))\n",
    "}"
   ]
  },
  {
   "cell_type": "markdown",
   "metadata": {},
   "source": [
    "# 1 - Prepare workspace and data\n",
    "\n",
    "**Tested on R version 4.4 and Bioconductor version 3.20**\n",
    "\n",
    "- Set sample name and Cell Ranger HDF5 file path\n",
    "- Load R libraries\n",
    "- Set up colour palettes\n",
    "- Load Cell Ranger outputs to create a `SingleCellExperiment` (`sce`) objects\n",
    "- Estimate ambient contamination (applicable to snRNA-seq)\n",
    "\n",
    "## Define sample name and HDF5 path"
   ]
  },
  {
   "cell_type": "code",
   "execution_count": null,
   "metadata": {},
   "outputs": [],
   "source": [
    "# Set sample name\n",
    "sample_name <- runInfo[[\"Sample\"]][[\"Sample ID\"]]\n",
    "\n",
    "# Path to the cellranger filtered HDF5\n",
    "# Can be relative or full path\n",
    "filtered_h5 <- \"160k_DTC_Matched_PBMC_MultiPro_Human_Discovery_Panel_Kidney_Cancer_PBMC_count_sample_filtered_feature_bc_matrix.h5\"\n",
    "\n",
    "# Path to the cellranger raw HDF5\n",
    "# Can be relative or full path\n",
    "raw_h5 <- \"160k_DTC_Matched_PBMC_MultiPro_Human_Discovery_Panel_Kidney_Cancer_PBMC_count_sample_raw_feature_bc_matrix.h5\"\n",
    "\n",
    "# Show info\n",
    "data.frame(ID = c(rep(sample_name, 2)), Type = c(\"filtered\", rep(\"raw\", length(sample_name))), \n",
    "           HDF5 = c(filtered_h5, raw_h5))"
   ]
  },
  {
   "cell_type": "markdown",
   "metadata": {},
   "source": [
    "## Load libraries\n",
    "\n",
    "The required R packages are listed below. This workflow has been tested on **R version 4.4** (**Bioconductor version 3.20**) and latest versions of the packages supported in this R environment (see <a href=#Session-Info>Session Info</a>).  \n",
    "\n",
    "Commented line below are packages that are required but we are not loading and attaching them.\n",
    "\n",
    "<div class=\"alert alert-info\">\n",
    "    The <strong>scRUtils</strong> R package is current available only on <a href=\"https://github.com/ycl6/scRUtils\" target=\"_blank\">GitHub</a>. It can be installed using <code>remotes::install_github(\"ycl6/scRUtils\")</code>.\n",
    "</div>"
   ]
  },
  {
   "cell_type": "code",
   "execution_count": null,
   "metadata": {},
   "outputs": [],
   "source": [
    "suppressPackageStartupMessages({\n",
    "    # R-4.4.3\n",
    "    library(AnnotationHub)\n",
    "    library(BiocNeighbors) # AnnoyParam\n",
    "    library(BiocParallel)  # MulticoreParam\n",
    "    library(bluster)       # clusterRows, NNGraphParam, mergeCommunities\n",
    "    library(cowplot)       # plotColData, plotRowData, plot_grid\n",
    "    library(DropletUtils)  # read10xCounts, emptyDrops, ambientProfileEmpty\n",
    "    library(enrichR)\n",
    "    library(ggforce)       # gather_set_data, geom_parallel_sets*\n",
    "    library(ggplot2)\n",
    "    library(scales)\n",
    "    library(scater)\n",
    "    library(scran)\n",
    "    library(SingleR)\n",
    "    library(viridis)       # scale_color_viridis, plasma\n",
    "\n",
    "#    Access the exact function with \"::\" without load and attach package\n",
    "#    library(BiocSingular)  # RandomParam, IrlbaParam\n",
    "#    library(celldex)       # Pokédex for Cell Types\n",
    "#    library(dplyr)         # select\n",
    "#    library(gtools)        # mixedsort\n",
    "#    library(HDF5Array)     # saveHDF5SummarizedExperiment\n",
    "#    library(igraph)        # cut_at\n",
    "#    library(limma)         # vennDiagram\n",
    "#    library(plyr)          # ldply\n",
    "#    library(RColorBrewer)  # brewer.pal\n",
    "#    library(scDblFinder)   # computeDoubletDensity\n",
    "#    library(stringr)       # str_to_title\n",
    "\n",
    "    library(scRUtils)       # with customised functions\n",
    "    library(tidyverse)\n",
    "})"
   ]
  },
  {
   "cell_type": "markdown",
   "metadata": {},
   "source": [
    "### Set default options"
   ]
  },
  {
   "cell_type": "code",
   "execution_count": null,
   "metadata": {},
   "outputs": [],
   "source": [
    "# Set output window width\n",
    "options(width = 110) # default 80; getOption(\"width\")\n",
    "\n",
    "# Set figure size; width = 10, height = 7, res = 120\n",
    "fig()"
   ]
  },
  {
   "cell_type": "markdown",
   "metadata": {},
   "source": [
    "Choose a `BiocParallel` Interface:\n",
    "- **SerialParam**: Supported on all platforms. Evaluate BiocParallel-enabled code with parallel evaluation disabled.\n",
    "- **MulticoreParam**: Supported on Unix and Mac. Evaluate BiocParallel-enabled code using multiple cores on a single computer.\n",
    "- **SnowParam**: Supported on all platforms. Evaluate BiocParallel-enabled code across several distinct instances, on one or several computers.\n",
    "- **BatchtoolsParam**: Applicable to clusters with formal schedulers. Evaluate BiocParallel-enabled code by submitting to a cluster scheduler like SGE.\n",
    "\n",
    "<div class=\"alert alert-info\">\n",
    "    HDF5-based arrays only allow serial reading within a process. Therefore, some of the processing steps in this workflow are using <code>dgCMatrix</code> class matrices to improve performance, while keeping the assays in the <code>SingleCellExperiment</code> object in <code>DelayedMatrix</code> class.\n",
    "</div>"
   ]
  },
  {
   "cell_type": "code",
   "execution_count": null,
   "metadata": {},
   "outputs": [],
   "source": [
    "# Set number of threads for parallelisation\n",
    "nthreads <- 8\n",
    "\n",
    "# Choose BiocParallel Interface\n",
    "bpp <- MulticoreParam(nthreads)"
   ]
  },
  {
   "cell_type": "code",
   "execution_count": null,
   "metadata": {},
   "outputs": [],
   "source": [
    "# Initialise c30() and c40() palettes\n",
    "c30 <- c30()\n",
    "c40 <- c40()\n",
    "\n",
    "fig(width = 14, height = 7)\n",
    "par(mfrow = c(1,2), mar=c(0,0,1,0))\n",
    "pie(rep(1,30), col = c30, radius = 1.5, main = \"c30\")\n",
    "pie(rep(1,40), col = c40, radius = 1.5, main = \"c40\")\n",
    "reset.fig()"
   ]
  },
  {
   "cell_type": "code",
   "execution_count": null,
   "metadata": {},
   "outputs": [],
   "source": [
    "# Set colours for samples\n",
    "c_sample_col <- choosePalette(sample_name, c30)\n",
    "c_sample_col\n",
    "\n",
    "# Set colours for cell cycle phases\n",
    "c_phase_col <- setNames(c30[c(20, 3, 9)], c(\"G1\", \"S\", \"G2M\"))\n",
    "c_phase_col\n",
    "\n",
    "# Set colours for heatmaps\n",
    "c_heatmap_col1 <- plasma(256, direction = -1) # logcounts\n",
    "c_heatmap_col2 <- colorRampPalette(rev(RColorBrewer::brewer.pal(11, \"RdYlBu\")))(256) # scaled/z-score"
   ]
  },
  {
   "cell_type": "markdown",
   "metadata": {},
   "source": [
    "## Importing Cell Ranger data\n",
    "\n",
    "We will use `read10xCounts` from `DropletUtils` package to read the UMI counts produced by Cell Ranger and automatically generate a `sce` object. The **HDF5** format enables out-of-core computation.\n",
    "\n",
    "<div class=\"alert alert-info\">\n",
    "  <strong>Info!</strong> Requires filtered HDF5 file (<code>filtered_feature_bc_matrix.h5</code>).\n",
    "</div>"
   ]
  },
  {
   "cell_type": "code",
   "execution_count": null,
   "metadata": {},
   "outputs": [],
   "source": [
    "cdSc <- read10xCounts(filtered_h5, sample.names = sample_name, # assign sample name at the same time\n",
    "                      col.names = TRUE) # column named with the cell barcodes\n",
    "rowData(cdSc)$Type <- as.factor(rowData(cdSc)$Type)\n",
    "cdSc"
   ]
  },
  {
   "cell_type": "markdown",
   "metadata": {},
   "source": [
    "### Use `splitAltExps` to split of alternative library types (where applicable)\n",
    "\n",
    "If successful, one can use `altExp(cdSc)` to access data stored in the `altExp` slot.\n",
    "\n",
    "In this workflow, we will focus on the main **Gene Expression** data."
   ]
  },
  {
   "cell_type": "code",
   "execution_count": null,
   "metadata": {},
   "outputs": [],
   "source": [
    "if(nlevels(rowData(cdSc)$Type) > 1) {\n",
    "    table(\"library types\" = rowData(cdSc)$Type)\n",
    "    \n",
    "    cdSc <- splitAltExps(cdSc, rowData(cdSc)$Type)\n",
    "    message(paste(\"Main experiment:\", mainExpName(cdSc)))\n",
    "    print(cdSc)\n",
    "    \n",
    "    for(i in altExpNames(cdSc)) {\n",
    "        message(paste(\"Alternative experiment:\", i))\n",
    "        print(altExp(cdSc, e = i))\n",
    "    }\n",
    "}"
   ]
  },
  {
   "cell_type": "code",
   "execution_count": null,
   "metadata": {},
   "outputs": [],
   "source": [
    "# Change sample from character to factor type\n",
    "cdSc$Sample <- factor(cdSc$Sample)\n",
    "levels(cdSc$Sample) <- sample_name\n",
    "\n",
    "# Use uniquifyFeatureNames to make feature names unique\n",
    "rownames(cdSc) <- uniquifyFeatureNames(rowData(cdSc)$ID, rowData(cdSc)$Symbol)\n",
    "\n",
    "# Placeholder to mark non-ambient genes\n",
    "okay.genes <- c()"
   ]
  },
  {
   "cell_type": "markdown",
   "metadata": {},
   "source": [
    "## Add SEQNAME to gene information\n",
    "\n",
    "Here, we make use of `AnnotationHub` to add SEQNAME (chromosome) annotation from Ensembl DB."
   ]
  },
  {
   "cell_type": "code",
   "execution_count": null,
   "metadata": {},
   "outputs": [],
   "source": [
    "# Create an AnnotationHub object\n",
    "ah = AnnotationHub()\n",
    "\n",
    "# To display Human EnsDb if required\n",
    "#hs <- query(ah, c(\"EnsDb\", \"Ensembl\", \"Homo sapiens\"))\n",
    "#hs\n",
    "\n",
    "# To display Mouse EnsDb if required\n",
    "#mm <- query(ah, c(\"EnsDb\", \"Ensembl\", \"Mus musculus\"))\n",
    "#mm"
   ]
  },
  {
   "cell_type": "markdown",
   "metadata": {},
   "source": [
    "Select the EnsDb corresponds to the correct Reference Package used by Cell Ranger:\n",
    "\n",
    "- 3.0.0 (Nov 19, 2018)\n",
    "  - AH64446 | Ensembl  93 EnsDb for *Homo Sapiens*\n",
    "  - AH64461 | Ensembl  93 EnsDb for *Mus musculus*\n",
    "- 2020-A (Jul 7, 2020)\n",
    "  - AH75011 | Ensembl  98 EnsDb for *Homo sapiens*; GRCh38; GENCODE v32\n",
    "  - AH75036 | Ensembl  98 EnsDb for *Mus musculus*; GRCm38; GENCODE vM23\n",
    "- 2024-A (Mar 13, 2024)\n",
    "  - AH113665 | Ensembl 110 EnsDb for *Homo Sapiens*; GRCh38; GENCODE v44\n",
    "  - AH113713 | Ensembl 110 EnsDb for *Mus musculus*; GRCm39; GENCODE vM33"
   ]
  },
  {
   "cell_type": "code",
   "execution_count": null,
   "metadata": {},
   "outputs": [],
   "source": [
    "ens <- AnnotationHub()[[\"AH113665\"]]"
   ]
  },
  {
   "cell_type": "code",
   "execution_count": null,
   "metadata": {},
   "outputs": [],
   "source": [
    "# Add SEQNAME\n",
    "rowData(cdSc)$SEQNAME <- mapIds(ens, keys = rowData(cdSc)$ID, keytype = \"GENEID\", column = \"SEQNAME\")\n",
    "\n",
    "# Number of genes in each chromosome\n",
    "table(rowData(cdSc)$SEQNAME)"
   ]
  },
  {
   "cell_type": "markdown",
   "metadata": {},
   "source": [
    "Access the count matrix, which is a `DelayedMatrix` class for HDF5 dataset."
   ]
  },
  {
   "cell_type": "code",
   "execution_count": null,
   "metadata": {},
   "outputs": [],
   "source": [
    "# The rows are genes and columns are cells.\n",
    "counts(cdSc)[1:5,1:5] # same as assay(cdSc, \"counts\")"
   ]
  },
  {
   "cell_type": "markdown",
   "metadata": {},
   "source": [
    "## Estimate ambient contamination (applicable to snRNA-seq)\n",
    "\n",
    "Ambient contamination is a phenomenon that is generally most pronounced in massively multiplexed scRNA-seq protocols. Briefly, extracellular RNA (most commonly released upon cell lysis) is captured along with each cell in its reaction chamber, contributing counts to genes that are not otherwise expressed in that cell.\n",
    "\n",
    "If the snRNA-seq libraries are of high quality, we can assume that any mitochondrial “expression” is due to contamination from the ambient solution. Below we use the `controlAmbience` function from `DropletUtils` package to estimate the proportion of ambient contamination for each gene.\n",
    "\n",
    "### Load HDF5\n",
    "\n",
    "<div class=\"alert alert-info\">\n",
    "  <strong>Info!</strong> Requires unfiltered raw HDF5 file (<code>raw_feature_bc_matrix.h5</code>).\n",
    "</div>"
   ]
  },
  {
   "cell_type": "code",
   "execution_count": null,
   "metadata": {},
   "outputs": [],
   "source": [
    "# Load HDF5\n",
    "# Adding colnames to sce (col.names = TRUE) is very important in speeding up the as() operation below\n",
    "sce <- read10xCounts(raw_h5, sample.names = sample_name, col.names = TRUE)\n",
    "rowData(sce)$Type <- as.factor(rowData(sce)$Type)\n",
    "\n",
    "# Use splitAltExps to split of alternative library types\n",
    "if(nlevels(rowData(sce)$Type) > 1) {\n",
    "    sce <- splitAltExps(sce, rowData(sce)$Type)\n",
    "}\n",
    "\n",
    "sce$Sample <- factor(sce$Sample)\n",
    "rownames(sce) <- uniquifyFeatureNames(rowData(sce)$ID, rowData(sce)$Symbol)\n",
    "rowData(sce)$SEQNAME <- mapIds(ens, keys = rowData(sce)$ID, keytype = \"GENEID\", column = \"SEQNAME\")\n",
    "\n",
    "# Drop genes if no matching SEQNAME\n",
    "sce <- sce[!is.na(rowData(sce)$SEQNAME),]\n",
    "sce"
   ]
  },
  {
   "cell_type": "markdown",
   "metadata": {},
   "source": [
    "### Estimate the ambient profile"
   ]
  },
  {
   "cell_type": "code",
   "execution_count": null,
   "metadata": {},
   "outputs": [],
   "source": [
    "# 'dgCMatrix' input is much faster when running emptyDrops \n",
    "mat <- as(counts(sce, withDimnames = FALSE), \"dgCMatrix\")\n",
    "rownames(mat) <- rownames(sce)\n",
    "\n",
    "# Estimate the transcript proportions in the ambient solution\n",
    "ambient <- ambientProfileEmpty(mat, round = FALSE, good.turing = FALSE, BPPARAM = bpp)\n",
    "summary(ambient)"
   ]
  },
  {
   "cell_type": "markdown",
   "metadata": {},
   "source": [
    "### Call non-empty droplets"
   ]
  },
  {
   "cell_type": "code",
   "execution_count": null,
   "metadata": {},
   "outputs": [],
   "source": [
    "# Call non-empty droplets using emptyDrops()\n",
    "set.seed(12345)\n",
    "e.out <- emptyDrops(mat, BPPARAM = bpp)\n",
    "e.out\n",
    "\n",
    "# Use FDR threshold of 0.1%\n",
    "is.cell <- e.out$FDR <= 0.001\n",
    "summary(is.cell)\n",
    "\n",
    "# replace all NA's with FALSE\n",
    "is.cell.no.na <- is.cell\n",
    "is.cell.no.na[is.na(is.cell)] <- FALSE\n",
    "summary(is.cell.no.na)"
   ]
  },
  {
   "cell_type": "markdown",
   "metadata": {},
   "source": [
    "### Estimate the ambient contribution from controls\n",
    "\n",
    "Control features should be those that cannot be expressed and thus fully attributable to ambient contamination. For single-nuclei sequencing, mitochondrial transcripts are used as control features under the assumption that all high-quality libraries are stripped nuclei."
   ]
  },
  {
   "cell_type": "code",
   "execution_count": null,
   "metadata": {},
   "outputs": [],
   "source": [
    "nuclei <- rowSums(mat[, is.cell.no.na])\n",
    "is.mito <- rowData(sce)$SEQNAME == \"MT\"\n",
    "\n",
    "# Estimate the proportion of ambient contamination for each gene\n",
    "contam <- controlAmbience(nuclei, ambient, features = is.mito, mode = \"proportion\")\n",
    "head(contam)\n",
    "\n",
    "summary(contam[,1])"
   ]
  },
  {
   "cell_type": "markdown",
   "metadata": {},
   "source": [
    "We create a plot to show the percentage of counts in the nuclei that are attributed to contamination from the ambient solution. Each point represents a gene and mitochondrial genes are highlighted in red."
   ]
  },
  {
   "cell_type": "code",
   "execution_count": null,
   "metadata": {},
   "outputs": [],
   "source": [
    "# Percentage of counts in the nuclei of the dataset that are attributed to contamination from the ambient solution.\n",
    "# Each point represents a gene and mitochondrial genes are highlighted in red.\n",
    "plot(log10(nuclei+1), contam*100, col = ifelse(is.mito, \"red\", \"grey\"), pch = 16, cex.lab = 1.5, cex.axis = 1.5,\n",
    "     xlab = \"Log-nuclei expression\", ylab = \"Contamination (%)\")"
   ]
  },
  {
   "cell_type": "code",
   "execution_count": null,
   "metadata": {},
   "outputs": [],
   "source": [
    "# Show mito gene estimates\n",
    "as.data.frame(contam[is.mito,]) %>% setNames(\"contamination\") %>% arrange(contamination)\n",
    "\n",
    "# Set lowest mito gene estimate as cutoff, change n in nth() to set higher cutoff\n",
    "contam.cutoff <- as.data.frame(contam[is.mito,]) %>% setNames(\"contamination\") %>% arrange(contamination) %>% \n",
    "    pull(contamination) %>% nth(1)\n",
    "print(paste(\"Ambient contamination cutoff:\", round(contam.cutoff, 4)))\n",
    "\n",
    "# Keep genes in which less than N% of the counts are ambient-derived\n",
    "non.ambient <- contam[,1] < contam.cutoff\n",
    "summary(non.ambient)\n",
    "\n",
    "okay.genes <- names(non.ambient)[which(non.ambient)]\n",
    "print(paste(\"Number of genes passed the ambient contamination cutoff:\", length(okay.genes)))"
   ]
  },
  {
   "cell_type": "markdown",
   "metadata": {},
   "source": [
    "# 2 - Cells and genes QC plots\n",
    "\n",
    "### Define mitochondrial genes "
   ]
  },
  {
   "cell_type": "code",
   "execution_count": null,
   "metadata": {},
   "outputs": [],
   "source": [
    "# Works on both Mouse & Human\n",
    "is.mito <- rowData(cdSc)$SEQNAME == \"MT\"\n",
    "rowData(cdSc)$is_mito <- is.mito\n",
    "\n",
    "print(paste(\"Number of annotated mitochondrial genes =\", sum(is.mito)))"
   ]
  },
  {
   "cell_type": "code",
   "execution_count": null,
   "metadata": {},
   "outputs": [],
   "source": [
    "rowData(cdSc)$Symbol[is.mito]"
   ]
  },
  {
   "cell_type": "markdown",
   "metadata": {},
   "source": [
    "### Add QC metrics"
   ]
  },
  {
   "cell_type": "code",
   "execution_count": null,
   "metadata": {},
   "outputs": [],
   "source": [
    "# Add Cell QC\n",
    "cdSc <- addPerCellQC(cdSc, percent.top = c(50, 100), subsets = list(Mt = is.mito), BPPARAM = bpp)\n",
    "cdSc$log10GenesPerUMI <- log10(cdSc$detected+1) / log10(cdSc$sum+1)\n",
    "\n",
    "# Mark potentially problematic genes due to ambient contamination\n",
    "rowData(cdSc)$is_ambient <- !rownames(cdSc) %in% okay.genes\n",
    "\n",
    "table(rowData(cdSc)$is_ambient)\n",
    "\n",
    "# Add feature QC\n",
    "cdSc <- addPerFeatureQC(cdSc, detection_limit = 0, BPPARAM = bpp)\n",
    "rowData(cdSc)$n_cells_by_counts <- rowData(cdSc)$detected/100 * ncol(cdSc)\n",
    "rowData(cdSc)$pct_dropout <- 100 - rowData(cdSc)$detected"
   ]
  },
  {
   "cell_type": "markdown",
   "metadata": {},
   "source": [
    "#### View information related with cells\n",
    "\n",
    "We will use `colData()` function to access the metadata related with cells.\n",
    "\n",
    "**Notes on `colData()` elements**\n",
    "\n",
    "- `sum` - the sum of counts for each cell (i.e. library size)\n",
    "- `detected` - number of genes detected above detection limit (default 0))\n",
    "- `percent.top_XX` - percentage of library size occupied by the most highly expressed genes in each cell\n",
    "- `subsets_Mt_sum` - counts assigned to mitochondrial genes\n",
    "- `subsets_Mt_detected` - number of mitochondrial genes detected\n",
    "- `subsets_Mt_percent` - percentage of each cell's count sum assigned to mitochondrial genes\n",
    "- `log10GenesPerUMI` - genes detected per count"
   ]
  },
  {
   "cell_type": "code",
   "execution_count": null,
   "metadata": {},
   "outputs": [],
   "source": [
    "head(colData(cdSc), 5)"
   ]
  },
  {
   "cell_type": "markdown",
   "metadata": {},
   "source": [
    "#### View information related with genes\n",
    "\n",
    "We use `rowData()` function to access the metadata related with genes.\n",
    "\n",
    "**Notes on `rowData()` elements**\n",
    "\n",
    "- is_mito - mitochondrial genes\n",
    "- is_ambient - genes affected by ambient contamination\n",
    "- mean - mean counts for each genes across all cells\n",
    "- detected - percentage of cells a gene is detected above detection limit (default 0)\n",
    "- n_cells_by_counts - number of cells a gene detected\n",
    "- pct_dropout - percentage of dropouts, i.e. `1 - detected` \n",
    "\n",
    "*Dropouts are statistical negatives, could be true negatives or false negatives (not detected properly)*"
   ]
  },
  {
   "cell_type": "code",
   "execution_count": null,
   "metadata": {},
   "outputs": [],
   "source": [
    "head(rowData(cdSc), 5)"
   ]
  },
  {
   "cell_type": "markdown",
   "metadata": {},
   "source": [
    "## Plots on cell QC metrics\n",
    "\n",
    "Low-quality cells need to be identified and removed to ensure that the technical effects do not distort downstream analysis results. Three common measures of cell quality are:\n",
    "\n",
    "- the total number of UMIs or __library size__ per cell\n",
    "- the __number of detectable features (i.e. genes)__ in each cell library\n",
    "- proportion of __mitochondrial genes__ in each cell library\n",
    "\n",
    "### View library size\n",
    "\n",
    "The __library size__ is defined as the total sum of UMIs across all genes. Cells with relatively small library sizes are considered to be of low quality as the RNA has not been efficiently captured (i.e., converted into cDNA and amplified) during library preparation. "
   ]
  },
  {
   "cell_type": "code",
   "execution_count": null,
   "metadata": {},
   "outputs": [],
   "source": [
    "# Print library size summary\n",
    "summary(cdSc$sum)\n",
    "\n",
    "# Plot histogram\n",
    "ggplot(as.data.frame(colData(cdSc)), aes(x = sum, fill = Sample)) + \n",
    "    geom_histogram(color = \"white\", alpha = 0.6, linewidth = 0.3, bins = 50) +\n",
    "    scale_x_continuous(labels = unit_format(unit = \"K\", scale = 1e-3)) +\n",
    "    guides(fill = guide_legend(override.aes = list(alpha = 1))) +\n",
    "    scale_fill_manual(values = c_sample_col) + theme_cowplot(20) +\n",
    "    labs(x = \"Library size\", y = \"Number of cells\", title = \"Histogram of library size\")"
   ]
  },
  {
   "cell_type": "markdown",
   "metadata": {},
   "source": [
    "### View number of detected genes\n",
    "\n",
    "The __number of detectable genes__ in each cell is defined as the number of genes above detection limit (default is with non-zero counts) for that cell. Any cell with very few expressed genes is likely to be of poor quality as the diverse transcript population has not been successfully captured. "
   ]
  },
  {
   "cell_type": "code",
   "execution_count": null,
   "metadata": {},
   "outputs": [],
   "source": [
    "# Print detected genes summary\n",
    "summary(cdSc$detected)\n",
    "\n",
    "# Plot histogram\n",
    "ggplot(as.data.frame(colData(cdSc)), aes(x = detected, fill = Sample)) +\n",
    "    geom_histogram(color = \"white\", alpha = 0.6, linewidth = 0.3, bins = 50) +\n",
    "    scale_x_continuous(labels = unit_format(unit = \"K\", scale = 1e-3)) +\n",
    "    guides(fill = guide_legend(override.aes = list(alpha = 1))) +\n",
    "    scale_fill_manual(values = c_sample_col) + theme_cowplot(20) +\n",
    "    labs(x = \"Number of detected genes\", y = \"Number of cells\", title = \"Histogram of detected genes\")"
   ]
  },
  {
   "cell_type": "markdown",
   "metadata": {},
   "source": [
    "### View mitochondrial proportion\n",
    "\n",
    "High proportions of reads mapping to __mitochondrial genes__ are indicative of poor-quality cells ([Lun et al., 2016](https://pubmed.ncbi.nlm.nih.gov/27909575)), possibly because of increased apoptosis and/or loss of cytoplasmic RNA from lysed cells. \n",
    "\n",
    "In snRNA-seq data, the loss of the cytoplasm means that the stripped nuclei should not contain any mitochondrial transcripts. High-quality nuclei __should not contain any mitochondrial transcripts__; the presence of any mitochondrial counts in a library indicates that the removal of the cytoplasm was not complete, possibly introducing irrelevant heterogeneity in downstream analyses.\n",
    "\n",
    "__For scRNA-seq:__\n",
    "\n",
    "- A mean below 5% is very good.\n",
    "- A mean below 10% is good.\n",
    "- A mean above 20% is no good."
   ]
  },
  {
   "cell_type": "code",
   "execution_count": null,
   "metadata": {},
   "outputs": [],
   "source": [
    "# Print mitochondrial proportion summary\n",
    "summary(cdSc$subsets_Mt_percent)\n",
    "\n",
    "print(\"Number of cells with 0% mitochondrial content:\")\n",
    "data.frame(Sample = cdSc$Sample, ZeroMito = cdSc$subsets_Mt_percent == 0) %>%\n",
    "    count(Sample, ZeroMito, name = \"Count\") %>% group_by(Sample) %>% \n",
    "    mutate(Percentage = round(prop.table(Count)*100, 2))\n",
    "\n",
    "# Plot histogram\n",
    "ggplot(as.data.frame(colData(cdSc)), aes(x = subsets_Mt_percent, fill = Sample)) +\n",
    "    geom_histogram(color = \"white\", alpha = 0.6, linewidth = 0.3, bins = 50) +\n",
    "    guides(fill = guide_legend(override.aes = list(alpha = 1))) +\n",
    "    scale_fill_manual(values = c_sample_col) + theme_cowplot(20) +\n",
    "    labs(x = \"Mitochondrial proportion (%)\", y = \"Number of cells\", \n",
    "         title = \"Histogram of mitochondrial proportion\")"
   ]
  },
  {
   "cell_type": "markdown",
   "metadata": {},
   "source": [
    "### View novelty (complexity of RNA species)\n",
    "\n",
    "Visualise the overall novelty of the gene expression by showing log10 genes detected per UMI against number of cells. Generally, we expect the novelty score to be above 0.80."
   ]
  },
  {
   "cell_type": "code",
   "execution_count": null,
   "metadata": {},
   "outputs": [],
   "source": [
    "# Print Novelty summary\n",
    "summary(cdSc$log10GenesPerUMI)\n",
    "\n",
    "# Plot histogram\n",
    "ggplot(as.data.frame(colData(cdSc)), aes(x = log10GenesPerUMI, fill = Sample)) +\n",
    "    geom_histogram(color = \"white\", alpha = 0.6, linewidth = 0.3, bins = 50) +\n",
    "    guides(fill = guide_legend(override.aes = list(alpha = 1))) +\n",
    "    scale_fill_manual(values = c_sample_col) + theme_cowplot(20) +\n",
    "    labs(x = \"log10 nGene per log10 nUMI\", y = \"Number of cells\", \n",
    "         title = \"Histogram of complexity of RNA species\")"
   ]
  },
  {
   "cell_type": "markdown",
   "metadata": {},
   "source": [
    "### Show relationship between 2 QC metrics "
   ]
  },
  {
   "cell_type": "code",
   "execution_count": null,
   "metadata": {},
   "outputs": [],
   "source": [
    "# Set up log10 scale\n",
    "log10_breaks <- trans_breaks(\"log10\", function(x) 10^x)\n",
    "log10_labels <- trans_format(\"log10\", math_format(10^.x))"
   ]
  },
  {
   "cell_type": "code",
   "execution_count": null,
   "metadata": {},
   "outputs": [],
   "source": [
    "plotColData(cdSc, x = \"sum\", y = \"detected\", colour_by = \"Sample\", other_fields = \"Sample\", \n",
    "            point_alpha = 0.3, theme_size = 20) + facet_wrap(~ Sample) +\n",
    "    scale_x_log10(breaks = log10_breaks, labels = log10_labels) +\n",
    "    scale_y_log10(breaks = log10_breaks, labels = log10_labels) +\n",
    "    scale_color_manual(values = c_sample_col) + theme(legend.position = \"none\") +\n",
    "    labs(x = \"Library size\", y = \"Number of detected genes\")"
   ]
  },
  {
   "cell_type": "code",
   "execution_count": null,
   "metadata": {},
   "outputs": [],
   "source": [
    "plotColData(cdSc, x = \"sum\", y = \"subsets_Mt_percent\", colour_by = \"Sample\", other_fields = \"Sample\", \n",
    "            point_alpha = 0.3, theme_size = 20) + facet_wrap(~ Sample) +\n",
    "    scale_x_log10(breaks = log10_breaks, labels = log10_labels) +\n",
    "    scale_color_manual(values = c_sample_col) + theme(legend.position = \"none\") +\n",
    "    labs(x = \"Library size\", y = \"Mitochondrial proportion (%)\")"
   ]
  },
  {
   "cell_type": "code",
   "execution_count": null,
   "metadata": {},
   "outputs": [],
   "source": [
    "plotColData(cdSc, x = \"detected\", y = \"subsets_Mt_percent\", colour_by = \"Sample\", other_fields = \"Sample\", \n",
    "            point_alpha = 0.3, theme_size = 20) + facet_wrap(~ Sample) +\n",
    "    scale_x_log10(breaks = log10_breaks, labels = log10_labels) +\n",
    "    scale_color_manual(values = c_sample_col) + theme(legend.position = \"none\") +\n",
    "    labs(x = \"Number of detected genes\", y = \"Mitochondrial proportion (%)\")"
   ]
  },
  {
   "cell_type": "code",
   "execution_count": null,
   "metadata": {},
   "outputs": [],
   "source": [
    "plotColData(cdSc, x = \"sum\", y = \"detected\", colour_by = \"subsets_Mt_percent\", size_by = \"subsets_Mt_sum\", \n",
    "            other_fields = \"Sample\", point_alpha = 0.3, theme_size = 20) + facet_wrap(~ Sample) +\n",
    "    scale_x_log10(breaks = log10_breaks, labels = log10_labels) +\n",
    "    scale_y_log10(breaks = log10_breaks, labels = log10_labels) +\n",
    "    guides(color = guide_colorbar(title = \"Mitochondrial\\nproportion (%)\"), \n",
    "           size = guide_legend(title = \"Mitochondrial\\ncounts\", override.aes = list(fill = \"black\", alpha = 1))) +\n",
    "    labs(x = \"Library size\", y = \"Number of detected genes\")"
   ]
  },
  {
   "cell_type": "markdown",
   "metadata": {},
   "source": [
    "## Plots on gene QC metrics\n",
    "\n",
    "In the plot below, mitochondrial genes (marked in red) often appear at the top right corner of the figure since they are highly expressed in most cells. It is only a problem if these genes make up the majority of a cell's reads (more than 80%). These problematic cells are removed further down this workflow."
   ]
  },
  {
   "cell_type": "code",
   "execution_count": null,
   "metadata": {},
   "outputs": [],
   "source": [
    "plotRowData(cdSc, x = \"mean\", y = \"detected\", colour_by = \"is_mito\", size_by = \"is_mito\", theme_size = 20) + \n",
    "    scale_x_log10(breaks = log10_breaks, labels = log10_labels) + scale_color_manual(values = c(\"cyan\",\"red\")) +\n",
    "    guides(color = guide_legend(title = \"Mito Gene\", override.aes = list(size = 4, alpha = 1)), \n",
    "           size = guide_legend(title = \"Mito Gene\")) +\n",
    "    labs(x = \"Mean counts across all cells\", y = \"Proportion of expressing cell (%)\")"
   ]
  },
  {
   "cell_type": "markdown",
   "metadata": {},
   "source": [
    "In the plot below, genes affected by ambient contamination are marked in red."
   ]
  },
  {
   "cell_type": "code",
   "execution_count": null,
   "metadata": {},
   "outputs": [],
   "source": [
    "plotRowData(cdSc, x = \"mean\", y = \"detected\", colour_by = \"is_ambient\", theme_size = 20) +\n",
    "    scale_x_log10(breaks = log10_breaks, labels = log10_labels) + scale_color_manual(values = c(\"cyan\",\"red\")) +\n",
    "    guides(color = guide_legend(title = \"Ambient\\ncontamination\", override.aes = list(size = 4, alpha = 1)), \n",
    "           size = guide_legend(title = \"Ambient\\ncontamination\")) +\n",
    "    labs(x = \"Mean counts across all cells\", y = \"Proportion of expressing cell (%)\")"
   ]
  },
  {
   "cell_type": "markdown",
   "metadata": {},
   "source": [
    "In the plot below, it shows log10 mean counts of genes (x-axis) versus number of cells expressing that gene (y-axis). Generally, in single cell datasets there are some genes with very low, or very high, total counts, which accounts for the S shape of the plot.\n",
    "\n",
    "__Dropouts__ is the proportion of cells a gene is **not** detected. As expected, genes with low mean count have higher percentage of dropouts."
   ]
  },
  {
   "cell_type": "code",
   "execution_count": null,
   "metadata": {},
   "outputs": [],
   "source": [
    "plotRowData(cdSc, x = \"mean\", y = \"n_cells_by_counts\", colour_by = \"pct_dropout\", \n",
    "            point_alpha = 0.3, theme_size = 20) +\n",
    "    scale_x_log10(breaks = log10_breaks, labels = log10_labels) +\n",
    "    guides(color = guide_colorbar(title = \"Dropouts (%)\")) +\n",
    "    labs(x = \"Mean counts across all cells\", y = \"Number of expressing cells\")"
   ]
  },
  {
   "cell_type": "markdown",
   "metadata": {},
   "source": [
    "# 3 - Quality filtering of cells\n",
    "\n",
    "__Picking thresholds for filtering out poor cells__ is not straightforward for different metrics as their absolute values depend on the protocol and biological system. For example, sequencing to greater depth will lead to more reads, regardless of the quality of the cells. To obtain an adaptive threshold, the assumption made here is that most of the dataset consists of high-quality cells. Plots to facilitate picking thresholds for cell cutoffs are below.\n",
    "\n",
    "### The distribution of the UMIs, number of detectable genes,  mitochondrial proportion and novelty.\n",
    "\n",
    "The dotted line represents the threshold which is the **N** Median Absolute Deviation (MAD). Outlier cells are defined as those that are **N** MADs away (can be *lower*, *higher* or *both*) from the median.\n",
    "\n",
    "For the library size, detectable genes and novelty, cells on the left of the thresholds (i.e. lower) would be filtered out. For mitochondrial proportion, cells on the right of the thresholds (i.e. higher) would be filtered out.\n",
    "\n",
    "Finally, cells are generally removed for having mitochondrial proportion above 5 MAD. Sometime when an experiment has very low percentage of mitochondrial reads, no removal is necessary.\n",
    "\n",
    "### Considering experimental factors\n",
    "\n",
    "More complex studies will involve batches of cells generated with different experimental parameters (e.g., sequencing depth, different donors, etc). It makes little sense to compute medians and MADs from a mixture distribution containing samples from multiple batches. In such cases, the adaptive strategy should be applied to each batch separately. If cells from all batches have been merged into a single `SingleCellExperiment`, the `batch=` argument should be used to ensure that outliers are identified within each batch. This allows `isOutlier()` to accommodate systematic differences in the QC metrics across batches."
   ]
  },
  {
   "cell_type": "markdown",
   "metadata": {},
   "source": [
    "## Library size"
   ]
  },
  {
   "cell_type": "code",
   "execution_count": null,
   "metadata": {},
   "outputs": [],
   "source": [
    "# Change this setting to adjust and show different threshold\n",
    "mad1 <- 2\n",
    "libsize.drop <- isOutlier(cdSc$sum, nmads = mad1, type = \"lower\", log = TRUE)\n",
    "cut_off_reads <- attr(libsize.drop, \"thresholds\")[\"lower\"]\n",
    "round(cut_off_reads, 2)\n",
    "\n",
    "# Set minimum library size cutoff at 500 if the MAD cutoff is lower than 500\n",
    "cut_off_reads <- ifelse(cut_off_reads < 500, 500, cut_off_reads)\n",
    "round(cut_off_reads, 2)\n",
    "\n",
    "libsize.drop <- cdSc$sum < cut_off_reads\n",
    "\n",
    "as.data.frame(colData(cdSc)) %>%\n",
    "    ggplot(aes(x = sum, fill = factor(Sample))) +\n",
    "    geom_density(color = NA, alpha = 0.5) + facet_wrap(~ Sample) +\n",
    "    geom_vline(xintercept = cut_off_reads, colour = \"red\", linetype = \"longdash\") +\n",
    "    annotate(\"text\", x = cut_off_reads, y = Inf, label = round(cut_off_reads, 2), \n",
    "             vjust = 2, hjust = -0.2, size = 5) +\n",
    "    scale_fill_manual(values = c_sample_col) + theme_cowplot(20) +\n",
    "    scale_x_log10(breaks = log10_breaks, labels = log10_labels) +\n",
    "    theme(legend.position = \"none\") +\n",
    "    labs(x = \"Library Size\", y = \"density\", title = \"Total count\", \n",
    "         subtitle = paste(sum(libsize.drop), \"cell(s) to the left of cutoff have too low count\"))\n",
    "\n",
    "as.data.frame(colData(cdSc)) %>% cbind(., libsize.drop) %>%\n",
    "    rename(LowCount = libsize.drop) %>%\n",
    "    ggplot(aes(x = factor(Sample), y = sum)) + geom_violin(linewidth = 1) +\n",
    "    geom_jitter(aes(color = LowCount), alpha = 0.3, size = 0.5, \n",
    "                position = position_jitter(height = 0, width = 0.15, seed = 123)) +\n",
    "    scale_color_manual(values = c(\"black\", \"red\")) + theme_cowplot(20) +\n",
    "    scale_y_log10(breaks = log10_breaks, labels = log10_labels) +\n",
    "    guides(color = guide_legend(override.aes = list(size = 4, alpha = 1))) +\n",
    "    labs(x = \"Sample\", y = \"Library Size\", title = \"Total count\", \n",
    "         subtitle = paste(sum(libsize.drop), \"cell(s) coloured in red have too low count\"))"
   ]
  },
  {
   "cell_type": "markdown",
   "metadata": {},
   "source": [
    "## Number of detected genes"
   ]
  },
  {
   "cell_type": "code",
   "execution_count": null,
   "metadata": {},
   "outputs": [],
   "source": [
    "# Change this setting to adjust and show different threshold\n",
    "mad2 <- 2.25\n",
    "feature.drop <- isOutlier(cdSc$detected, nmads = mad2, type = \"lower\", log = TRUE)\n",
    "cut_off_genes <- attr(feature.drop, \"thresholds\")[\"lower\"]\n",
    "round(cut_off_genes, 2)\n",
    "\n",
    "# Set minimum detected genes cutoff at 250 if the MAD cutoff is lower than 250\n",
    "cut_off_genes <- ifelse(cut_off_genes < 250, 250, cut_off_genes)\n",
    "round(cut_off_genes,2)\n",
    "\n",
    "feature.drop <- cdSc$detected < cut_off_genes\n",
    "\n",
    "as.data.frame(colData(cdSc)) %>%\n",
    "    ggplot(aes(x = detected, fill = factor(Sample))) + \n",
    "    geom_density(color = NA, alpha = 0.5) + facet_wrap(~ Sample) +\n",
    "    geom_vline(xintercept = cut_off_genes, colour = \"red\", linetype = \"longdash\") +\n",
    "    annotate(\"text\", x = cut_off_genes, y = Inf, label = round(cut_off_genes, 2), \n",
    "             vjust = 2, hjust = -0.2, size = 5) +\n",
    "    scale_fill_manual(values = c_sample_col) + theme_cowplot(20) +\n",
    "    scale_x_log10(breaks = log10_breaks, labels = log10_labels) +\n",
    "    theme(legend.position = \"none\") +\n",
    "    labs(x = \"Number of detected genes\", y = \"density\", title = \"Total detected genes\", \n",
    "         subtitle = paste(sum(feature.drop), \"cell(s) to the left of cutoff have too few detected genes\"))\n",
    "\n",
    "as.data.frame(colData(cdSc)) %>% cbind(., feature.drop) %>%\n",
    "    rename(LowDetected = feature.drop) %>%\n",
    "    ggplot(aes(x = factor(Sample), y = detected)) + geom_violin(linewidth = 1) +\n",
    "    geom_jitter(aes(color = LowDetected), alpha = 0.3, size = 0.5, \n",
    "                position = position_jitter(height = 0, width = 0.15, seed = 123)) +\n",
    "    scale_color_manual(values = c(\"black\", \"red\")) + theme_cowplot(20) + \n",
    "    guides(color = guide_legend(override.aes = list(size = 4, alpha = 1))) +\n",
    "    labs(x = \"Sample\", y = \"Number of detected genes\", title = \"Total detected genes\", \n",
    "         subtitle = paste(sum(feature.drop), \"cell(s) coloured in red have too few detected genes\"))"
   ]
  },
  {
   "cell_type": "markdown",
   "metadata": {},
   "source": [
    "## Mitochondrial proportion"
   ]
  },
  {
   "cell_type": "code",
   "execution_count": null,
   "metadata": {},
   "outputs": [],
   "source": [
    "# Change this setting to adjust and show different threshold\n",
    "mad3 <- 3\n",
    "mito.drop <- isOutlier(cdSc$subsets_Mt_percent, nmads = mad3, type = \"higher\")\n",
    "cut_off_MT <- attr(mito.drop, \"thresholds\")[\"higher\"]\n",
    "round(cut_off_MT, 2)\n",
    "\n",
    "# Set minimum cutoff at 10% if the MAD cutoff is lower than 10%\n",
    "#cut_off_MT <- ifelse(cut_off_MT < 10, 10, cut_off_MT)\n",
    "# Set maximum cutoff at 20% if the MAD cutoff is higher than 20%\n",
    "#cut_off_MT <- ifelse(cut_off_MT > 20, 20, cut_off_MT)\n",
    "# Apply manual cutoff\n",
    "cut_off_MT <- 10\n",
    "round(cut_off_MT, 2)\n",
    "\n",
    "mito.drop <- cdSc$subsets_Mt_percent > cut_off_MT\n",
    "\n",
    "p <- as.data.frame(colData(cdSc)) %>% \n",
    "    ggplot(aes(x = subsets_Mt_percent, fill = factor(Sample))) + \n",
    "    geom_density(color = NA, alpha = 0.5) + facet_wrap(~ Sample) +\n",
    "    geom_vline(xintercept = cut_off_MT, colour = \"red\", linetype = \"longdash\") +\n",
    "    annotate(\"text\", x = cut_off_MT, y = Inf, label = round(cut_off_MT, 2), \n",
    "             vjust = 2, hjust = -0.2, size = 5) +\n",
    "    scale_fill_manual(values = c_sample_col) + theme_cowplot(20) + \n",
    "    theme(legend.position = \"none\") +\n",
    "    labs(x = \"Mitochondrial proportion\", y = \"density\", title = \"Mitochondrial proportion\", \n",
    "         subtitle = paste(sum(mito.drop), \"cell(s) to the right of cutoff have too high mitochondrial proportion\"))\n",
    "\n",
    "# Visual zoom to between 0 - 50%\n",
    "if(max(cdSc$subsets_Mt_percent) > 50) {\n",
    "    p <- p + coord_cartesian(xlim = c(0, 50))\n",
    "}\n",
    "\n",
    "p"
   ]
  },
  {
   "cell_type": "markdown",
   "metadata": {},
   "source": [
    "## Novelty (complexity of RNA species)\n",
    "\n",
    "The expected novelty is about 0.8."
   ]
  },
  {
   "cell_type": "code",
   "execution_count": null,
   "metadata": {},
   "outputs": [],
   "source": [
    "# Change this setting to adjust and show different threshold\n",
    "cut_off_novelty <- 0.865\n",
    "novelty.drop <- cdSc$log10GenesPerUMI < cut_off_novelty\n",
    "\n",
    "as.data.frame(colData(cdSc)) %>%\n",
    "    ggplot(aes(x = log10GenesPerUMI, fill = factor(Sample))) + \n",
    "    geom_density(color = NA, alpha = 0.5) + facet_wrap(~ Sample) +\n",
    "    geom_vline(xintercept = cut_off_novelty, colour = \"red\", linetype = \"longdash\") +\n",
    "    annotate(\"text\", x = cut_off_novelty, y = Inf, label = cut_off_novelty, \n",
    "             vjust = 2, hjust = -0.2, size = 5) +\n",
    "    scale_fill_manual(values = c_sample_col) + theme_cowplot(20) + \n",
    "    theme(legend.position = \"none\") +\n",
    "    labs(x = \"log10 nGene per log10 nUMI\", y = \"density\", title = \"Complexity of RNA species\", \n",
    "         subtitle = paste(sum(novelty.drop), \"cells to the left of cutoff have too low complexity\"))"
   ]
  },
  {
   "cell_type": "markdown",
   "metadata": {},
   "source": [
    "## Show cells with extremely high counts\n",
    "\n",
    "Use `isOutlier` and MAD cutoff to investigate possible outlier cells with high read-depth (could be doublets)."
   ]
  },
  {
   "cell_type": "code",
   "execution_count": null,
   "metadata": {},
   "outputs": [],
   "source": [
    "# Change this setting to adjust and show different threshold\n",
    "mad4 <- 3\n",
    "highcount.drop <- isOutlier(cdSc$sum, nmads = mad4, type = \"higher\", log = TRUE)\n",
    "cut_off_highcount <- attr(highcount.drop, \"thresholds\")[\"higher\"]\n",
    "round(cut_off_highcount,2)\n",
    "\n",
    "# Apply manual cutoff\n",
    "cut_off_highcount <- 15000\n",
    "highcount.drop <- cdSc$sum > cut_off_highcount\n",
    "round(cut_off_highcount,2)\n",
    "\n",
    "as.data.frame(colData(cdSc)) %>%\n",
    "    ggplot(aes(x = sum, fill = factor(Sample))) +\n",
    "    geom_density(color = NA, alpha = 0.5) + facet_wrap(~ Sample) +\n",
    "    geom_vline(xintercept = cut_off_highcount, colour = \"red\", linetype = \"longdash\") +\n",
    "    annotate(\"text\", x = cut_off_highcount, y = Inf, label = round(cut_off_highcount, 2), \n",
    "             vjust = 2, hjust = 1.2, size = 5) +\n",
    "    scale_fill_manual(values = c_sample_col) + theme_cowplot(20) + \n",
    "    scale_x_log10(breaks = log10_breaks, labels = log10_labels) +\n",
    "    theme(legend.position = \"none\") +\n",
    "    labs(x = \"Library Size\", y = \"density\", title = \"Total count\", \n",
    "         subtitle = paste(sum(highcount.drop), \"cell(s) to the right of cutoff have too high count\"))\n",
    "\n",
    "as.data.frame(colData(cdSc)) %>% cbind(., highcount.drop) %>%\n",
    "    rename(HighCount = highcount.drop) %>%\n",
    "    ggplot(aes(x = factor(Sample), y = sum)) + geom_violin(linewidth = 1) +\n",
    "    geom_jitter(aes(color = HighCount, size = HighCount, alpha = HighCount), \n",
    "                position = position_jitter(height = 0, width = 0.15, seed = 123)) +\n",
    "    scale_alpha_discrete(range = c(0.5, 1)) + scale_size_discrete(range = c(2, 3)) +\n",
    "    scale_color_manual(values = c(\"black\", \"red\")) + theme_cowplot(20) + \n",
    "    scale_y_continuous(labels = unit_format(unit = \"K\", scale = 1e-3)) +\n",
    "    guides(color = guide_legend(override.aes = list(size = 4, alpha = 1))) +\n",
    "    labs(x = \"Sample\", y = \"Library Size\", title = \"Total count\", \n",
    "         subtitle = paste(sum(highcount.drop), \"cell(s) coloured in red have extremely high count\"))"
   ]
  },
  {
   "cell_type": "markdown",
   "metadata": {},
   "source": [
    "## Show outlier summary"
   ]
  },
  {
   "cell_type": "code",
   "execution_count": null,
   "metadata": {},
   "outputs": [],
   "source": [
    "print(paste(\"Cells removed if:\"))\n",
    "print(paste(\"Read count below library size cutoff:\", round(cut_off_reads, 2)))\n",
    "print(paste(\"Number of genes expressed below feature cutoff:\", round(cut_off_genes, 2)))\n",
    "print(paste(\"MT percent above mito cutoff:\", round(cut_off_MT, 2)))\n",
    "print(paste(\"Novelty cutoff:\", round(cut_off_novelty, 2)))\n",
    "print(paste(\"High count cutoff:\", round(cut_off_highcount, 2)))"
   ]
  },
  {
   "cell_type": "code",
   "execution_count": null,
   "metadata": {},
   "outputs": [],
   "source": [
    "# Discard summary\n",
    "discard <- libsize.drop | feature.drop | mito.drop | novelty.drop | highcount.drop\n",
    "cdSc$discard <- discard\n",
    "\n",
    "venn.df <- data.frame(Sample = cdSc$Sample, LibSize = libsize.drop, FeaturesExp = feature.drop, \n",
    "                      MitoProp = mito.drop, Novelty = novelty.drop, HighCount = highcount.drop, Total = discard)\n",
    "\n",
    "print(paste(\"Total number of cells removed:\"))\n",
    "DataFrame(Cells = colSums(venn.df[,2:7]))"
   ]
  },
  {
   "cell_type": "code",
   "execution_count": null,
   "metadata": {},
   "outputs": [],
   "source": [
    "limma::vennDiagram(venn.df[,2:6], cex = c(1.5,1.2,1.0))"
   ]
  },
  {
   "cell_type": "markdown",
   "metadata": {},
   "source": [
    "Use __QC plot(s) below__ to check result and decide whether further filtering is required."
   ]
  },
  {
   "cell_type": "code",
   "execution_count": null,
   "metadata": {},
   "outputs": [],
   "source": [
    "fig(width = 16, height = 8)\n",
    "plotColData(cdSc, x = \"sum\", y = \"detected\", colour_by = \"subsets_Mt_percent\", \n",
    "            other_fields = c(\"Sample\",\"discard\"), point_size = 2, point_alpha = 0.3, theme_size = 20) +\n",
    "    facet_grid(discard ~ Sample) +\n",
    "    scale_x_log10(breaks = log10_breaks, labels = log10_labels) +\n",
    "    scale_y_log10(breaks = log10_breaks, labels = log10_labels) +\n",
    "    guides(color = guide_colorbar(title = \"Mitochondrial\\nproportion (%)\")) +\n",
    "    labs(x = \"Library size\", y = \"Number of detected genes\")\n",
    "reset.fig()"
   ]
  },
  {
   "cell_type": "markdown",
   "metadata": {},
   "source": [
    "## Filter poor-quality cells\n",
    "\n",
    "A new object is created with the filtered dataset."
   ]
  },
  {
   "cell_type": "code",
   "execution_count": null,
   "metadata": {},
   "outputs": [],
   "source": [
    "cdScAnnot <- cdSc[, !cdSc$discard]\n",
    "cdScAnnot"
   ]
  },
  {
   "cell_type": "code",
   "execution_count": null,
   "metadata": {},
   "outputs": [],
   "source": [
    "print(paste(\"Total cells before quality filtering =\", ncol(cdSc)))\n",
    "print(paste(\"Total cells before quality filtering, per sample:\"))\n",
    "table(cdSc$Sample)\n",
    "\n",
    "print(paste(\"Total cells remaining after quality filtering =\", ncol(cdScAnnot)))\n",
    "print(paste(\"Total cells after quality filtering, per sample:\"))\n",
    "table(cdScAnnot$Sample)"
   ]
  },
  {
   "cell_type": "code",
   "execution_count": null,
   "metadata": {},
   "outputs": [],
   "source": [
    "# Show library size\n",
    "as.data.frame(colData(cdScAnnot)) %>% \n",
    "    ggplot(aes(x = factor(Sample), y = sum, color = Sample)) + geom_violin(linewidth = 1) +\n",
    "    geom_jitter(alpha = 0.5, size = 1, position = position_jitter(height = 0, width = 0.15, seed = 123)) +\n",
    "    scale_color_manual(values = c_sample_col) + theme_cowplot(20) + \n",
    "    guides(color = guide_legend(override.aes = list(size = 4, alpha = 1))) +\n",
    "    theme(legend.position = \"none\") + labs(x = \"Sample\", y = \"Library Size\", title = \"Total UMI count\")"
   ]
  },
  {
   "cell_type": "markdown",
   "metadata": {},
   "source": [
    "## Update PerFeatureQC due to cell filtering"
   ]
  },
  {
   "cell_type": "code",
   "execution_count": null,
   "metadata": {},
   "outputs": [],
   "source": [
    "rowData(cdScAnnot) <- rowData(cdScAnnot)[,!colnames(rowData(cdScAnnot)) %in% \n",
    "                                         c(\"mean\",\"detected\",\"n_cells_by_counts\",\"pct_dropout\")]\n",
    "cdScAnnot <- addPerFeatureQC(cdScAnnot, detection_limit = 0, BPPARAM = bpp)\n",
    "rowData(cdScAnnot)$n_cells_by_counts <- rowData(cdScAnnot)$detected/100 * ncol(cdScAnnot)\n",
    "rowData(cdScAnnot)$pct_dropout <- 100 - rowData(cdScAnnot)$detected\n",
    "\n",
    "cdScAnnot"
   ]
  },
  {
   "cell_type": "markdown",
   "metadata": {},
   "source": [
    "Create a `dgCMatrix` counts matrix for faster computation in some steps."
   ]
  },
  {
   "cell_type": "code",
   "execution_count": null,
   "metadata": {},
   "outputs": [],
   "source": [
    "annot_c <- as(counts(cdScAnnot, withDimnames = FALSE), \"dgCMatrix\")\n",
    "rownames(annot_c) <- rownames(cdScAnnot)"
   ]
  },
  {
   "cell_type": "markdown",
   "metadata": {},
   "source": [
    "# 4 - Classification of cell cycle phase\n",
    "\n",
    "On occasion, it can be desirable to determine cell cycle activity from scRNA-seq data. In and of itself, the distribution of cells across phases of the cell cycle is not usually informative, but we can use this to determine if there are differences in proliferation between subpopulations or across treatment conditions.\n",
    "\n",
    "The prediction method used here is described by [Scialdone et al. (2015)](https://www.sciencedirect.com/science/article/pii/S1046202315300098) to classify cells into cell cycle phases based on the gene expression data. Using a training dataset, the sign of the difference in expression between two genes was computed for each pair of genes. Pairs with changes in the sign across cell cycle phases were chosen as markers. Cells in a test dataset can then be classified into the appropriate phase, based on whether the observed sign for each marker pair is consistent with one phase or another. We do the cell cycle classification before gene filtering as this provides more precise cell cycle phase classifications. This approach is implemented in the Cyclone function using a pre-trained set of marker pairs for human data. Some additional work is necessary to match the gene symbols in the data to the Ensembl annotation in the pre-trained marker set.\n",
    "\n",
    "Previously, the workflow uses `org.XX.eg.db` to map SYMBOL from `rowData` to Ensembl ID. However the `rowData` now contains Ensembl ID, therefore the mapping step is not necessary.\n",
    "\n",
    "## Load pre-trained set of marker pairs\n",
    "\n",
    "<div class=\"alert alert-warning\">\n",
    "  <strong>Warning!</strong> Edits required to choose human or mouse cycle markers.\n",
    "</div>"
   ]
  },
  {
   "cell_type": "code",
   "execution_count": null,
   "metadata": {},
   "outputs": [],
   "source": [
    "# Human\n",
    "sample.pairs <- readRDS(system.file(\"exdata\", \"human_cycle_markers.rds\", package = \"scran\"))\n",
    "\n",
    "# Mouse\n",
    "#sample.pairs <- readRDS(system.file(\"exdata\", \"mouse_cycle_markers.rds\", package = \"scran\"))"
   ]
  },
  {
   "cell_type": "markdown",
   "metadata": {},
   "source": [
    "## Run `cyclone` classifier\n",
    "\n",
    "__Background about Cell Cycle Analysis__\n",
    "\n",
    "- Cells are classified as being in G1 phase (not in cell division aka cell cycle) if their G1 score is above 0.5 and greater than the G2/M score.\n",
    "- Cells are classified as being in S phase (synthesis of DNA, replication) if neither score is above 0.5.\n",
    "- Cells are classified as being in G2/M phase (gap between DNA synthesis and mitosis) if their G2/M score is above 0.5 and greater than the G1 score.\n",
    " \n",
    "The cell-cycle status of cells can be a significant confounding factor in some datasets i.e. clusters forming on the basis of cell cycle status instead of other biological factors of interest. The goal at this stage is only to assess the cell cycle status of cells not to try normalise it away.\n",
    "\n",
    "This method would be less accurate for data that are substantially different from those used in the training set, e.g., due to the use of a different protocol. This dataset uses UMI counts, which has an entirely different set of biases, e.g., 3’-end coverage only, no length bias, no amplification noise. These new biases (and the absence of expected biases) may interfere with accurate classification of some cells. So there is some uncertainty with this analysis. \n",
    "\n",
    "Nevertheless we need to keep in mind that there could be quite high cell-cycle effect which might confound the dataset. To avoid problems from misclassification, no processing of this dataset by cell cycle phase will be done here."
   ]
  },
  {
   "cell_type": "code",
   "execution_count": null,
   "metadata": {},
   "outputs": [],
   "source": [
    "set.seed(12345)\n",
    "# Use counts from cdScAnnot\n",
    "assignments <- cyclone(annot_c, sample.pairs, gene.names = rowData(cdScAnnot)$ID, verbose = TRUE, BPPARAM = bpp)\n",
    "\n",
    "## Assigning cell-cycle stages to the scater object\n",
    "cdScAnnot$CellCycle <- factor(assignments$phases)\n",
    "\n",
    "print(\"Predicted phase:\")\n",
    "table(Sample = cdScAnnot$Sample, \"Phases (cells)\" = cdScAnnot$CellCycle)\n",
    "round(prop.table(table(Sample = cdScAnnot$Sample, \"Phases (%)\" = cdScAnnot$CellCycle))*100, 2)"
   ]
  },
  {
   "cell_type": "markdown",
   "metadata": {},
   "source": [
    "Generally if they are on G1 stage, then they are not in cell-cycle stage and if on G2/M then they are cell-cycle stages. If they are in S, which is the synthesis phase indicating DNA is being replicated."
   ]
  },
  {
   "cell_type": "code",
   "execution_count": null,
   "metadata": {},
   "outputs": [],
   "source": [
    "fig(width = 9, height = 8)\n",
    "plotCyclone(assignments, phase_color = c_phase_col, title = \"Cell cycle phase scores\")\n",
    "reset.fig()"
   ]
  },
  {
   "cell_type": "markdown",
   "metadata": {},
   "source": [
    "## Save `cyclone` results to `metadata`"
   ]
  },
  {
   "cell_type": "code",
   "execution_count": null,
   "metadata": {},
   "outputs": [],
   "source": [
    "metadata(cdScAnnot)[['cyclone']] <- assignments"
   ]
  },
  {
   "cell_type": "markdown",
   "metadata": {},
   "source": [
    "# 5 - Expression normalization\n",
    "\n",
    "Single cell RNA-seq data requires different normalisation to bulk data methods (e.g. DESeq2) because scRNA-seq is very sparse. Here the deconvolution based method will be used.\n",
    "\n",
    "__Further detail on the deconvolution method to deal with zero counts:__ \n",
    "Read counts are subject to differences in capture efficiency and sequencing depth between cells ([Stegle et al., 2015](https://www.nature.com/articles/nrg3833)). Normalisation is required to eliminate these cell-specific biases prior to downstream quantitative analyses. In bulk data this is often done by assuming that most genes are not differentially expressed (DE) between cells. Any systematic difference in count size across the non-DE majority of genes between two cells is assumed to represent bias and is removed by scaling. More specifically, “size factors” are calculated that represent the extent to which counts should be scaled in each library. Single-cell data can be problematic due to the dominance of low and zero counts. To overcome this, counts from many cells are pooled to increase the count size for accurate size factor estimation ([Lun et al., 2016](https://genomebiology.biomedcentral.com/articles/10.1186/s13059-016-0947-7)). Pool-based size factors are then “deconvolved” into cell-based factors for cell-specific normalisation.\n",
    "\n",
    "## Compute deconvolution size factors\n",
    "\n",
    "In general, it is more appropriate to pool more similar cells to avoid violating the assumption of a non-DE majority of genes. This can be done by specifying the `clusters` argument where cells in each cluster have similar expression profiles. Deconvolution is subsequently applied on the cells within each cluster, where there should be fewer DE genes between cells. A convenience function `quickCluster` is provided for this purpose, though any reasonable clustering can be used. Only a rough clustering is required here, as `calculateSumFactors` is robust to a moderate level of DE within each cluster.\n",
    "\n",
    "After performing `calculateSumFactors`, we store size factors in a new column called `sizeFactor` in `colData`. The values can be retrieved by using the `sizeFactors` function."
   ]
  },
  {
   "cell_type": "code",
   "execution_count": null,
   "metadata": {},
   "outputs": [],
   "source": [
    "# Using pre-clustering\n",
    "set.seed(12345)\n",
    "# We want at least 100 cells per cluster, i.e. min.size = 100\n",
    "qclust <- quickCluster(annot_c, min.size = 100, BPPARAM = bpp)\n",
    "table(qclust)\n",
    "\n",
    "# Default min.mean to 1 for read count data and 0.1 for UMI data\n",
    "sizeFactors(cdScAnnot) <- calculateSumFactors(annot_c, cluster = qclust, min.mean = 0.1, BPPARAM = bpp)\n",
    "summary(sizeFactors(cdScAnnot)) # same as cdScAnnot$sizeFactor"
   ]
  },
  {
   "cell_type": "markdown",
   "metadata": {},
   "source": [
    "## Compute log-transformed normalized expression values\n",
    "\n",
    "The count data are used to compute normalised log-expression values for use in downstream analyses. Each value is defined as the log-ratio of each count to the size factor for the corresponding cell, after adding a prior count of 1 to avoid undefined values at zero counts. Division by the size factor ensures that any cell-specific biases are removed. If spike-in-specific size factors are present in sce, they will be automatically applied to normalise the spike-in transcripts separately from the endogenous genes.\n",
    "\n",
    "The log-transformation provides some measure of variance stabilization ([Law et al., 2014](https://www.ncbi.nlm.nih.gov/pmc/articles/PMC4053721/)), so that high-abundance genes with large variances do not dominate downstream analyses. The computed values are stored as an expression matrix in addition to the other assay elements.\n",
    "\n",
    "When `sizeFactor` is present in `colData()`, the normalised expression computation will use this by default when `size.factors = NULL`."
   ]
  },
  {
   "cell_type": "code",
   "execution_count": null,
   "metadata": {},
   "outputs": [],
   "source": [
    "cdScAnnot <- logNormCounts(cdScAnnot)\n",
    "cdScAnnot"
   ]
  },
  {
   "cell_type": "markdown",
   "metadata": {},
   "source": [
    "Create a `dgCMatrix` logcounts matrix for faster computation in some steps."
   ]
  },
  {
   "cell_type": "code",
   "execution_count": null,
   "metadata": {},
   "outputs": [],
   "source": [
    "annot_l <- as(logcounts(cdScAnnot, withDimnames = FALSE), \"dgCMatrix\")\n",
    "rownames(annot_l) <- rownames(cdScAnnot)"
   ]
  },
  {
   "cell_type": "markdown",
   "metadata": {},
   "source": [
    "# 6 - Feature (HVGs) selection\n",
    "\n",
    "We often use scRNA-seq data in exploratory analyses to characterize heterogeneity across cells. Procedures like clustering and dimensionality reduction compare cells based on their gene expression profiles. We want to select genes that contain useful information about the biology of the system while removing genes that contain random noise. \n",
    "\n",
    "The simplest approach to feature selection is to select the most variable genes based on their expression across the population. Several methods are available to quantify the variation per gene and to select an appropriate set of highly variable genes (HVGs).\n",
    "\n",
    "1. Variance of the log-counts (`modelGeneVar`): Model the variance of the log-expression profiles for each gene, decomposing it into technical and biological components based on a fitted mean-variance trend.\n",
    "2. Coefficient of variation (`modelGeneCV2`): Model the squared coefficient of variation (CV<sup>2</sup>) of the normalized expression profiles for each gene, fitting a trend to account for the mean-variance relationship across genes.\n",
    "3. Quantifying technical noise: In some scenarios where many genes at a particular abundance are affected by a biological process and caused the fitted trend to be inflated, e.g. by strong upregulation of cell type-specific genes. We can fit a mean-dependent trend to the variance of the spike-in transcripts, so the fitted value of the spike-in trend should represent a better estimate of the technical component for each gene.\n",
    "  - With spike-in data (`modelGeneVarWithSpikes`): Model the variance of the log-expression profiles for each gene, decomposing it into technical and biological components based on a mean-variance trend fitted to spike-in transcripts.\n",
    "  - Without spike-in data (`modelGeneVarByPoisson`): In the absence of spike-in data, one can attempt to create a trend by making some distributional assumptions about the noise.\n",
    "\n",
    "#### About the returned DataFrame:\n",
    "\n",
    "- mean: Mean normalised log-expression per gene.\n",
    "- total: Variance of the normalised log-expression per gene.\n",
    "- bio: Biological component of the variance.\n",
    "- tech: Technical component of the variance.\n",
    "- p.value, FDR: Raw and adjusted p-values for the test against the null hypothesis that bio<=0.\n",
    "\n",
    "<div class=\"alert alert-info\">\n",
    "    <strong>Info!</strong> Create a new object <code>cdScFilt</code> so that modelling is only performed on this subset of genes.\n",
    "</div>"
   ]
  },
  {
   "cell_type": "code",
   "execution_count": null,
   "metadata": {},
   "outputs": [],
   "source": [
    "# Not is_ambient\n",
    "#cdScFilt <- cdScAnnot[!rowData(cdScAnnot)$is_ambient,]\n",
    "\n",
    "# Not is_ambient and not is_mito\n",
    "#cdScFilt <- cdScAnnot[!rowData(cdScAnnot)$is_ambient & !rowData(cdScAnnot)$is_mito,]\n",
    "\n",
    "# Not is_ambient and not is_mito and not ribosomal protein-coding genes (Human & Mouse)\n",
    "cdScFilt <- cdScAnnot[!rowData(cdScAnnot)$is_ambient & !rowData(cdScAnnot)$is_mito & \n",
    "                      !grepl(\"^RPL|^RPS|^Rpl|^Rps\", rownames(cdScAnnot)),]\n",
    "cdScFilt"
   ]
  },
  {
   "cell_type": "markdown",
   "metadata": {},
   "source": [
    "Create `dgCMatrix` counts and logcounts matrices for faster computation in some steps."
   ]
  },
  {
   "cell_type": "code",
   "execution_count": null,
   "metadata": {},
   "outputs": [],
   "source": [
    "filt_c <- as(counts(cdScFilt, withDimnames = FALSE), \"dgCMatrix\")\n",
    "rownames(filt_c) <- rownames(filt_c)\n",
    "\n",
    "filt_l <- as(logcounts(cdScFilt, withDimnames = FALSE), \"dgCMatrix\")\n",
    "rownames(filt_l) <- rownames(cdScFilt)"
   ]
  },
  {
   "cell_type": "markdown",
   "metadata": {},
   "source": [
    "## Quantifying per-gene variation\n",
    "\n",
    "### Model the variance of the log-expression profiles for each gene"
   ]
  },
  {
   "cell_type": "code",
   "execution_count": null,
   "metadata": {},
   "outputs": [],
   "source": [
    "set.seed(12345)\n",
    "var.out1 <- modelGeneVar(filt_l, BPPARAM = bpp) # logcounts\n",
    "var.out1 %>% as.data.frame %>% arrange(FDR, desc(bio)) %>% dplyr::select(1:6) %>% DataFrame"
   ]
  },
  {
   "cell_type": "markdown",
   "metadata": {},
   "source": [
    "### Model the per-gene count variance with Poisson noise\n",
    "\n",
    "For each gene, the function computes the variance and mean of the log-expression values. A trend is fitted to the variance against the mean for simulated Poisson counts. The assumption is that the technical component is Poisson-distributed, or at least negative binomial-distributed with a known constant dispersion. This is useful for UMI count data sets that do not have spike-ins and are too heterogeneous to assume that most genes exhibit negligible biological variability.\n",
    "\n",
    "*The normalised log-expression used to calculate the per-gene mean here are identical to that calculated by `logNormCounts`, and are different from that by log2 cpm method.*"
   ]
  },
  {
   "cell_type": "code",
   "execution_count": null,
   "metadata": {},
   "outputs": [],
   "source": [
    "set.seed(12345)\n",
    "var.out2 <- modelGeneVarByPoisson(filt_c, BPPARAM = bpp) # counts\n",
    "var.out2 %>% as.data.frame %>% arrange(FDR, desc(bio)) %>% dplyr::select(1:6) %>% DataFrame"
   ]
  },
  {
   "cell_type": "markdown",
   "metadata": {},
   "source": [
    "### Assess the fit\n",
    "\n",
    "We assess the suitability of the trend fitted to the endogenous variances by examining whether it is consistent with the variances. The trend passes through or close to most of the endogenous gene variances, indicating that our assumption (that most genes have low levels of biological variability) is valid. This strategy exploits the large number of endogenous genes to obtain a stable trend. "
   ]
  },
  {
   "cell_type": "markdown",
   "metadata": {},
   "source": [
    "#### Visualizing the fit: `modelGeneVar`"
   ]
  },
  {
   "cell_type": "code",
   "execution_count": null,
   "metadata": {},
   "outputs": [],
   "source": [
    "# modelGeneVar\n",
    "if(\"per.block\" %in% colnames(var.out1)) {\n",
    "    blocked.stats <- var.out1$per.block\n",
    "    n <- length(names(blocked.stats))\n",
    "    p <-  vector(\"list\", n)\n",
    "\n",
    "    for(i in 1:n) {\n",
    "        p[[i]] <- plotVariableFeature(cdScFilt, var = blocked.stats[[i]], \n",
    "                                      title = paste(\"modelGeneVar:\", names(blocked.stats)[i])) +\n",
    "            theme(legend.position = \"top\", legend.justification = \"left\")\n",
    "    }\n",
    "} else {\n",
    "    p <-  vector(\"list\", 1)\n",
    "    p[[1]] <- plotVariableFeature(cdScFilt, var = var.out1, title = \"modelGeneVar\")\n",
    "}\n",
    "\n",
    "fig(width = 16, height = 7)\n",
    "plot_grid(plotlist = p)\n",
    "reset.fig()"
   ]
  },
  {
   "cell_type": "markdown",
   "metadata": {},
   "source": [
    "Ideally the plot above would look like the mountain, where it would have rise in the middle but then drop off at the end (low variance for highly expressed genes). The trend line would follow it as well.\n",
    "\n",
    "#### Visualizing the fit: `modelGeneVarByPoisson`"
   ]
  },
  {
   "cell_type": "code",
   "execution_count": null,
   "metadata": {},
   "outputs": [],
   "source": [
    "# modelGeneVarByPoisson\n",
    "if(\"per.block\" %in% colnames(var.out2)) {\n",
    "    blocked.stats <- var.out2$per.block\n",
    "    n <- length(names(blocked.stats))\n",
    "    p <-  vector(\"list\", n)\n",
    "\n",
    "    for(i in 1:n) {\n",
    "        p[[i]] <- plotVariableFeature(cdScFilt, var = blocked.stats[[i]], \n",
    "                                      title = paste(\"modelGeneVarByPoisson:\", names(blocked.stats)[i])) +\n",
    "            theme(legend.position = \"top\", legend.justification = \"left\")\n",
    "    }\n",
    "} else {\n",
    "    p <-  vector(\"list\", 1)\n",
    "    p[[1]] <- plotVariableFeature(cdScFilt, var = var.out2, title = \"modelGeneVarByPoisson\")\n",
    "}\n",
    "\n",
    "fig(width = 16, height = 7)\n",
    "plot_grid(plotlist = p)\n",
    "reset.fig()"
   ]
  },
  {
   "cell_type": "markdown",
   "metadata": {},
   "source": [
    "## Selecting highly variable genes\n",
    "\n",
    "Once the per-gene variations are quantified, the next step is to select the HVGs to be used in downstream analyses. Selecting a larger number of HVGs will allow use to retain more potentially relevant genes to capture any batch-specific variation that might be present but at the same time increasing noise from irrelevant genes that obscure interesting biological signal. There are several common methods used to guide HVG selection, which you can read more [here](https://bioconductor.org/books/3.20/OSCA.basic/feature-selection.html).\n",
    "\n",
    "### (Option 1) Select the top N genes with the highest biological components"
   ]
  },
  {
   "cell_type": "code",
   "execution_count": null,
   "metadata": {},
   "outputs": [],
   "source": [
    "nHVG <- 2000\n",
    "\n",
    "# \"modelGeneVar\" method\n",
    "hvg.out1 <- getTopHVGs(var.out1, n = nHVG, var.field = \"bio\", var.threshold = 0)\n",
    "message(sprintf(\"Top %d HVGs using Bio (modelGeneVar):\", nHVG))\n",
    "head(hvg.out1, 20)\n",
    "\n",
    "# \"modelGeneVarByPoisson\" method\n",
    "hvg.out2 <- getTopHVGs(var.out2, n = nHVG, var.field = \"bio\", var.threshold = 0)\n",
    "message(sprintf(\"Top %d HVGs using Bio (modelGeneVarByPoisson):\", nHVG))\n",
    "head(hvg.out2, 20)"
   ]
  },
  {
   "cell_type": "markdown",
   "metadata": {},
   "source": [
    "### (Option 2) Select the top N% genes with the highest biological components"
   ]
  },
  {
   "cell_type": "code",
   "execution_count": null,
   "metadata": {},
   "outputs": [],
   "source": [
    "#pHVG <- 0.20 # 20%\n",
    "\n",
    "# \"modelGeneVar\" method\n",
    "#hvg.out1 <- getTopHVGs(var.out1, prop = pHVG, var.field = \"bio\", var.threshold = 0)\n",
    "#message(sprintf(\"Number of HVGs using top %d%% Bio (modelGeneVar): %d\", round(pHVG * 100), length(hvg.out1)))\n",
    "#head(hvg.out1, 20)\n",
    "\n",
    "# \"modelGeneVarByPoisson\" method\n",
    "#hvg.out2 <- getTopHVGs(var.out2, prop = pHVG, var.field = \"bio\", var.threshold = 0)\n",
    "#message(sprintf(\"Number of HVGs using top %d%% Bio (modelGeneVarByPoisson): %d\", round(pHVG * 100), length(hvg.out2)))\n",
    "#head(hvg.out2, 20)"
   ]
  },
  {
   "cell_type": "markdown",
   "metadata": {},
   "source": [
    "### Visualise HVG selections\n",
    "\n",
    "Below we mark the selected HVG from both models in red.\n",
    "\n",
    "Trends based purely on technical noise (i.e. `modelGeneVarByPoisson`) tend to yield large biological components for highly-expressed genes, including “house-keeping” genes coding for essential cellular components such as ribosomal proteins, which are considered uninteresting for characterizing cellular heterogeneity. These observations suggest that a more accurate noise model does not necessarily yield a better ranking of HVGs, though one should keep an open mind - house-keeping genes are regularly DE in a variety of conditions, and the fact that they have large biological components indicates that there is strong variation across cells that may not be completely irrelevant. See [OSCA reference](https://bioconductor.org/books/3.20/OSCA.basic/feature-selection.html#sec:spikeins)"
   ]
  },
  {
   "cell_type": "code",
   "execution_count": null,
   "metadata": {},
   "outputs": [],
   "source": [
    "# modelGeneVar\n",
    "if(\"per.block\" %in% colnames(var.out1)) {\n",
    "    blocked.stats <- var.out1$per.block\n",
    "    n <- length(names(blocked.stats))\n",
    "    p <-  vector(\"list\", n)\n",
    "\n",
    "    for(i in 1:n) {\n",
    "        p[[i]] <- plotVariableFeature(cdScFilt, var = blocked.stats[[i]], hvg = hvg.out1,\n",
    "                                      title = paste(\"modelGeneVar:\", names(blocked.stats)[i])) +\n",
    "            theme(legend.position = \"top\", legend.justification = \"left\", legend.direction = \"vertical\")\n",
    "    }\n",
    "} else {\n",
    "    p <-  vector(\"list\", 1)\n",
    "    p[[1]] <- plotVariableFeature(cdScFilt, var = var.out1, hvg = hvg.out1, title = \"modelGeneVar\")\n",
    "}\n",
    "\n",
    "fig(width = 16, height = 7)\n",
    "plot_grid(plotlist = p)\n",
    "reset.fig()"
   ]
  },
  {
   "cell_type": "code",
   "execution_count": null,
   "metadata": {},
   "outputs": [],
   "source": [
    "# modelGeneVarByPoisson\n",
    "if(\"per.block\" %in% colnames(var.out2)) {\n",
    "    blocked.stats <- var.out2$per.block\n",
    "    n <- length(names(blocked.stats))\n",
    "    p <-  vector(\"list\", n)\n",
    "\n",
    "    for(i in 1:n) {\n",
    "        p[[i]] <- plotVariableFeature(cdScFilt, var = blocked.stats[[i]], hvg = hvg.out2,\n",
    "                                      title = paste(\"modelGeneVarByPoisson:\", names(blocked.stats)[i])) +\n",
    "            theme(legend.position = \"top\", legend.justification = \"left\", legend.direction = \"vertical\")\n",
    "    }\n",
    "} else {\n",
    "    p <-  vector(\"list\", 1)\n",
    "    p[[1]] <- plotVariableFeature(cdScFilt, var = var.out2, hvg = hvg.out2, title = \"modelGeneVarByPoisson\")\n",
    "}\n",
    "\n",
    "fig(width = 16, height = 7)\n",
    "plot_grid(plotlist = p)\n",
    "reset.fig()"
   ]
  },
  {
   "cell_type": "markdown",
   "metadata": {},
   "source": [
    "## Decide which model and HVG to use\n",
    "\n",
    "<div class=\"alert alert-warning\">\n",
    "    <strong>Warning!</strong> \n",
    "    <ul><li><code>modelGeneVar</code> - <code>var.out1</code></li>\n",
    "        <li><code>modelGeneVarByPoisson</code> - <code>var.out2</code></li>\n",
    "    </ul>\n",
    "</div>"
   ]
  },
  {
   "cell_type": "code",
   "execution_count": null,
   "metadata": {},
   "outputs": [],
   "source": [
    "# Select model\n",
    "hvg_model <- \"modelGeneVarByPoisson\""
   ]
  },
  {
   "cell_type": "markdown",
   "metadata": {},
   "source": [
    "<div class=\"alert alert-info\">\n",
    "  <strong>About this dataset: </strong> (edits required)\n",
    "  <ul>\n",
    "      <li>We use the the <code>getTopHVGs</code> method to select top <strong>2,000</strong> HVGs from the <code>modelGeneVarByPoisson</code> model.</li>\n",
    "  </ul>\n",
    "</div>\n",
    "\n",
    "<div class=\"alert alert-info\">\n",
    "    <strong>Tip!</strong> In the accompanied Shiny App, top N HVGs are used as example genes in multi-gene expression visualisation.\n",
    "</div>"
   ]
  },
  {
   "cell_type": "code",
   "execution_count": null,
   "metadata": {},
   "outputs": [],
   "source": [
    "if(hvg_model == \"modelGeneVar\") {\n",
    "    hvg_est <- var.out1\n",
    "    hvg_genes <- hvg.out1\n",
    "} else {\n",
    "    hvg_est <- var.out2\n",
    "    hvg_genes <- hvg.out2\n",
    "}\n",
    "\n",
    "# Add to runInfo\n",
    "runInfo <- c(runInfo, list(\n",
    "    \"HVG\" = list(\n",
    "        \"Method\" = hvg_model, \n",
    "        \"Estimates\" = hvg_est, \n",
    "        \"Genes\" = hvg_genes)\n",
    "    )\n",
    ")\n",
    "\n",
    "# Subset variance estimate DataFrame with HVGs\n",
    "hvg <- hvg_est[hvg_genes,]\n",
    "hvg <- data.frame(Symbol = rownames(hvg), hvg) %>% arrange(p.value, desc(bio))\n",
    "\n",
    "hvg %>% DataFrame"
   ]
  },
  {
   "cell_type": "code",
   "execution_count": null,
   "metadata": {},
   "outputs": [],
   "source": [
    "# Save to file\n",
    "write.table(hvg, file = \"HVG.tsv\", sep = \"\\t\", quote = F, row.names = F, col.names = T)"
   ]
  },
  {
   "cell_type": "code",
   "execution_count": null,
   "metadata": {},
   "outputs": [],
   "source": [
    "# Add HVG to rowData\n",
    "rowData(cdScAnnot)$is_hvg <- FALSE\n",
    "rowData(cdScAnnot)[rownames(cdScAnnot) %in% hvg_genes,]$is_hvg <- TRUE\n",
    "table(\"Is HVG\" = rowData(cdScAnnot)$is_hvg)"
   ]
  },
  {
   "cell_type": "markdown",
   "metadata": {},
   "source": [
    "__Final Notes__ There are alternative approaches for determining the HVG, especially those based on Coefficient of Variance. The method used here, the variance of the log-expression values, avoids genes with strong expression in only one or two cells. This ensures that the set of top HVGs is not dominated by genes with (mostly uninteresting) outlier expression patterns.\n",
    "\n",
    "However, it has been mentioned that fitting the trendline to endogenous genes might not always be a good idea.\n"
   ]
  },
  {
   "cell_type": "markdown",
   "metadata": {},
   "source": [
    "# 7 - Dimensionality reduction using HVG\n",
    "\n",
    "1. Principal components analysis (PCA)\n",
    "2. t-stochastic neighbor embedding (t-SNE)\n",
    "3. Uniform manifold approximation and projection (UMAP)\n",
    "\n",
    "## Principal components analysis\n",
    "\n",
    "We perform a PCA on the log-normalized expression values using the `calculatePCA` function from `scater` package. By default, `calculatePCA` function will compute the first 50 PCs.\n",
    "\n",
    "Here, we restricting the PCA to the HVGs selected previously (by using `subset_row`) to reduce both computational work and high-dimensional random noise. In particular, while PCA is robust to random noise, an excess of it may cause the earlier PCs to capture noise instead of biological structure.\n",
    "\n",
    "For large data sets, greater efficiency is obtained by using approximate SVD algorithms that only compute the top PCs. By default, most PCA-related functions in `scater` and `scran` will use methods from the `irlba` or `rsvd` packages to perform the SVD. Many of these approximate algorithms are based on randomization and thus require `set.seed()` to obtain reproducible results. See [here](https://bioconductor.org/books/3.20/OSCA.advanced/dealing-with-big-data.html#big-data-svd) more details.\n",
    "\n",
    "<div class=\"alert alert-warning\">\n",
    "    <strong>Warning!</strong> The PCA results are slightly different from versions available in R 4.3 versus R 4.4. Therefore the TSNE, UMAP and clustering results will also be different. Make sure to use the same environment/versions to process (or re-process) data from the same project.\n",
    "</div>"
   ]
  },
  {
   "cell_type": "code",
   "execution_count": null,
   "metadata": {},
   "outputs": [],
   "source": [
    "set.seed(12345)\n",
    "\n",
    "# Use exact SVD\n",
    "#pca <- calculatePCA(filt_l, ncomponents = 50, subset_row = hvg_genes)\n",
    "\n",
    "# Use Randomized SVD algorithm, much faster for file-backed matrices\n",
    "pca <- calculatePCA(filt_l, ncomponents = 50, subset_row = hvg_genes, BSPARAM = BiocSingular::RandomParam())\n",
    "\n",
    "# Use IRLBA algorithm, default behavior is more accurate\n",
    "#pca <- calculatePCA(filt_l, ncomponents = 50, subset_row = hvg_genes, BSPARAM = BiocSingular::IrlbaParam())"
   ]
  },
  {
   "cell_type": "markdown",
   "metadata": {},
   "source": [
    "The attributes of the PC coordinate matrix contain the following elements:\n",
    "\n",
    "- percentVar - the percentage of variance explained by each PC. This may not sum to 100 if not all PCs are reported.\n",
    "- varExplained - the actual variance explained by each PC.\n",
    "- rotation - the rotation matrix containing loadings for all genes used in the analysis and for each PC."
   ]
  },
  {
   "cell_type": "code",
   "execution_count": null,
   "metadata": {},
   "outputs": [],
   "source": [
    "# Store PCA results\n",
    "reducedDim(cdScAnnot, \"PCA\") <- pca\n",
    "\n",
    "# Print the dimension of the PCA reducedDims\n",
    "dim(reducedDim(cdScAnnot, \"PCA\"))\n",
    "\n",
    "# Print the PCA reducedDims structure\n",
    "str(reducedDim(cdScAnnot, \"PCA\"))"
   ]
  },
  {
   "cell_type": "markdown",
   "metadata": {},
   "source": [
    "### Choosing the number of PCs\n",
    "\n",
    "How many of the top PCs should we retain for downstream analyses? The choice of the number of PCs `d` is a decision that is analogous to the choice of the number of HVGs to use. Using more PCs will retain more biological signal at the cost of including more noise that might mask said signal. On the other hand, using fewer PCs will introduce competition between different factors of variation, where weaker (but still interesting) factors may be pushed down into lower PCs and inadvertently discarded from downtream analyses.\n",
    "\n",
    "Most practitioners will simply set `d` to a “reasonable” but arbitrary value, typically ranging from 10 to 50. Nonetheless, we will use some data-driven strategies to guide a suitable choice of `d`. These automated choices are best treated as guidelines as they make some strong assumptions about what variation is “interesting”."
   ]
  },
  {
   "cell_type": "code",
   "execution_count": null,
   "metadata": {},
   "outputs": [],
   "source": [
    "percent.var <- attr(reducedDim(cdScAnnot, \"PCA\"), \"percentVar\")\n",
    "show <- 20 # Show first N PCs\n",
    "\n",
    "as.data.frame(percent.var) %>% rownames_to_column(var = \"PC\") %>% mutate(PC = as.numeric(PC)) %>% head(show)"
   ]
  },
  {
   "cell_type": "code",
   "execution_count": null,
   "metadata": {},
   "outputs": [],
   "source": [
    "as.data.frame(percent.var) %>% rownames_to_column(var = \"PC\") %>% mutate(PC = as.numeric(PC)) %>% head(show) %>%\n",
    "    ggplot(aes(x = PC, y = percent.var)) + geom_point(size = 3) +\n",
    "    scale_x_continuous(breaks = seq(0, 50, by = 5)) + theme_cowplot(20) + \n",
    "    guides(color = guide_legend(title = \"Method\")) + theme(legend.position = \"top\") + \n",
    "    labs(x = \"PC\", y = \"Variance explained (%)\")"
   ]
  },
  {
   "cell_type": "markdown",
   "metadata": {},
   "source": [
    "<div class=\"alert alert-info\">\n",
    "  <strong>About this dataset: </strong> (edits required)\n",
    "    <ul>\n",
    "      <li>The top 10 PCs retain a lot of information, while other PCs contain pregressivelly less.</li>\n",
    "      <li>However, it is still advisable to use more PCs in <code>n_dimred</code>since they might contain information about rare cell types (in some datasets such as platelets and dendritic cells).</li>\n",
    "    </ul>\n",
    "</div>"
   ]
  },
  {
   "cell_type": "markdown",
   "metadata": {},
   "source": [
    "## Visualising with t-SNE\n",
    "\n",
    "The t-stochastic neighbor embedding (t-SNE) method attempts to find a low-dimensional representation of the data that preserves the distances between each point and its neighbors in the high-dimensional space. Unlike PCA, it is not restricted to linear transformations, nor is it obliged to accurately represent distances between distant populations. This means that it has much more freedom in how it arranges cells in low-dimensional space, enabling it to separate many distinct clusters in a complex population. See [OSCA reference](https://bioconductor.org/books/3.20/OSCA.basic/dimensionality-reduction.html#t-stochastic-neighbor-embedding)\n",
    "\n",
    "#### n_dimred\n",
    "\n",
    "By default, all dimensions are used to compute the second set of reduced dimensions. If `n_dimred` is also specified, only the first `n_dimred` columns are used. Alternatively, `n_dimred` can be an integer vector specifying the column indices of the dimensions to use.\n",
    "\n",
    "#### perplexity\n",
    "\n",
    "The value of the `perplexity` parameter can have a large effect on the results. By default, the function will set a “reasonable” perplexity that scales with the number of cells in x. (Specifically, it is the number of cells divided by 5, capped at a maximum of 50.) However, it is often worthwhile to manually try multiple values to ensure that the conclusions are robust.\n",
    "\n",
    "<div class=\"alert alert-warning\">\n",
    "  It is unwise to read too much into the relative sizes and positions of the visual clusters. t-SNE will inflate dense clusters and compress sparse ones, such that we cannot use the size as a measure of subpopulation heterogeneity. In addition, t-SNE is not obliged to preserve the relative locations of non-neighboring clusters, such that we cannot use their positions to determine relationships between distant clusters.\n",
    "</div>\n",
    "\n",
    "### Use default perplexity"
   ]
  },
  {
   "cell_type": "code",
   "execution_count": null,
   "metadata": {},
   "outputs": [],
   "source": [
    "# runTSNE() stores the t-SNE coordinates in the reducedDims\n",
    "set.seed(12345)\n",
    "cdScAnnot <- runTSNE(cdScAnnot, dimred = \"PCA\", n_dimred = 15, name = \"TSNE\", n_threads = nthreads, BPPARAM = bpp)\n",
    "\n",
    "fig(width = 8, height = 8)\n",
    "plotProjection(cdScAnnot, \"Sample\", dimname = \"TSNE\", feat_color = c_sample_col, point_alpha = 0.3, \n",
    "               legend_pos = \"none\")\n",
    "reset.fig()"
   ]
  },
  {
   "cell_type": "markdown",
   "metadata": {},
   "source": [
    "## Visualising with UMAP (`uwot::umap`)\n",
    "\n",
    "The uniform manifold approximation and projection (UMAP) method is an alternative to t-SNE for non-linear dimensionality reduction. It is roughly similar to t-SNE in that it also tries to find a low-dimensional representation that preserves relationships between neighbors in high-dimensional space. However, the two methods are based on different theory, represented by differences in the various graph weighting equations. See [OSCA reference](https://bioconductor.org/books/3.20/OSCA.basic/dimensionality-reduction.html#uniform-manifold-approximation-and-projection)\n",
    "\n",
    "Compared to t-SNE, the UMAP visualisation tends to have more compact visual clusters with more empty space between them. It also attempts to preserve more of the global structure than t-SNE.\n",
    "\n",
    "UMAP has its own suite of hyperparameters that affect the visualisation. Of these, the number of neighbors (`n_neighbors`) and the minimum distance between embedded points (`min_dist`) have the greatest effect on the granularity of the output. If these values are too low, random noise will be incorrectly treated as high-resolution structure, while values that are too high will discard fine structure altogether in favor of obtaining an accurate overview of the entire dataset. Again, it is a good idea to test a range of values for these parameters to ensure that they do not compromise any conclusions drawn from a UMAP plot.\n",
    "\n",
    "#### n_dimred\n",
    "\n",
    "By default, all dimensions are used to compute the second set of reduced dimensions. If `n_dimred` is also specified, only the first `n_dimred` columns are used. Alternatively, `n_dimred` can be an integer vector specifying the column indices of the dimensions to use.\n",
    "\n",
    "#### n_neighbors\n",
    "\n",
    "This sets the number of nearest neighbors to identify when constructing the initial graph. Larger values result in more global views of the manifold, while smaller values result in more local data being preserved. In general values should be in the range 2 to 100. The default value set by `uwot` is 15 (*seurat uses 30*).\n",
    "\n",
    "#### spread\n",
    "\n",
    "The effective scale of embedded points. In combination with `min_dist`, this determines how clustered/clumped the embedded points are. The default value set by `uwot` is 1 (*seurat also uses 1*).\n",
    "\n",
    "#### min_dist\n",
    "\n",
    "The effective minimum distance between embedded points. Smaller values will result in a more clustered/clumped embedding where nearby points on the manifold are drawn closer together, while larger values will result on a more even dispersal of points. The value should be set relative to the `spread` value, which determines the scale at which embedded points will be spread out. The default value set by `uwot` is 0.01 (*seurat also uses 0.3*).\n",
    "\n",
    "Note:\n",
    "- Default settings in scater/uwot: n_neighbors = 15, spread = 1, min_dist = 0.01\n",
    "- Default settings in seurat: n_neighbors = 30, spread = 1, min_dist = 0.3\n",
    "\n",
    "<div class=\"alert alert-warning\">\n",
    "  It is arguable whether the UMAP or t-SNE visualizations are more useful or aesthetically pleasing. UMAP aims to preserve more global structure but this necessarily reduces resolution within each visual cluster. However, UMAP is unarguably much faster, and for that reason alone, it is increasingly displacing t-SNE as the method of choice for visualizing large scRNA-seq data sets.\n",
    "</div>\n",
    "\n",
    "### Use adjusted settings"
   ]
  },
  {
   "cell_type": "code",
   "execution_count": null,
   "metadata": {},
   "outputs": [],
   "source": [
    "set.seed(12345)\n",
    "cdScAnnot <- runUMAP(cdScAnnot, dimred = \"PCA\", n_dimred = 15, name = \"UMAP\", \n",
    "                     n_neighbors = 20, spread = 1, min_dist = 0.1, n_threads = nthreads, BPPARAM = bpp)\n",
    "\n",
    "fig(width = 8, height = 8)\n",
    "plotProjection(cdScAnnot, \"Sample\", dimname = \"UMAP\", feat_color = c_sample_col, point_alpha = 0.3, \n",
    "               legend_pos = \"none\")\n",
    "reset.fig()"
   ]
  },
  {
   "cell_type": "code",
   "execution_count": null,
   "metadata": {},
   "outputs": [],
   "source": [
    "# Print reducedDim name\n",
    "reducedDimNames(cdScAnnot)"
   ]
  },
  {
   "cell_type": "markdown",
   "metadata": {},
   "source": [
    "# 8 - Cell type annotation\n",
    "\n",
    "<div class=\"alert alert-danger\">\n",
    "  Please only use automated cell type annotation as a guide. It is always necessary to annotate cluster <strong>manually</strong>.\n",
    "</div>\n",
    "\n",
    "## Using cell annotation from Cell Ranger\n",
    "\n",
    "Cell Ranger v9.0 introduces support for automated cell type annotation as part of `cellranger multi` and `cellranger count` commands and as a standalone command called `cellranger annotate`. For more info, please [click here](https://www.10xgenomics.com/support/software/cell-ranger/latest/getting-started/cr-what-is-cell-annotation). If the per-cell cell type labels from Cell Ranger is available, we can load the `cell_types.csv` output file and add it to our data.\n",
    "\n",
    "The CSV output contains four columns:\n",
    "1. `barcode`: The cell barcode being annotated\n",
    "2. `coarse_cell_type`: The high-level annotation of the cell type (e.g., T cell, B cell, monocyte, etc.). Those coarse cell types are the display nodes we manually curated.\n",
    "3. `fine_cell_type`: The original annotation derived from the model based on the most common cell type amongst the 500 nearest-neighbors. Note: This may be the same as coarse_cell_type if the original reference was only annotated to that level of detail.\n",
    "4. `cell_count_in_model`: The number of cells in the model that support the given fine_cell_type annotation, with a maximum of 500 cells.\n",
    "\n",
    "For example:\n",
    "\n",
    "```\n",
    "barcode\tcoarse_cell_type\tfine_cell_type\tcell_count_in_model\n",
    "AAACCAAAGGTGACGA-1\tT cell\tmature T cell\t177\n",
    "AAACCCTGTGACGAGT-1\tT cell\tmature T cell\t432\n",
    "AAACGAATCAGGCTAC-1\tT cell\tmature T cell\t339\n",
    "AAACGACAGATTGACT-1\tmonocyte\tmonocyte\t470\n",
    "AAACGATGTCTTGAAC-1\tT cell\tmature T cell\t428\n",
    "```"
   ]
  },
  {
   "cell_type": "code",
   "execution_count": null,
   "metadata": {},
   "outputs": [],
   "source": [
    "#cell_type_file <- \"cell_types/cell_types.csv\"\n",
    "#cell_anno <- read.csv(cell_type_file)\n",
    "#dim(cell_anno)\n",
    "#head(cell_anno)"
   ]
  },
  {
   "cell_type": "code",
   "execution_count": null,
   "metadata": {},
   "outputs": [],
   "source": [
    "#coldata <- merge(colData(cdScAnnot), cell_anno, by.x = \"Barcode\", by.y = \"barcode\", all.x = TRUE)\n",
    "#coldata$CellType <- coldata$coarse_cell_type # or coldata$fine_cell_type\n",
    "#rownames(coldata) <- coldata$Barcode\n",
    "#colData(cdScAnnot) <- coldata\n",
    "\n",
    "#head(colData(cdScAnnot))"
   ]
  },
  {
   "cell_type": "markdown",
   "metadata": {},
   "source": [
    "## Predict cell type using SingleR and celldex\n",
    "\n",
    "If not, we can use of the `SingleR` method for cell type annotation. This method assigns labels to cells based on the reference samples with the highest Spearman rank correlations, using only the marker genes between pairs of labels to focus on the relevant differences between cell types. See [OSCA reference](https://bioconductor.org/books/3.20/OSCA.basic/cell-type-annotation.html#assigning-cell-labels-from-reference-data)\n",
    "\n",
    "The `celldex` package contains a number of curated reference datasets (listed below), mostly assembled from bulk RNA-seq or microarray data of sorted cell types. \n",
    "\n",
    "**For Human**\n",
    "\n",
    "Following human reference datasets are available: \n",
    "\n",
    "- **BlueprintEncodeData** - Blueprint Epigenomics contains 144 RNA-seq pure immune samples annotated to 28 cell types. ENCODE contains 115 RNA-seq pure stroma and immune samples annotated to 17 cell types. All together, this reference contains 259 samples with 43 cell types (\"`label.fine`\"), manually aggregated into 24 broad classes (\"`label.main`\"). \n",
    "\n",
    "- **DatabaseImmuneCellExpressionData** - The dataset contains 1561 human RNA-seq samples annotated to 5 main cell types (\"`label.main`\"). Samples were additionally annotated to 15 fine cell types (\"`label.fine`\").\n",
    "\n",
    "- **HumanPrimaryCellAtlasData** - The dataset contains 713 microarray samples from the Human Primary Cell Atlas (HPCA) (Mabbott et al., 2013). Each sample has been assigned to one of 37 main cell types (\"`label.main`\") and 157 subtypes (\"`label.fine`\"). \n",
    "\n",
    "- **MonacoImmuneData** - The dataset contains 114 human RNA-seq samples annotated to 10 main cell types (\"`label.main`\"). Samples were additionally annotated to 29 fine cell types (\"`label.fine`\").\n",
    "\n",
    "- **NovershternHematopoieticData** - The dataset contains 211 human microarray samples annotated to 16 main cell types (\"`label.main`\"). Samples were additionally annotated to 38 fine cell types (\"`label.fine`\").\n",
    "\n",
    "For specific applications, smaller datasets can be applicable. *SingleR* is flexible to be used with any reference dataset.\n",
    "\n",
    "**For Mouse**\n",
    "\n",
    "Following mouse reference datasets are available: \n",
    "\n",
    "- **ImmGenData** - The dataset contains 830 microarray samples generated by ImmGen from pure populations of murine immune cells (<http://www.immgen.org/>). This dataset consists of 20 broad cell types (\"`label.main`\") and 253 finely resolved cell subtypes (\"`label.fine`\").\n",
    "\n",
    "- **MouseRNAseqData** - The dataset contains 358 mouse RNA-seq samples annotated to 18 main cell types (\"`label.main`\"). These are split further into 28 subtypes (\"`label.fine\"`).\n",
    "\n",
    "### Load `celldex` databases\n",
    "\n",
    "<div class=\"alert alert-warning\">\n",
    "  <strong>Warning!</strong> Edits required to choose human or mouse datasets.\n",
    "</div>"
   ]
  },
  {
   "cell_type": "code",
   "execution_count": null,
   "metadata": {},
   "outputs": [],
   "source": [
    "# For Human\n",
    "bpen <- celldex::BlueprintEncodeData()\n",
    "hpca <- celldex::HumanPrimaryCellAtlasData()\n",
    "# dice <- celldex::DatabaseImmuneCellExpressionData()\n",
    "# mona <- celldex::MonacoImmuneData()\n",
    "# dmap <- celldex::NovershternHematopoieticData()\n",
    "\n",
    "# For mouse\n",
    "# immg <- celldex::ImmGenData()\n",
    "# mmrna <- celldex::MouseRNAseqData()"
   ]
  },
  {
   "cell_type": "markdown",
   "metadata": {},
   "source": [
    "### Run `SingleR`\n",
    "\n",
    "Use `de.method` to specify how DE genes should be detected between pairs of labels. The defaults is `\"classic\"`, which sorts genes by the log-fold changes and takes the top `de.n`. Setting this to `\"wilcox\"` or `\"t\"` will use Wilcoxon ranked sum test or Welch t-test between labels, respectively, and take the top `de.n` upregulated genes per comparison.\n",
    "\n",
    "If `de.method=\"classic\"`, the default `de.n` is set at `500 * (2/3) ^ log2(N)` where `N` is the number of unique labels. Otherwise, `de.n` is set at `10`. A larger number of markers increases the robustness of the annotation by ensuring that relevant genes are not omitted, especially if the reference dataset has study-specific effects that cause uninteresting genes to dominate the top set. However, this comes at the cost of increasing noise and computational time.\n",
    "\n",
    "The default marker selection (i.e. `de.method=\"classic\"`) is based on log-fold changes between the per-label medians and is very much designed with **bulk references** in mind. It may not be effective for single-cell reference data where it is not uncommon to have more than 50% zero counts for a given gene such that the median is also zero for each group. Users are recommended to either set `de.method` to another DE ranking method, or detect markers externally and pass a list of markers to genes."
   ]
  },
  {
   "cell_type": "code",
   "execution_count": null,
   "metadata": {},
   "outputs": [],
   "source": [
    "# Human Example\n",
    "\n",
    "# BlueprintEncodeData\n",
    "singler.bp <- SingleR(test = filt_l, de.method = \"classic\", ref = list(BP = bpen),\n",
    "                      labels = list(bpen$label.main), num.threads = nthreads)\n",
    "\n",
    "# HumanPrimaryCellAtlasData\n",
    "singler.hpca <- SingleR(test = filt_l, de.method = \"classic\", ref = list(HPCA = hpca), \n",
    "                        labels = list(hpca$label.main), num.threads = nthreads)\n",
    "\n",
    "# BlueprintEncodeData and HumanPrimaryCellAtlasData\n",
    "singler <- SingleR(test = filt_l, de.method = \"classic\", ref = list(BP = bpen, HPCA = hpca), \n",
    "                   labels = list(bpen$label.main, hpca$label.main), num.threads = nthreads)"
   ]
  },
  {
   "cell_type": "code",
   "execution_count": null,
   "metadata": {},
   "outputs": [],
   "source": [
    "# Mouse Example\n",
    "\n",
    "# ImmGenData\n",
    "#singler.immg <- SingleR(test = filt_l, de.method = \"classic\", ref = list(IMMG = immg), \n",
    "#                        labels = list(immg$label.main), num.threads = nthreads)\n",
    "\n",
    "# MouseRNAseqData\n",
    "#singler.mrna <- SingleR(test = filt_l, de.method = \"classic\", ref = list(MouseRNA = mmrna), \n",
    "#                        labels = list(mmrna$label.main), num.threads = nthreads)\n",
    "\n",
    "# ImmGenData and MouseRNAseqData\n",
    "#singler <- SingleR(test = filt_l, de.method = \"classic\", ref = list(MouseRNA = mmrna, IMMG = immg), \n",
    "#                   labels = list(mmrna$label.main, immg$label.main), num.threads = nthreads)"
   ]
  },
  {
   "cell_type": "markdown",
   "metadata": {},
   "source": [
    "### Inspect predicted labels\n",
    "\n",
    "<div class=\"alert alert-warning\">\n",
    "  <strong>Warning!</strong> Please adapt the following codes and change the object names to suit your choosen reference dataset(s).\n",
    "</div>\n",
    "\n",
    "#### Print cell type frequency"
   ]
  },
  {
   "cell_type": "code",
   "execution_count": null,
   "metadata": {},
   "outputs": [],
   "source": [
    "table(\"BlueprintEncodeData\" = singler.bp$labels)"
   ]
  },
  {
   "cell_type": "code",
   "execution_count": null,
   "metadata": {},
   "outputs": [],
   "source": [
    "fig(width = 9, height = 7)\n",
    "plotProjection(cdScAnnot, singler.bp$labels, dimname = \"TSNE\", feat_desc = \"BlueprintEncodeData\", \n",
    "               feat_color = c40(), point_size = 1, guides_size = 4, title = \"TSNE\")\n",
    "reset.fig()"
   ]
  },
  {
   "cell_type": "code",
   "execution_count": null,
   "metadata": {},
   "outputs": [],
   "source": [
    "table(\"HumanPrimaryCellAtlasData\" = singler.hpca$labels)"
   ]
  },
  {
   "cell_type": "code",
   "execution_count": null,
   "metadata": {},
   "outputs": [],
   "source": [
    "fig(width = 9, height = 7)\n",
    "plotProjection(cdScAnnot, singler.hpca$labels, dimname = \"TSNE\", feat_desc = \"HumanPrimaryCellAtlasData\", \n",
    "               feat_color = c40(), point_size = 1, guides_size = 4, title = \"TSNE\")\n",
    "reset.fig()"
   ]
  },
  {
   "cell_type": "code",
   "execution_count": null,
   "metadata": {},
   "outputs": [],
   "source": [
    "table(\"BlueprintEncodeData + HumanPrimaryCellAtlasData\" = singler$labels)"
   ]
  },
  {
   "cell_type": "code",
   "execution_count": null,
   "metadata": {},
   "outputs": [],
   "source": [
    "fig(width = 9, height = 7)\n",
    "plotProjection(cdScAnnot, singler$labels, dimname = \"TSNE\", \n",
    "               feat_desc = \"BlueprintEncodeData + HumanPrimaryCellAtlasData\", \n",
    "               feat_color = c40(), point_size = 1, guides_size = 4, title = \"TSNE\")\n",
    "reset.fig()"
   ]
  },
  {
   "cell_type": "markdown",
   "metadata": {},
   "source": [
    "#### Rename combined prediction labels if using both HumanPrimaryCellAtlasData and BlueprintEncodeData"
   ]
  },
  {
   "cell_type": "code",
   "execution_count": null,
   "metadata": {},
   "outputs": [],
   "source": [
    "# Re-label for consistency\n",
    "HPCA_to_BP_labels <- function(pred = singler) {\n",
    "    HPCA <- c(\"Astrocyte\",\"B_cell\",\"T_cells\",\"Endothelial_cells\",\"Epithelial_cells\",\"Macrophage\",\"Monocyte\",\n",
    "              \"NK_cell\",\"Smooth_muscle_cells\")\n",
    "    BP <- c(\"Astrocytes\",\"B-cells\",\"T-cells\",\"Endothelial cells\",\"Epithelial cells\",\"Macrophages\",\"Monocytes\",\n",
    "            \"NK cells\",\"Smooth muscle\")\n",
    "\n",
    "    for(i in 1:length(HPCA)) {\n",
    "        if(sum(pred$labels == HPCA[i]) > 0) {\n",
    "            pred$labels[pred$labels == HPCA[i]] <- BP[i]\n",
    "        }\n",
    "    }\n",
    "    return(pred)\n",
    "}\n",
    "\n",
    "singler <- HPCA_to_BP_labels(singler)"
   ]
  },
  {
   "cell_type": "markdown",
   "metadata": {},
   "source": [
    "#### Show prediction scores\n",
    "\n",
    "We use `plotScoreHeatmap()` to display the scores for all cells across all reference labels, which allows us to inspect the confidence of the predicted labels across the dataset. \n",
    "\n",
    "Ideally, each cell (i.e., column of the heatmap) should have one score that is obviously larger than the rest, indicating that it is unambiguously assigned to a single label. A spread of similar scores for a given cell indicates that the assignment is uncertain, though this may be acceptable if the uncertainty is distributed across similar cell types that cannot be easily resolved.\n"
   ]
  },
  {
   "cell_type": "code",
   "execution_count": null,
   "metadata": {},
   "outputs": [],
   "source": [
    "fig(width = 16, height = 7)\n",
    "suppressWarnings(plotScoreHeatmap(singler.bp, grid.vars = list(ncol = 2), fontsize = 12, fontsize_row = 12))\n",
    "reset.fig()"
   ]
  },
  {
   "cell_type": "code",
   "execution_count": null,
   "metadata": {},
   "outputs": [],
   "source": [
    "fig(width = 16, height = 9)\n",
    "suppressWarnings(plotScoreHeatmap(singler.hpca, grid.vars = list(ncol = 2), fontsize = 12, fontsize_row = 12))\n",
    "reset.fig()"
   ]
  },
  {
   "cell_type": "code",
   "execution_count": null,
   "metadata": {},
   "outputs": [],
   "source": [
    "fig(width = 16, height = 5)\n",
    "# Show combine scores\n",
    "suppressWarnings(plotScoreHeatmap(singler, scores.use = 0, fontsize = 12, fontsize_row = 12))\n",
    "reset.fig()"
   ]
  },
  {
   "cell_type": "markdown",
   "metadata": {},
   "source": [
    "### Save cell type to `sce`"
   ]
  },
  {
   "cell_type": "code",
   "execution_count": null,
   "metadata": {},
   "outputs": [],
   "source": [
    "# Here we use combined prediction from 'singler', change this where applicable\n",
    "cdScAnnot$CellType <- factor(singler$labels)\n",
    "\n",
    "table(CellType = cdScAnnot$CellType, Sample = cdScAnnot$Sample)"
   ]
  },
  {
   "cell_type": "code",
   "execution_count": null,
   "metadata": {},
   "outputs": [],
   "source": [
    "# Set colours for cell types\n",
    "c_celltype_col <- choosePalette(cdScAnnot$CellType, c40)\n",
    "#c_celltype_col"
   ]
  },
  {
   "cell_type": "code",
   "execution_count": null,
   "metadata": {},
   "outputs": [],
   "source": [
    "fig(width = 16, height = 7)\n",
    "plotProjections(cdScAnnot, \"CellType\", dimnames = c(\"TSNE\", \"UMAP\"), feat_desc = \"Cell Type\", \n",
    "                feat_color = c_celltype_col, guides_size = 4, guides_ncol = 1, rel_widths = c(6, 1))\n",
    "reset.fig()"
   ]
  },
  {
   "cell_type": "markdown",
   "metadata": {},
   "source": [
    "# 9 - Cell clustering\n",
    "\n",
    "The goal is to split the cells in the dataset into clusters, such that:\n",
    "\n",
    "1. The gene expression profile in the same cluster are as similar as possible,\n",
    "2. The gene expression profile in different clusters are highly distinct\n",
    "\n",
    "**Assessing cluster separation**\n",
    "\n",
    "We can perform silhouette analysis to measures how well cells are clustered and it estimates the average distance between clusters. The silhouette plot displays a measure of how close each cell in one cluster is to cells in the neighboring clusters. Ideally, each cluster would contain large positive silhouette widths $s_i$, indicating that it is well-separated from other clusters.\n",
    "\n",
    "For each observation $i$, the silhouette width $s_i$ is calculated as follows:\n",
    "\n",
    "1. For each observation $i$, calculate the average dissimalirty $\\alpha_i$ between $i$ and all other points of the cluster which $i$ belongs.\n",
    "2. For all other clusters $C$, to which $i$ does not belong, calculate the average dissimilarity $d(i,C)$ of $i$ to all observations of $C$. The smallest of these $d(i,C)$ is defined as $b_i = min_C d(i,C)$. The value of $b_i$ can be seen as the dissimilarity between i and its __neighbour__ cluster, i.e. the nearest one to which it does not belong.\n",
    "3. Finally the silhouette width of the observation $i$ is defined by the formula: $S_i = \\frac{(b_i - a_i)}{max(a_i,b_i)}$\n",
    "\n",
    "Silhouette width $s_i$ can be interpreted as follows:\n",
    "\n",
    "- Cells with a large $s_i$ (almost 1) are very well clustered.\n",
    "- A small $s_i$ (around 0) means that the observation lies between two clusters.\n",
    "- Cells with a negative $s_i$ are probably placed in the wrong cluster. (so cluster is less stable and trustworthy)"
   ]
  },
  {
   "cell_type": "code",
   "execution_count": null,
   "metadata": {},
   "outputs": [],
   "source": [
    "# Stores clustering labels\n",
    "my.clusters <- vector(mode = \"list\")\n",
    "communities <- vector(mode = \"list\") # walktrap, louvain"
   ]
  },
  {
   "cell_type": "markdown",
   "metadata": {},
   "source": [
    "## Use graph-based clustering\n",
    "\n",
    "Popularized by its use in Seurat, graph-based clustering is a flexible and scalable technique for clustering large scRNA-seq datasets. The major advantage of graph-based clustering lies in its scalability. It only requires a  \n",
    "k-nearest neighbor search that can be done in log-linear time on average. Graph construction avoids making strong assumptions about the shape of the clusters or the distribution of cells within each cluster.\n",
    "\n",
    "From a practical perspective, each cell is forcibly connected to a minimum number of neighboring cells, which reduces the risk of generating many uninformative clusters consisting of one or two outlier cells. The main drawback of graph-based methods is that, after graph construction, no information is retained about relationships beyond the neighboring cells. See [OSCA reference](https://bioconductor.org/books/3.20/OSCA.basic/clustering.html#clustering-graph)\n",
    "\n",
    "#### About `k`\n",
    "\n",
    "Set `k` to specify the number of nearest neighbors to consider during graph construction. The choice of `k` controls the connectivity of the graph and the resolution of community detection algorithms. Smaller values of `k` will generally yield smaller, finer clusters, while increasing `k` will increase the connectivity of the graph and make it more difficult to resolve different communities. The value of `k` can be roughly interpreted as the anticipated size of the smallest subpopulation. \n",
    "\n",
    "#### Different methods for finding communities in `igraph`\n",
    "\n",
    "In this notebook, we use the **Walktrap**, **Louvain** and **Leiden** algorithms to detect community structure. This is also the method demonstrated in [OSCA](https://bioconductor.org/books/3.20/OSCA.basic/clustering.html#implementation). There are other methods in `igraph` ([doc](https://igraph.org/r/doc/communities.html)): \n",
    "\n",
    "- cluster_edge_betweenness: Community structure detection based on edge betweenness.\n",
    "- cluster_fast_greedy: Community structure via greedy optimization of modularity.\n",
    "- cluster_label_prop: Finding communities based on propagating labels.\n",
    "- cluster_leading_eigen: Community structure detecting based on the leading eigenvector of the community matrix.\n",
    "- **cluster_louvain \\***: Finding community structure by multi-level optimization of modularity\n",
    "- **cluster_leiden (new)**: Finding community structure of a graph using the Leiden algorithm of Traag, van Eck & Waltman. \n",
    "- cluster_optimal: Optimal community structure\n",
    "- cluster_spinglass: Finding communities in graphs based on statistical meachanics\n",
    "- **cluster_walktrap \\***: Community strucure via short random walks"
   ]
  },
  {
   "cell_type": "markdown",
   "metadata": {},
   "source": [
    "### Using 'walktrap' algorithm\n",
    "\n",
    "`is_hierarchical = TRUE`"
   ]
  },
  {
   "cell_type": "code",
   "execution_count": null,
   "metadata": {},
   "outputs": [],
   "source": [
    "method <- \"walktrap\"\n",
    "dimname <- \"PCA\"\n",
    "n_dimred <- 20 # number of dimensions to use; default is 50\n",
    "mat <- reducedDim(cdScAnnot, dimname)[, seq_len(n_dimred), drop = FALSE]\n",
    "k <- 10\n",
    "\n",
    "# Use multiple cores and annoy algorithm for approximate nearest-neighbor detection \n",
    "# to speed up graph-based clustering\n",
    "set.seed(12345)\n",
    "communities[[method]][[dimname]] <- clusterRows(mat, full = TRUE, \n",
    "                                                NNGraphParam(cluster.fun = method, k = k,\n",
    "                                                             BNPARAM = AnnoyParam(), num.threads = nthreads))\n",
    "my.clusters[[method]][[dimname]] <- factor(communities[[method]][[dimname]]$clusters)"
   ]
  },
  {
   "cell_type": "code",
   "execution_count": null,
   "metadata": {},
   "outputs": [],
   "source": [
    "print(paste(stringr::str_to_title(method), \"cluster assignments:\"))\n",
    "for(i in 1:length(my.clusters[[method]])) {\n",
    "    tab <- table(cdScAnnot$Sample, my.clusters[[method]][[i]])\n",
    "    names(dimnames(tab))[2] <- method\n",
    "    print(tab)\n",
    "\n",
    "    plotSilhouette(mat, my.clusters[[method]][[i]], printDiff = FALSE, plot = FALSE)\n",
    "}"
   ]
  },
  {
   "cell_type": "markdown",
   "metadata": {},
   "source": [
    "#### Manually tuning walktrap clustering resolution\n",
    "\n",
    "You can increase `k` to obtain less resolved clusters or descrease `k` to obtain more resolved clusters. However it will be increasingly slow with higher `k`. \n",
    "\n",
    "The `igraph`'s Walktrap community finding algorithm is a hierarchical algorithm. This implies that there is an underlying hierarchy in the communities object, and we can use the `cut_at` function to cut the merge tree at the desired place and returns a membership vector. The desired place can be expressed as the desired number of communities (e.g. `no=10`) or as the number of merge steps to make (e.g. `steps = 5`). The function gives an error message if called with a non-hierarchical method."
   ]
  },
  {
   "cell_type": "code",
   "execution_count": null,
   "metadata": {},
   "outputs": [],
   "source": [
    "# Use cut_at to set cluster size\n",
    "n <- 16\n",
    "\n",
    "my.clusters[[method]][[dimname]] <- igraph::cut_at(communities[[method]][[dimname]]$objects$communities, n = n)\n",
    "my.clusters[[method]][[dimname]] <- as.factor(my.clusters[[method]][[dimname]])\n",
    "\n",
    "print(paste(stringr::str_to_title(method), \"cluster assignments:\"))\n",
    "for(i in 1:length(my.clusters[[method]])) {\n",
    "    tab <- table(cdScAnnot$Sample, my.clusters[[method]][[i]])\n",
    "    names(dimnames(tab))[2] <- method\n",
    "    print(tab)\n",
    "\n",
    "    plotSilhouette(mat, my.clusters[[method]][[i]], printDiff = FALSE, plot = FALSE)\n",
    "}"
   ]
  },
  {
   "cell_type": "code",
   "execution_count": null,
   "metadata": {},
   "outputs": [],
   "source": [
    "fig(width = 16, height = 6)\n",
    "plotSilhouette(mat, my.clusters[[method]][[dimname]])\n",
    "reset.fig()"
   ]
  },
  {
   "cell_type": "markdown",
   "metadata": {},
   "source": [
    "#### Show assigned walktrap clusters\n",
    "\n",
    "We add the cluster assignments back into the `sce` object as a factor in the column metadata (`label`). This allows us to visualise the distribution of clusters in a t-SNE plot."
   ]
  },
  {
   "cell_type": "code",
   "execution_count": null,
   "metadata": {},
   "outputs": [],
   "source": [
    "p1 <- plotProjections(cdScAnnot, \"CellType\", dimnames = c(\"TSNE\", \"UMAP\"), \n",
    "                      feat_desc = \"Cell Type\", feat_color = c_celltype_col, \n",
    "                      text_by = my.clusters[[method]][[dimname]], legend_pos = \"none\", add_void = TRUE)\n",
    "\n",
    "p2 <- plotProjections(cdScAnnot, my.clusters[[method]][[dimname]], dimnames = c(\"TSNE\", \"UMAP\"), \n",
    "                      feat_desc = method, feat_color = c30(), text_by = my.clusters[[method]][[dimname]], \n",
    "                      guides_size = 4, guides_ncol = 1)\n",
    "\n",
    "fig(width = 16, height = 14)\n",
    "plot_grid(p1, p2, ncol = 1)\n",
    "reset.fig()"
   ]
  },
  {
   "cell_type": "markdown",
   "metadata": {},
   "source": [
    "### Using 'louvain' algorithm\n",
    "\n",
    "`is_hierarchical = FALSE`\n",
    "\n",
    "The `resolution` is the resolution parameter for the Louvain algorithm. Lower values (less than 1) typically yield fewer clusters with more cells per cluster. Higher values (more than 1) yield more and smaller clusters. Default is 1."
   ]
  },
  {
   "cell_type": "code",
   "execution_count": null,
   "metadata": {},
   "outputs": [],
   "source": [
    "method <- \"louvain\"\n",
    "dimname <- \"PCA\"\n",
    "n_dimred <- 20 # number of dimensions to use; default is 50\n",
    "mat <- reducedDim(cdScAnnot, dimname)[, seq_len(n_dimred), drop = FALSE]\n",
    "k <- 10\n",
    "\n",
    "set.seed(12345)\n",
    "communities[[method]][[dimname]] <- clusterRows(mat, full = TRUE, \n",
    "                                                NNGraphParam(cluster.fun = method, k = k, type = \"jaccard\", \n",
    "                                                             cluster.args = list(resolution = 1), \n",
    "                                                             BNPARAM = AnnoyParam(), num.threads = nthreads))\n",
    "my.clusters[[method]][[dimname]] <- factor(communities[[method]][[dimname]]$clusters)"
   ]
  },
  {
   "cell_type": "code",
   "execution_count": null,
   "metadata": {},
   "outputs": [],
   "source": [
    "print(paste(stringr::str_to_title(method), \"cluster assignments:\"))\n",
    "for(i in 1:length(my.clusters[[method]])) {\n",
    "    tab <- table(cdScAnnot$Sample, my.clusters[[method]][[i]])\n",
    "    names(dimnames(tab))[2] <- method\n",
    "    print(tab)\n",
    "\n",
    "    plotSilhouette(mat, my.clusters[[method]][[i]], printDiff = FALSE, plot = FALSE)\n",
    "}"
   ]
  },
  {
   "cell_type": "code",
   "execution_count": null,
   "metadata": {},
   "outputs": [],
   "source": [
    "fig(width = 16, height = 6)\n",
    "plotSilhouette(mat, my.clusters[[method]][[dimname]])\n",
    "reset.fig()"
   ]
  },
  {
   "cell_type": "markdown",
   "metadata": {},
   "source": [
    "#### Show assigned louvain clusters"
   ]
  },
  {
   "cell_type": "code",
   "execution_count": null,
   "metadata": {},
   "outputs": [],
   "source": [
    "p1 <- plotProjections(cdScAnnot, \"CellType\", dimnames = c(\"TSNE\", \"UMAP\"), \n",
    "                      feat_desc = \"Cell Type\", feat_color = c_celltype_col, \n",
    "                      text_by = my.clusters[[method]][[dimname]], legend_pos = \"none\", add_void = TRUE)\n",
    "\n",
    "p2 <- plotProjections(cdScAnnot, my.clusters[[method]][[dimname]], dimnames = c(\"TSNE\", \"UMAP\"), \n",
    "                      feat_desc = method, feat_color = c30(), text_by = my.clusters[[method]][[dimname]], \n",
    "                      guides_size = 4, guides_ncol = 1)\n",
    "\n",
    "fig(width = 16, height = 14)\n",
    "plot_grid(p1, p2, ncol = 1)\n",
    "reset.fig()"
   ]
  },
  {
   "cell_type": "markdown",
   "metadata": {},
   "source": [
    "### Using 'leiden' algorithm\n",
    "\n",
    "`is_hierarchical = FALSE`\n",
    "\n",
    "The `resolution_parameter` is the resolution parameter for the Leiden algorithm. Lower values (less than 1) typically yield fewer clusters with more cells per cluster. Higher values (more than 1) yield more and smaller clusters. Default is 1."
   ]
  },
  {
   "cell_type": "code",
   "execution_count": null,
   "metadata": {},
   "outputs": [],
   "source": [
    "method <- \"leiden\"\n",
    "dimname <- \"PCA\"\n",
    "n_dimred <- 20 # number of dimensions to use; default is 50\n",
    "mat <- reducedDim(cdScAnnot, dimname)[, seq_len(n_dimred), drop = FALSE]\n",
    "k <- 25\n",
    "\n",
    "set.seed(12345)\n",
    "communities[[method]][[dimname]] <- clusterRows(mat, full = TRUE, \n",
    "                                                NNGraphParam(cluster.fun = method, k = k,\n",
    "                                                             cluster.args = list(resolution_parameter = 0.45), \n",
    "                                                             BNPARAM = AnnoyParam(), num.threads = nthreads))\n",
    "my.clusters[[method]][[dimname]] <- factor(communities[[method]][[dimname]]$clusters)"
   ]
  },
  {
   "cell_type": "code",
   "execution_count": null,
   "metadata": {},
   "outputs": [],
   "source": [
    "print(paste(stringr::str_to_title(method), \"cluster assignments:\"))\n",
    "for(i in 1:length(my.clusters[[method]])) {\n",
    "    tab <- table(cdScAnnot$Sample, my.clusters[[method]][[i]])\n",
    "    names(dimnames(tab))[2] <- method\n",
    "    print(tab)\n",
    "\n",
    "    plotSilhouette(mat, my.clusters[[method]][[i]], printDiff = FALSE, plot = FALSE)\n",
    "}"
   ]
  },
  {
   "cell_type": "code",
   "execution_count": null,
   "metadata": {},
   "outputs": [],
   "source": [
    "fig(width = 16, height = 6)\n",
    "plotSilhouette(mat, my.clusters[[method]][[dimname]])\n",
    "reset.fig()"
   ]
  },
  {
   "cell_type": "markdown",
   "metadata": {},
   "source": [
    "#### Show assigned leiden clusters"
   ]
  },
  {
   "cell_type": "code",
   "execution_count": null,
   "metadata": {},
   "outputs": [],
   "source": [
    "p1 <- plotProjections(cdScAnnot, \"CellType\", dimnames = c(\"TSNE\", \"UMAP\"), \n",
    "                      feat_desc = \"Cell Type\", feat_color = c_celltype_col, \n",
    "                      text_by = my.clusters[[method]][[dimname]], legend_pos = \"none\", add_void = TRUE)\n",
    "\n",
    "p2 <- plotProjections(cdScAnnot, my.clusters[[method]][[dimname]], dimnames = c(\"TSNE\", \"UMAP\"), \n",
    "                      feat_desc = method, feat_color = c30(), text_by = my.clusters[[method]][[dimname]], \n",
    "                      guides_size = 4, guides_ncol = 1)\n",
    "\n",
    "fig(width = 16, height = 14)\n",
    "plot_grid(p1, p2, ncol = 1)\n",
    "reset.fig()"
   ]
  },
  {
   "cell_type": "markdown",
   "metadata": {},
   "source": [
    "## Add assigned clusters to `sce` objects\n",
    "\n",
    "Choose the desired clustering result and assign to the default \"label\" column using the `colLabels` function. We also add additional labels (`walktrap`, `louvain` and `leiden`) so that the BCF R Shiny app can find the clustering results by all methods."
   ]
  },
  {
   "cell_type": "code",
   "execution_count": null,
   "metadata": {},
   "outputs": [],
   "source": [
    "cdScAnnot$walktrap <- my.clusters[[\"walktrap\"]][[\"PCA\"]]\n",
    "cdScAnnot$louvain <- my.clusters[[\"louvain\"]][[\"PCA\"]]\n",
    "cdScAnnot$leiden <- my.clusters[[\"leiden\"]][[\"PCA\"]]"
   ]
  },
  {
   "cell_type": "markdown",
   "metadata": {},
   "source": [
    "### Show cluster labels from different methods"
   ]
  },
  {
   "cell_type": "code",
   "execution_count": null,
   "metadata": {},
   "outputs": [],
   "source": [
    "tab <- table(walktrap = paste0(\"W\", cdScAnnot$walktrap), \n",
    "             louvain = paste0(\"V\", cdScAnnot$louvain), \n",
    "             leiden = paste0(\"D\", cdScAnnot$leiden))\n",
    "\n",
    "tab <- gather_set_data(as.data.frame(tab), 1:3)\n",
    "tab$x <- as.factor(tab$x)\n",
    "levels(tab$x) <- c(\"walktrap\",\"louvain\",\"leiden\")\n",
    "\n",
    "tab$walktrap <- factor(tab$walktrap, levels = gtools::mixedsort(levels(tab$walktrap)))\n",
    "tab$louvain <- factor(tab$louvain, levels = gtools::mixedsort(levels(tab$louvain)))\n",
    "tab$leiden <- factor(tab$leiden, levels = gtools::mixedsort(levels(tab$leiden)))\n",
    "tab$y <- factor(tab$y, levels = gtools::mixedsort(levels(tab$y)))"
   ]
  },
  {
   "cell_type": "code",
   "execution_count": null,
   "metadata": {},
   "outputs": [],
   "source": [
    "# Coloured by leiden clustering\n",
    "fig(width = 12, height = 12)\n",
    "ggplot(tab, aes(x, id = id, split = y, value = Freq)) +\n",
    "  geom_parallel_sets(aes(fill = leiden), alpha = 0.4, axis.width = 0.1) +\n",
    "  geom_parallel_sets_axes(axis.width = 0.1) +\n",
    "  geom_parallel_sets_labs(colour = \"red\", angle = 0, size = 6, nudge_x = 0.15) +\n",
    "  theme_void(18) + scale_fill_manual(values = choosePalette(tab$leiden)) + \n",
    "  theme(legend.position = \"none\", axis.text.x = element_text(face = \"bold\", color = \"black\"))\n",
    "reset.fig()"
   ]
  },
  {
   "cell_type": "markdown",
   "metadata": {},
   "source": [
    "### Choose a cluster assignment to store in the default `label` column in `colData`"
   ]
  },
  {
   "cell_type": "markdown",
   "metadata": {},
   "source": [
    "<div class=\"alert alert-info\">\n",
    "    <strong>Default method to saved to <code>colLabels</code>:</strong> (edits required)\n",
    "    <ul>\n",
    "        <li>louvain</li>\n",
    "    </ul>\n",
    "</div>"
   ]
  },
  {
   "cell_type": "code",
   "execution_count": null,
   "metadata": {},
   "outputs": [],
   "source": [
    "colLabels(cdScAnnot) <- my.clusters[[\"louvain\"]][[\"PCA\"]]\n",
    "colLabels(cdScFilt) <- my.clusters[[\"louvain\"]][[\"PCA\"]]\n",
    "\n",
    "# Set colours for cell clusters\n",
    "c_clust_col <- choosePalette(colLabels(cdScAnnot), c30)\n",
    "#c_clust_col"
   ]
  },
  {
   "cell_type": "code",
   "execution_count": null,
   "metadata": {},
   "outputs": [],
   "source": [
    "# How many cells from each sample are in each cluster?\n",
    "table_samples_by_clusters <- table(Sample = cdScAnnot$Sample, Cluster = cdScAnnot$label)\n",
    "table_samples_by_clusters"
   ]
  },
  {
   "cell_type": "code",
   "execution_count": null,
   "metadata": {},
   "outputs": [],
   "source": [
    "# No. of cells \n",
    "fig(width = 16, height = 3)\n",
    "ggplot(data.frame(table_samples_by_clusters), aes(Sample, Freq, fill = Cluster)) + \n",
    "    geom_bar(position = \"stack\", stat = \"identity\", linewidth = 0.2, color = \"black\") + coord_flip() +\n",
    "    scale_y_continuous(\"Number of cells\", labels = comma) + guides(fill = guide_legend(ncol = 3)) +\n",
    "    scale_fill_manual(values = c_clust_col) + theme_cowplot(18)\n",
    "reset.fig()"
   ]
  },
  {
   "cell_type": "code",
   "execution_count": null,
   "metadata": {},
   "outputs": [],
   "source": [
    "# Percenatge cells\n",
    "fig(width = 16, height = 3)\n",
    "ggplot(data.frame(table_samples_by_clusters), aes(Sample, Freq, fill = Cluster)) +\n",
    "    geom_bar(position = \"fill\", stat = \"identity\", linewidth = 0.2, color = \"black\") + coord_flip() +\n",
    "    scale_y_continuous(\"Percentage\", labels = percent_format()) + guides(fill = guide_legend(ncol = 3)) +\n",
    "        scale_fill_manual(values = c_clust_col) + theme_cowplot(18)\n",
    "reset.fig()"
   ]
  },
  {
   "cell_type": "markdown",
   "metadata": {},
   "source": [
    "## t-SNE and UMAP plots\n",
    "\n",
    "<div class=\"alert alert-warning\">\n",
    "    <strong>Warning!</strong> change the <code>dimnames</code> names to view plot in the corresponding reduced dimension results.\n",
    "</div>"
   ]
  },
  {
   "cell_type": "code",
   "execution_count": null,
   "metadata": {},
   "outputs": [],
   "source": [
    "fig(width = 16, height = 7)\n",
    "plotProjections(cdScAnnot, \"label\", dimnames = c(\"TSNE\", \"UMAP\"), feat_desc = \"Cluster\", \n",
    "                feat_color = c_clust_col, text_by = \"label\", guides_size = 4)\n",
    "reset.fig()"
   ]
  },
  {
   "cell_type": "code",
   "execution_count": null,
   "metadata": {},
   "outputs": [],
   "source": [
    "fig(width = 16, height = 7)\n",
    "plotProjections(cdScAnnot, \"CellCycle\", dimnames = c(\"TSNE\", \"UMAP\"), feat_desc = \"Cell Cycle Phases\", \n",
    "                feat_color = c_phase_col, text_by = \"label\", guides_size = 4)\n",
    "reset.fig()"
   ]
  },
  {
   "cell_type": "code",
   "execution_count": null,
   "metadata": {},
   "outputs": [],
   "source": [
    "# Creat breaks\n",
    "cdScAnnot$log10Sum <- log10(cdScAnnot$sum+1)\n",
    "\n",
    "bk <- seq(min(cdScAnnot$log10Sum), max(cdScAnnot$log10Sum), max(cdScAnnot$log10Sum)/20)\n",
    "bk <- round(bk, 2)\n",
    "\n",
    "fig(width = 16, height = 7)\n",
    "plotProjections(cdScAnnot, \"log10Sum\", dimnames = c(\"TSNE\", \"UMAP\"), feat_desc = \"log10(Sum)\", \n",
    "                feat_color = rev(rainbow(5)), color_breaks = bk, text_by = \"label\", guides_barheight = 10, \n",
    "                rel_widths = c(8, 1))\n",
    "reset.fig()"
   ]
  },
  {
   "cell_type": "code",
   "execution_count": null,
   "metadata": {},
   "outputs": [],
   "source": [
    "fig(width = 16, height = 7)\n",
    "plotProjections(cdScAnnot, \"CellType\", dimnames = c(\"TSNE\", \"UMAP\"), feat_desc = \"Cell Type\", \n",
    "                feat_color = c_celltype_col, text_by = \"label\", guides_size = 4, guides_ncol = 1, \n",
    "                rel_widths = c(6, 1))\n",
    "reset.fig()"
   ]
  },
  {
   "cell_type": "code",
   "execution_count": null,
   "metadata": {},
   "outputs": [],
   "source": [
    "fig(width = 16, height = 5)\n",
    "ggplot(data.frame(table(CellType = cdScAnnot$CellType, Cluster = cdScAnnot$label)), \n",
    "       aes(Cluster, Freq, fill = CellType)) +\n",
    "    geom_bar(position = \"fill\", stat = \"identity\", linewidth = 0.2, color = \"black\") + coord_flip() +\n",
    "    scale_y_continuous(\"Percentage\", labels = percent_format()) + guides(fill = guide_legend(ncol = 1)) +\n",
    "    scale_fill_manual(values = c_celltype_col) + theme_cowplot(18)\n",
    "reset.fig()"
   ]
  },
  {
   "cell_type": "code",
   "execution_count": null,
   "metadata": {},
   "outputs": [],
   "source": [
    "fig(width = 16, height = 6)\n",
    "ggplot(data.frame(table(CellType = cdScAnnot$CellType, Cluster = cdScAnnot$label)), \n",
    "       aes(CellType, Freq, fill = Cluster)) +\n",
    "    geom_bar(position = \"fill\", stat = \"identity\", linewidth = 0.2, color = \"black\") + coord_flip() +\n",
    "    scale_y_continuous(\"Percentage\", labels = percent_format()) +\n",
    "    scale_fill_manual(values = c_clust_col) + theme_cowplot(18)\n",
    "reset.fig()"
   ]
  },
  {
   "cell_type": "code",
   "execution_count": null,
   "metadata": {},
   "outputs": [],
   "source": [
    "table(CellType = cdScAnnot$CellType, Cluster = cdScAnnot$label)"
   ]
  },
  {
   "cell_type": "markdown",
   "metadata": {},
   "source": [
    "## Visualising gene expressions in cells\n",
    "\n",
    "### Single gene expression\n",
    "\n",
    "In the following plots we visualise the expression of `XIST` (expressed in female) and `DDX3Y` (expressed in male) in individual cells in human samples. The genes in mouse are `Xist` and `Ddx3y` respectively.\n",
    "\n",
    "<div class=\"alert alert-warning\">\n",
    "    For <strong>Flex Gene Expression</strong> dataset, <code>XIST</code>/<code>Xist</code> is not available in the feature list, use other X-linked genes instead, such as <code>RLIM</code>/<code>Rlim</code>, <code>LAMP2</code>/<code>Lamp2</code>, and <code>ATRX</code>/<code>Atrx</code>.\n",
    "</div>"
   ]
  },
  {
   "cell_type": "code",
   "execution_count": null,
   "metadata": {},
   "outputs": [],
   "source": [
    "fig(width = 16, height = 7)\n",
    "plotReducedDimLR(cdScAnnot, \"TSNE\", c(\"RLIM\",\"DDX3Y\"), lr_color = c(\"red\", \"blue\"), lr_sep = \" and \", \n",
    "                 lr_desc = c(\"Female-\\nexpressing\",\"Male-\\nexpressing\"), oneplot = FALSE)\n",
    "reset.fig()"
   ]
  },
  {
   "cell_type": "markdown",
   "metadata": {},
   "source": [
    "<div class=\"alert alert-info\">\n",
    "  <strong>About this dataset: </strong> (edits required)\n",
    "  <ul>\n",
    "    <li>Sample has a mixture of male and female cells.</li>\n",
    "  </ul>\n",
    "</div>"
   ]
  },
  {
   "cell_type": "markdown",
   "metadata": {},
   "source": [
    "## Output average expression (logcounts) across clusters\n",
    "\n",
    "Set outfile prefix"
   ]
  },
  {
   "cell_type": "code",
   "execution_count": null,
   "metadata": {},
   "outputs": [],
   "source": [
    "# Set outfile ID\n",
    "file_id <- paste0(\"160k_\", sample_name)\n",
    "file_id"
   ]
  },
  {
   "cell_type": "code",
   "execution_count": null,
   "metadata": {},
   "outputs": [],
   "source": [
    "# Use logcounts from cdScAnnot\n",
    "ave.expr.label <- sumCountsAcrossCells(annot_l, ids = DataFrame(cluster = cdScAnnot$label), average = TRUE, \n",
    "                                       BPPARAM = bpp) %>% \n",
    "    `colnames<-`(paste0(\"Cluster\", .$cluster)) %>% assay %>% as.data.frame %>% rownames_to_column(\"Symbol\")\n",
    "head(ave.expr.label)\n",
    "\n",
    "outfile <- paste0(file_id, \"_average_logcounts_in_clusters.tsv\")\n",
    "print(paste(\"Write to file:\", outfile))\n",
    "write.table(ave.expr.label, file = outfile, sep = \"\\t\", quote = F, row.names = F, col.names = T)"
   ]
  },
  {
   "cell_type": "markdown",
   "metadata": {},
   "source": [
    "# 10 - Marker gene detection\n",
    "\n",
    "Potential marker genes are identified by taking the top set of DE genes from each pairwise comparison between clusters. The results are arranged into a single output table that allows a marker set to be easily defined for a user-specified size of the top set. For example, to construct a marker set from the top 10 genes of each comparison, one would filter `marker.set` to retain rows with Top less than or equal to 10.\n",
    "\n",
    "<div class=\"alert alert-warning\">\n",
    "  <strong>Warning!</strong> Take note of any poor clusters in the silhouette plot and consider how trustworthy the marker genes actually are.\n",
    "</div>\n",
    "\n",
    "Here we are going to use `findMarkers` from `scran` package as this is much faster. \n",
    "\n",
    "## Decided the `pval.type` and `min.prop` settings\n",
    "\n",
    "- Use `pval.type` to specify how p-values are to be combined across pairwise comparisons for a given group/cluster. Defaults `pval.type` is `\"any\"`.\n",
    "- Use `min.prop` to specify the minimum proportion of significant comparisons per gene. Defaults `min.prop` is 0.5 when `pval.type=\"some\"`, and zero for all other `pval.type` options.\n",
    "\n",
    "The choice of `pval.type` determines whether the highly ranked genes are those that are DE between the current group and:\n",
    "\n",
    "### 1. DE against any other cluster (\"any\")\n",
    "\n",
    "If `pval.type=\"any\"`, the null hypothesis is that the **gene is not DE in as least 1 contrasts**. This approach does not explicitly favour genes that are uniquely expressed in a cluster. Rather, it focuses on combinations of genes that - together - drive separation of a cluster from the others. This is more general and robust but tends to yield a less focused marker set compared to the other `pval.type` settings.\n",
    "\n",
    "Using `pval.type=\"any\"`, the result will contain a `Top` column that shows the minimum rank across all pairwise comparisons. For example, if we define a marker set with an `T` of 1 for a given cluster. The set of genes with `Top <= 1` will contain the top gene from each pairwise comparison to every other cluster. If `T` is `5`, the set will consist of the union of the top 5 genes from each pairwise comparison. This approach does not explicitly favour genes that are uniquely expressed in a cluster. Rather, it focuses on combinations of genes that - together - drive separation of a cluster from the others. This is more general and robust but tends to yield a less focused marker set compared to the other `pval.type` settings.\n",
    "\n",
    "### 2. DE against all other clusters (\"all\")\n",
    "\n",
    "If `pval.type=\"all\"`, the null hypothesis is that the **gene is not DE in all contrasts**. This strategy is particularly effective when dealing with distinct clusters that have a unique expression profile. In such cases, it yields a highly focused marker set that concisely captures the differences between clusters. However, it can be too stringent if the cluster's separation is driven by combinations of gene expression. \n",
    "\n",
    "### 3. DE against some (50%) other clusters (\"some\")\n",
    "\n",
    "The `pval.type=\"some\"` setting serves as a compromise between \"all\" and \"any\". A combined p-value is calculated by taking the middlemost value of the Holm-corrected p-values for each gene. Here, the null hypothesis is that the **gene is not DE in at least half of the contrasts**.\n",
    "\n",
    "### 4. DE against some other clusters (rank-style)\n",
    "\n",
    "This is achieved by setting `pval.type=\"any\"` with `min.prop` set to some positive value in (0, 1). Here, we are selecting high-ranked genes that are among the top-ranked (`Top`) genes in at least `min.prop` of the pairwise comparisons\n",
    "\n",
    "For example, if `pval.type=\"any\", min.prop=0.3`, any gene with a value of `Top` less than or equal to 5 will be in the top 5 DEGs of at least 30% of the comparisons. This method increases the stringency of the `\"any\"` setting in a safer manner than `pval.type=\"some\"`.\n",
    "\n",
    "More explanation can be found by `?findMarkers`, `?combineMarkers` and `?combinePValues`.\n",
    "\n",
    "## Find marker genes for clusters\n",
    "\n",
    "### Run `findMarkers` (both directions)\n",
    "\n",
    "Considers both up- and downregulated genes to be potential markers."
   ]
  },
  {
   "cell_type": "code",
   "execution_count": null,
   "metadata": {},
   "outputs": [],
   "source": [
    "# Set pval.type (and min.prop if using \"any\")\n",
    "pval.type <- \"any\"\n",
    "min.prop <- 0.3\n",
    "\n",
    "# Using logcounts from cdScFilt\n",
    "marker.genes.cluster <- findMarkers(filt_l, groups = cdScFilt$label, pval.type = pval.type, \n",
    "                                    min.prop = min.prop, BPPARAM = bpp)\n",
    "marker.genes.cluster"
   ]
  },
  {
   "cell_type": "markdown",
   "metadata": {},
   "source": [
    "Print the number of markers that passed the FDR or `Top` threshold."
   ]
  },
  {
   "cell_type": "code",
   "execution_count": null,
   "metadata": {},
   "outputs": [],
   "source": [
    "printMarkerStats(marker.genes.cluster, pval.type = pval.type, min.prop = min.prop)"
   ]
  },
  {
   "cell_type": "code",
   "execution_count": null,
   "metadata": {},
   "outputs": [],
   "source": [
    "# Append Ensembl ID and Symbol from rowData\n",
    "for(ID in names(marker.genes.cluster)) {\n",
    "    marker.genes.cluster[[ID]] <- cbind(rowData(cdScFilt)[rownames(marker.genes.cluster[[ID]]),][,1:2], \n",
    "                                        marker.genes.cluster[[ID]])\n",
    "}\n",
    "\n",
    "exportResList(marker.genes.cluster, col_anno = c(\"ID\",\"Symbol\"), prefix = file_id)"
   ]
  },
  {
   "cell_type": "markdown",
   "metadata": {},
   "source": [
    "### Run `findMarkers` (upregulated genes)\n",
    "\n",
    "Set `direction='up'` to only consider upregulated genes as potential markers."
   ]
  },
  {
   "cell_type": "code",
   "execution_count": null,
   "metadata": {},
   "outputs": [],
   "source": [
    "# Set pval.type (and min.prop if using \"any\")\n",
    "pval.type <- \"any\"\n",
    "min.prop <- 0.3\n",
    "direction <- \"up\"\n",
    "\n",
    "# Using logcounts from cdScFilt\n",
    "marker.genes.cluster.up <- findMarkers(filt_l, groups = cdScFilt$label, pval.type = pval.type, \n",
    "                                       min.prop = min.prop, lfc = 0.5, direction = direction, BPPARAM = bpp)\n",
    "marker.genes.cluster.up"
   ]
  },
  {
   "cell_type": "markdown",
   "metadata": {},
   "source": [
    "Print the number of markers that passed the FDR or `Top` threshold. This will be the number of genes as inut for `enrichR`."
   ]
  },
  {
   "cell_type": "code",
   "execution_count": null,
   "metadata": {},
   "outputs": [],
   "source": [
    "printMarkerStats(marker.genes.cluster.up, pval.type = pval.type, min.prop = min.prop)"
   ]
  },
  {
   "cell_type": "code",
   "execution_count": null,
   "metadata": {},
   "outputs": [],
   "source": [
    "# Append Ensembl ID and Symbol from rowData\n",
    "for(ID in names(marker.genes.cluster.up)) {\n",
    "    marker.genes.cluster.up[[ID]] <- cbind(rowData(cdScFilt)[rownames(marker.genes.cluster.up[[ID]]),][,1:2], \n",
    "                                           marker.genes.cluster.up[[ID]])\n",
    "}\n",
    "\n",
    "exportResList(marker.genes.cluster.up, col_anno = c(\"ID\",\"Symbol\"), prefix = file_id, direction = direction)"
   ]
  },
  {
   "cell_type": "markdown",
   "metadata": {},
   "source": [
    "### Run `findMarkers` (downregulated genes)\n",
    "\n",
    "Set `direction='down'` to only consider downregulated genes as potential markers."
   ]
  },
  {
   "cell_type": "code",
   "execution_count": null,
   "metadata": {},
   "outputs": [],
   "source": [
    "# Set pval.type (and min.prop if using \"any\")\n",
    "pval.type <- \"any\"\n",
    "min.prop <- 0.3\n",
    "direction <- \"down\"\n",
    "\n",
    "# Using logcounts from cdScFilt\n",
    "marker.genes.cluster.dn <- findMarkers(filt_l, groups = cdScFilt$label, pval.type = pval.type, \n",
    "                                       min.prop = min.prop, lfc = 0.5, direction = direction, BPPARAM = bpp)\n",
    "marker.genes.cluster.dn"
   ]
  },
  {
   "cell_type": "markdown",
   "metadata": {},
   "source": [
    "Print the number of markers that passed the FDR or `Top` threshold. This will be the number of genes as inut for `enrichR`."
   ]
  },
  {
   "cell_type": "code",
   "execution_count": null,
   "metadata": {},
   "outputs": [],
   "source": [
    "printMarkerStats(marker.genes.cluster.dn, pval.type = pval.type, min.prop = min.prop)"
   ]
  },
  {
   "cell_type": "code",
   "execution_count": null,
   "metadata": {},
   "outputs": [],
   "source": [
    "# Append Ensembl ID and Symbol from rowData\n",
    "for(ID in names(marker.genes.cluster.dn)) {\n",
    "    marker.genes.cluster.dn[[ID]] <- cbind(rowData(cdScFilt)[rownames(marker.genes.cluster.dn[[ID]]),][,1:2], \n",
    "                                           marker.genes.cluster.dn[[ID]])\n",
    "}\n",
    "\n",
    "exportResList(marker.genes.cluster.dn, col_anno = c(\"ID\",\"Symbol\"), prefix = file_id, direction = direction)"
   ]
  },
  {
   "cell_type": "markdown",
   "metadata": {},
   "source": [
    "## Save `findMarkers` results to `metadata`\n",
    "\n",
    "<div class=\"alert alert-info\">\n",
    "    <strong>Tip!</strong> In the accompanied Shiny App, it will look for list(s) named with \"findMarkers_\" in the prefix in <code>metadata()</code> and show their content under the <u>Gene markers</u> section of the website. In the example below, the content of the 3 lists will be displayed in their respective sub-menus under the following titles: \n",
    "    <ul>\n",
    "        <li>Cluster</li>\n",
    "        <li>Cluster: up</li>\n",
    "        <li>Cluster: dn</li>\n",
    "    </ul>\n",
    "</div>"
   ]
  },
  {
   "cell_type": "code",
   "execution_count": null,
   "metadata": {},
   "outputs": [],
   "source": [
    "metadata(cdScAnnot)[['findMarkers_Cluster']] <- marker.genes.cluster\n",
    "metadata(cdScAnnot)[['findMarkers_Cluster_up']] <- marker.genes.cluster.up\n",
    "metadata(cdScAnnot)[['findMarkers_Cluster_dn']] <- marker.genes.cluster.dn"
   ]
  },
  {
   "cell_type": "markdown",
   "metadata": {},
   "source": [
    "## Use cluster marker genes to show cluster similarities"
   ]
  },
  {
   "cell_type": "code",
   "execution_count": null,
   "metadata": {},
   "outputs": [],
   "source": [
    "nGene <- 250\n",
    "geneNames <- sapply(marker.genes.cluster, function(x) rownames(x[1:nGene,]))\n",
    "\n",
    "geneNames <- unique(as.character(geneNames)) # Remove duplicated genes\n",
    "print(paste(\"Number of genes to plot:\", length(geneNames)))"
   ]
  },
  {
   "cell_type": "code",
   "execution_count": null,
   "metadata": {},
   "outputs": [],
   "source": [
    "fig(width = 16, height = 7)\n",
    "plotGroupedHeatmap(cdScAnnot, features = geneNames, group = \"label\", clustering_method = \"ward.D2\", \n",
    "                   border_color = \"black\", color = c_heatmap_col2, fontsize = 14, angle_col = 0,\n",
    "                   center = TRUE, scale = TRUE, zlim = c(-3, 3), \n",
    "                   main = \"Row-scaled\", show_rownames = FALSE)\n",
    "reset.fig()"
   ]
  },
  {
   "cell_type": "markdown",
   "metadata": {},
   "source": [
    "<div class=\"alert alert-warning\">\n",
    "  <strong>Doublet cluster!</strong> Without performing doublet detection (see Section 12), we can already tell from the heatmap above that some clusters potentially have doublet cells due to the <i>smearing</i> expression profile.\n",
    "</div>"
   ]
  },
  {
   "cell_type": "markdown",
   "metadata": {},
   "source": [
    "## Visualise first N cluster marker genes\n",
    "\n",
    "Use `findMarkers` result from both directions. We aimed to present between 50 to 100 genes in the heatmap."
   ]
  },
  {
   "cell_type": "code",
   "execution_count": null,
   "metadata": {},
   "outputs": [],
   "source": [
    "nGene <- 7\n",
    "geneNames <- sapply(marker.genes.cluster, function(x) rownames(x[1:nGene,]))\n",
    "t(geneNames) # A matrix\n",
    "\n",
    "geneNames <- unique(as.character(geneNames)) # Remove duplicated genes\n",
    "print(paste(\"Number of genes to plot:\", length(geneNames)))"
   ]
  },
  {
   "cell_type": "markdown",
   "metadata": {},
   "source": [
    "Alternatively, use genes identified from up- and downregulated `findMarkers` results."
   ]
  },
  {
   "cell_type": "code",
   "execution_count": null,
   "metadata": {},
   "outputs": [],
   "source": [
    "#nGene <- 5\n",
    "#geneNames1 <- sapply(marker.genes.cluster.up, function(x) rownames(x[1:nGene,]))\n",
    "#geneNames1 # A matrix\n",
    "\n",
    "#geneNames2 <- sapply(marker.genes.cluster.dn, function(x) rownames(x[1:nGene,]))\n",
    "#geneNames2 # A matrix\n",
    "\n",
    "#geneNames <- unique(c(as.character(geneNames1), as.character(geneNames2))) # Remove duplicated genes\n",
    "#print(paste(\"Number of genes to plot:\", length(geneNames)))"
   ]
  },
  {
   "cell_type": "code",
   "execution_count": null,
   "metadata": {},
   "outputs": [],
   "source": [
    "p1 <- plotGroupedHeatmap(cdScAnnot, features = geneNames, group = \"label\", clustering_method = \"ward.D2\", \n",
    "                         border_color = \"black\", color = c_heatmap_col1, fontsize = 11, angle_col = 0, \n",
    "                         main = \"Unscaled\", silent = T)\n",
    "\n",
    "p2 <- plotGroupedHeatmap(cdScAnnot, features = geneNames, group = \"label\", clustering_method = \"ward.D2\", \n",
    "                         border_color = \"black\", color = c_heatmap_col2, fontsize = 11, angle_col = 0, \n",
    "                         center = TRUE, scale = TRUE, zlim = c(-3, 3), main = \"Row-scaled\", silent = T)\n",
    "\n",
    "fig(width = 16, height = 18)\n",
    "plot_grid(p1$gtable, p2$gtable, ncol = 2, align = \"h\")\n",
    "reset.fig()"
   ]
  },
  {
   "cell_type": "markdown",
   "metadata": {},
   "source": [
    "The `plotDots` function create a dot plot of expression values for a grouping of cells, where the size and colour of each dot represents the proportion of detected expression values and the average expression, respectively, for each feature in each group of cells.\n",
    "\n",
    "The mean expression of each gene is centered at zero with `center = TRUE`. The expression of each gene is scaled to have unit variance with `scale = TRUE`."
   ]
  },
  {
   "cell_type": "code",
   "execution_count": null,
   "metadata": {},
   "outputs": [],
   "source": [
    "fig(width = 9, height = 20)\n",
    "plotDots(cdScAnnot, features = geneNames[p2$tree_row$order], group = \"label\", zlim = c(-3, 3), \n",
    "         center = TRUE, scale = TRUE) + scale_size(limits = c(0, 1), range = c(0.1, 6)) + \n",
    "    scale_y_discrete(limits = geneNames[p2$tree_row$order]) + # order genes based on heatmap p2 above\n",
    "    scale_x_discrete(limits = p2$tree_col$labels[p2$tree_col$order]) + # order clusters based on heatmap p2 above\n",
    "    guides(colour = guide_colourbar(title = \"Row (Gene) Z-Score\", barwidth = 10), \n",
    "           size = guide_legend(title = \"Proportion Detected\")) + theme_cowplot(16) + #coord_flip() +\n",
    "    theme(panel.grid.major = element_line(colour = \"gray90\"), \n",
    "          legend.position = \"top\", legend.justification = \"center\", legend.title.position = \"top\") + \n",
    "    labs(x = \"Cluster\", y = \"Genes\")\n",
    "reset.fig()"
   ]
  },
  {
   "cell_type": "code",
   "execution_count": null,
   "metadata": {},
   "outputs": [],
   "source": [
    "# Prepare stacked violin plot\n",
    "geneExprs <- logcounts(cdScAnnot)[geneNames,]\n",
    "geneExprs <- as.data.frame(t(as.matrix(geneExprs)))\n",
    "\n",
    "geneExprs$Cell <- rownames(geneExprs)\n",
    "geneExprs$Cluster <- cdScAnnot$label\n",
    "\n",
    "geneExprs <- pivot_longer(geneExprs, cols = -c(Cell, Cluster), names_to = \"Gene\", values_to = \"Expression\") %>% \n",
    "    mutate(Cluster = fct_rev(Cluster), Gene = factor(Gene, levels = geneNames))\n",
    "\n",
    "# Plot\n",
    "fig(width = 16, height = 8)\n",
    "ggplot(geneExprs, aes(Gene, Expression, fill = Gene)) + \n",
    "    geom_violin(scale = \"width\", adjust = 1, trim = TRUE) +\n",
    "    scale_y_continuous(expand = c(0, 0), position = \"right\", \n",
    "                       labels = function(x) c(rep(x = \"\", times = length(x)-2), x[length(x) - 1], \"\")) +\n",
    "    facet_grid(rows = vars(Cluster), scales = \"free\", switch = \"y\") + theme_cowplot(font_size = 16) +\n",
    "    theme(legend.position = \"none\", panel.spacing = unit(0, \"lines\"), \n",
    "          panel.background = element_rect(fill = NA, color = \"black\"), strip.background = element_blank(),\n",
    "          strip.text = element_text(face = \"bold\"), strip.text.y.left = element_text(angle = 0),\n",
    "          axis.text.x = element_text(size = 12, angle = 90, hjust = 1, vjust = 0.5)) +\n",
    "    xlab(\"Genes\") + ylab(\"Expression Level\")\n",
    "reset.fig()"
   ]
  },
  {
   "cell_type": "markdown",
   "metadata": {},
   "source": [
    "## Visualise first upregulated marker genes from each cluster"
   ]
  },
  {
   "cell_type": "code",
   "execution_count": null,
   "metadata": {},
   "outputs": [],
   "source": [
    "geneNames <- sapply(marker.genes.cluster.up, function(x) rownames(x[1,]))\n",
    "#geneNames\n",
    "\n",
    "df <- data.frame(cluster = names(geneNames), gene = geneNames) %>% group_by(gene) %>% \n",
    "summarise(cluster = paste(cluster, collapse = \",\")) %>% \n",
    "mutate(order = as.numeric(str_replace(cluster, \",.*\", \"\"))) %>% arrange(order)\n",
    "df\n",
    "\n",
    "print(paste(\"Number of genes to plot:\", nrow(df)))"
   ]
  },
  {
   "cell_type": "code",
   "execution_count": null,
   "metadata": {},
   "outputs": [],
   "source": [
    "p1 <- plotGroupedHeatmap(cdScAnnot, features = df$gene, group = \"label\", clustering_method = \"ward.D2\", \n",
    "                         border_color = \"black\", color = c_heatmap_col1, fontsize = 11, angle_col = 0, \n",
    "                         main = \"Unscaled\", silent = T)\n",
    "\n",
    "p2 <- plotGroupedHeatmap(cdScAnnot, features = df$gene, group = \"label\", clustering_method = \"ward.D2\", \n",
    "                         border_color = \"black\", color = c_heatmap_col2, fontsize = 11, angle_col = 0, \n",
    "                         center = TRUE, scale = TRUE, zlim = c(-3, 3), main = \"Row-scaled\", silent = T)\n",
    "\n",
    "fig(width = 16, height = 6)\n",
    "plot_grid(p1$gtable, p2$gtable, ncol = 2, align = \"h\")\n",
    "reset.fig()"
   ]
  },
  {
   "cell_type": "code",
   "execution_count": null,
   "metadata": {},
   "outputs": [],
   "source": [
    "fig(width = 9, height = 6)\n",
    "plotDots(cdScAnnot, features = df$gene[p2$tree_row$order], group = \"label\", zlim = c(-3, 3), \n",
    "         center = TRUE, scale = TRUE) + scale_size(limits = c(0, 1), range = c(0.1, 6)) + \n",
    "    scale_y_discrete(limits = df$gene[p2$tree_row$order]) + # order genes based on heatmap p2 above\n",
    "    scale_x_discrete(limits = p2$tree_col$labels[p2$tree_col$order]) + # order clusters based on heatmap p2 above\n",
    "    guides(colour = guide_colourbar(title = \"Row (Gene) Z-Score\", barwidth = 10), \n",
    "           size = guide_legend(title = \"Proportion Detected\")) + theme_cowplot(16) + #coord_flip() +\n",
    "    theme(panel.grid.major = element_line(colour = \"gray90\"), \n",
    "          legend.position = \"top\", legend.justification = \"center\", legend.title.position = \"top\") + \n",
    "    labs(x = \"Cluster\", y = \"Genes\")\n",
    "reset.fig()"
   ]
  },
  {
   "cell_type": "code",
   "execution_count": null,
   "metadata": {},
   "outputs": [],
   "source": [
    "fig(width = 16, height = 7)\n",
    "plotExpression(cdScAnnot, x = \"label\", colour_by = \"label\", features = df$gene, point_size = 0.5, \n",
    "               theme_size = 16, ncol = 3) + scale_color_manual(values = c_clust_col) + \n",
    "    theme(legend.position = \"none\") + labs(x = \"Cluster\")\n",
    "reset.fig()"
   ]
  },
  {
   "cell_type": "code",
   "execution_count": null,
   "metadata": {},
   "outputs": [],
   "source": [
    "dimname <- \"TSNE\"\n",
    "\n",
    "fig(width = 16, height = 9)\n",
    "as.data.frame(reducedDim(cdScAnnot, dimname)) %>% `colnames<-`(c(\"V1\",\"V2\")) %>%\n",
    "    bind_cols(as_tibble(t(logcounts(cdScAnnot[df$gene,])))) %>%\n",
    "    gather(., key = \"Symbol\", value = \"Expression\", -c(V1, V2) ) %>% \n",
    "    mutate_at(vars(Symbol), factor) %>% mutate(Symbol = factor(Symbol, levels = df$gene)) %>% \n",
    "    ggplot(aes(x = V1, y = V2, color = Expression)) + geom_point(size = 0.3, alpha = 0.3) + \n",
    "    facet_wrap(~ Symbol, ncol = 5, \n",
    "               labeller = as_labeller(function(x) paste0(df$cluster,\": \", x))) + # add cluster id\n",
    "    scale_color_viridis(option = \"plasma\", direction = -1) +\n",
    "    theme_classic(base_size = 16) + labs(x = paste(dimname, \"1\"), y = paste(dimname, \"2\"))\n",
    "reset.fig()"
   ]
  },
  {
   "cell_type": "markdown",
   "metadata": {},
   "source": [
    "# 11 - Functional analysis using `enrichR`\n",
    "\n",
    "## Enriched pathways\n",
    "\n",
    "We use the `enrichR` package to access the [Enrichr](https://maayanlab.cloud/Enrichr/) website to perform gene set enrichment analysis.\n",
    "\n",
    "### Set up `enrichR`\n",
    "\n",
    "All the available gene-set libraries are listed in `dbs`"
   ]
  },
  {
   "cell_type": "code",
   "execution_count": null,
   "metadata": {},
   "outputs": [],
   "source": [
    "# This function generates the whole list of database for the enrichR. \n",
    "dbs <- listEnrichrDbs()\n",
    "print(paste(\"Number of available databases from Enrichr:\", nrow(dbs)))\n",
    "#head(dbs)"
   ]
  },
  {
   "cell_type": "markdown",
   "metadata": {},
   "source": [
    "Change `dbsSel` to remove or include more gene-set libraries in the enrichment analysis."
   ]
  },
  {
   "cell_type": "code",
   "execution_count": null,
   "metadata": {},
   "outputs": [],
   "source": [
    "# Human\n",
    "dbsSel <- c(\"GO_Biological_Process_2023\", # Ontologies\n",
    "#            \"GO_Molecular_Function_2023\", # Ontologies\n",
    "#            \"GO_Cellular_Component_2023\", # Ontologies\n",
    "            \"Reactome_Pathways_2024\",     # Pathways\n",
    "            \"WikiPathways_2024_Human\",    # Pathways\n",
    "            \"CellMarker_2024\")            # Cell types\n",
    "\n",
    "# Mouse\n",
    "#dbsSel <- c(\"GO_Biological_Process_2023\", # Ontologies\n",
    "#            \"GO_Molecular_Function_2023\", # Ontologies\n",
    "#            \"GO_Cellular_Component_2023\", # Ontologies\n",
    "#            \"Reactome_Pathways_2024\",     # Pathways\n",
    "#            \"WikiPathways_2024_Mouse\",    # Pathways\n",
    "#            \"CellMarker_2024\")            # Cell types"
   ]
  },
  {
   "cell_type": "markdown",
   "metadata": {},
   "source": [
    "### Run enrichR\n",
    "\n",
    "**On upregulated 'Cluster' marker genes (from `findMarkers`)**"
   ]
  },
  {
   "cell_type": "code",
   "execution_count": null,
   "metadata": {},
   "outputs": [],
   "source": [
    "input <- metadata(cdScAnnot)[['findMarkers_Cluster_up']]\n",
    "metadata(cdScAnnot)[['enrichR_findMarkers_Cluster_up']] <- runEnrichR(input, dbs = dbsSel, direction = \"up\", \n",
    "                                                                      column_by = \"Symbol\")"
   ]
  },
  {
   "cell_type": "markdown",
   "metadata": {},
   "source": [
    "### Plot enrichR results\n",
    "\n",
    "Using `GO_Biological_Process_2023` as example.\n",
    "\n",
    "**On upregulated 'Cluster' marker genes**"
   ]
  },
  {
   "cell_type": "code",
   "execution_count": null,
   "metadata": {},
   "outputs": [],
   "source": [
    "fig(width = 16, height = 5)\n",
    "plotEnrichR(metadata(cdScAnnot)[['enrichR_findMarkers_Cluster_up']], db = \"GO_Biological_Process_2023\")\n",
    "reset.fig()"
   ]
  },
  {
   "cell_type": "markdown",
   "metadata": {},
   "source": [
    "### Print enrichR results to files\n",
    "\n",
    "#### Create a sub-folder `Enrichr` to store enrichR results"
   ]
  },
  {
   "cell_type": "code",
   "execution_count": null,
   "metadata": {},
   "outputs": [],
   "source": [
    "dir.create(file.path(\"Enrichr\"), showWarnings = FALSE)"
   ]
  },
  {
   "cell_type": "markdown",
   "metadata": {},
   "source": [
    "**On upregulated 'Cluster' marker genes**"
   ]
  },
  {
   "cell_type": "code",
   "execution_count": null,
   "metadata": {},
   "outputs": [],
   "source": [
    "printEnrichR(metadata(cdScAnnot)[[\"enrichR_findMarkers_Cluster_up\"]], \n",
    "             prefix = file.path(\"Enrichr\", paste0(file_id, \"_findMarkers_upregulated\")))"
   ]
  },
  {
   "cell_type": "markdown",
   "metadata": {},
   "source": [
    "## Ingenuity Pathway Analysis (IPA)\n",
    "\n",
    "Here we generate a file that can be imported directly into IPA for downstream analysis."
   ]
  },
  {
   "cell_type": "markdown",
   "metadata": {},
   "source": [
    "### Concatenate `findMarkers` 'Cluster' marker gene results"
   ]
  },
  {
   "cell_type": "code",
   "execution_count": null,
   "metadata": {},
   "outputs": [],
   "source": [
    "exportResList(metadata(cdScAnnot)[['findMarkers_Cluster']], concatenate = TRUE, col_anno = c(\"ID\",\"Symbol\"), \n",
    "              prefix = file_id)"
   ]
  },
  {
   "cell_type": "markdown",
   "metadata": {},
   "source": [
    "# 12 - Doublet detection\n",
    "\n",
    "In single-cell RNA sequencing (scRNA-seq) experiments, doublets are artifactual libraries generated from two cells. They typically arise due to errors in cell sorting or capture, especially in droplet-based protocols involving thousands of cells. Doublets are obviously undesirable when the aim is to characterize populations at the single-cell level. In particular, doublets can be mistaken for intermediate populations or transitory states that do not actually exist. Thus, it is desirable to identify and remove doublet libraries so that they do not compromise interpretation of the results. See [OSCA reference](https://bioconductor.org/books/3.20/OSCA.advanced/doublet-detection.html#doublet-detection)\n",
    "\n",
    "## Doublet detection by simulation\n",
    "\n",
    "The `computeDoubletDensity()` function from the `scDblFinder` package performs *in silico* simulation of doublets from the single-cell expression profiles by:\n",
    "\n",
    "1. Simulate thousands of doublets by adding together two randomly chosen single-cell profiles.\n",
    "2. For each original cell, compute the density of simulated doublets in the surrounding neighborhood.\n",
    "3. For each original cell, compute the density of other observed cells in the neighborhood.\n",
    "4. Return the ratio between the two densities as a “doublet score” for each cell."
   ]
  },
  {
   "cell_type": "code",
   "execution_count": null,
   "metadata": {},
   "outputs": [],
   "source": [
    "set.seed(12345)\n",
    "# Use counts from cdScAnnot\n",
    "dbl.dens <- scDblFinder::computeDoubletDensity(annot_c, size.factors.norm = sizeFactors(cdScAnnot), \n",
    "                                               subset.row = hvg_genes)\n",
    "summary(dbl.dens)\n",
    "\n",
    "# Save detection results to metadata\n",
    "metadata(cdScAnnot)[['DoubletDensity']] <- setNames(dbl.dens, colnames(cdScAnnot))"
   ]
  },
  {
   "cell_type": "code",
   "execution_count": null,
   "metadata": {},
   "outputs": [],
   "source": [
    "fig(width = 16, height = 6)\n",
    "plyr::ldply(split(log1p(dbl.dens), cdScAnnot$label), cbind, .id = c(\"Cluster\")) %>% \n",
    "    rename_at(2, ~ \"dbl\") %>% ggplot(aes(Cluster, dbl, color = Cluster)) + \n",
    "    geom_violin(linewidth = 1, width = 1) +\n",
    "    geom_boxplot(size = 0.5, width = 0.1, color = \"black\") + guides(color = guide_legend(ncol = 1)) +\n",
    "    scale_color_manual(values = c_clust_col) + theme_cowplot(20) + ylab(\"log Score\")\n",
    "reset.fig()"
   ]
  },
  {
   "cell_type": "code",
   "execution_count": null,
   "metadata": {},
   "outputs": [],
   "source": [
    "fig(width = 16, height = 7)\n",
    "plotProjections(cdScAnnot, log1p(dbl.dens), dimnames = c(\"TSNE\", \"UMAP\"), \n",
    "                feat_desc = \"Doublet Score (log1p)\", feat_color = plasma(256, direction = -1), \n",
    "                text_by = \"label\")\n",
    "reset.fig()"
   ]
  },
  {
   "cell_type": "markdown",
   "metadata": {},
   "source": [
    "If cells with high scores are clustered in one or more clusters, we can choose to show the N `Top` upregulated marker genes from the selected cluster(s) to check if there are suspicious expression of marker genes."
   ]
  },
  {
   "cell_type": "code",
   "execution_count": null,
   "metadata": {},
   "outputs": [],
   "source": [
    "chosen.doublet <- c(7, 14)\n",
    "nTop <- 25\n",
    "\n",
    "fig(width = 16, height = 7)\n",
    "for(ID in chosen.doublet) {\n",
    "    dbl.markers <- marker.genes.cluster.up[[ID]]\n",
    "    chosen <- rownames(dbl.markers)[dbl.markers$Top <= nTop]\n",
    "    title <- paste0(\"Cluster: \", ID)\n",
    "\n",
    "    p1 <- plotGroupedHeatmap(cdScAnnot, features = chosen, group = \"label\", clustering_method = \"ward.D2\", \n",
    "                             border_color = \"black\", color = c_heatmap_col1, fontsize = 11, angle_col = 0,\n",
    "                             main = paste(title, \"Unscaled\"), silent = T)\n",
    "\n",
    "    p2 <- plotGroupedHeatmap(cdScAnnot, features = chosen, group = \"label\", clustering_method = \"ward.D2\", \n",
    "                             border_color = \"black\", color = c_heatmap_col2, fontsize = 11, angle_col = 0,\n",
    "                             center = TRUE, scale = TRUE, zlim = c(-3, 3),\n",
    "                             main = paste(title, \"Row-scaled\"), silent = T)\n",
    "\n",
    "    print(plot_grid(p1$gtable, p2$gtable, ncol = 2, align = \"h\"))\n",
    "}\n",
    "reset.fig()"
   ]
  },
  {
   "cell_type": "markdown",
   "metadata": {},
   "source": [
    "# Save `runInfo` to `metadata`\n",
    "\n",
    "<div class=\"alert alert-info\">\n",
    "    <strong>Tip!</strong> In the accompanied Shiny App, the Run Information will be displayed under the <u>Overview</u>.\n",
    "</div>"
   ]
  },
  {
   "cell_type": "code",
   "execution_count": null,
   "metadata": {},
   "outputs": [],
   "source": [
    "metadata(cdScAnnot)[['runInfo']] <- runInfo\n",
    "cdScAnnot"
   ]
  },
  {
   "cell_type": "markdown",
   "metadata": {},
   "source": [
    "# Save objects"
   ]
  },
  {
   "cell_type": "code",
   "execution_count": null,
   "metadata": {},
   "outputs": [],
   "source": [
    "# Remove unwanted information stored in the SingleCellExperiment before saving the object\n",
    "# For example, this removed \"PCA\" from the reducedDims slot\n",
    "# reducedDim(cdScAnnot, \"PCA\") <- NULL"
   ]
  },
  {
   "cell_type": "code",
   "execution_count": null,
   "metadata": {},
   "outputs": [],
   "source": [
    "# For HDF5-based SummarizedExperiment object\n",
    "HDF5Array::saveHDF5SummarizedExperiment(cdScAnnot, dir = paste0(sample_name, \"_h5_sce\"), replace = TRUE, verbose = FALSE)\n",
    "\n",
    "# Print file size\n",
    "paste(\"Folder:\", paste0(sample_name, \"_h5_sce\"))\n",
    "paste(\"Size:\", utils:::format.object_size(file.info(paste0(sample_name, \"_h5_sce\", \"/assays.h5\"))$size + \n",
    "                                          file.info(paste0(sample_name, \"_h5_sce\", \"/se.rds\"))$size, \"auto\"))"
   ]
  },
  {
   "cell_type": "markdown",
   "metadata": {},
   "source": [
    "# Session Info"
   ]
  },
  {
   "cell_type": "code",
   "execution_count": null,
   "metadata": {},
   "outputs": [],
   "source": [
    "writeLines(capture.output(sessionInfo()), \"sessionInfo.txt\")\n",
    "sessionInfo()"
   ]
  },
  {
   "cell_type": "markdown",
   "metadata": {},
   "source": [
    "# References\n",
    "\n",
    "1. Lun ATL, McCarthy DJ and Marioni JC. A step-by-step workflow for low-level analysis of single-cell RNA-seq data with Bioconductor. F1000Research (2016) 5:2122 (https://doi.org/10.12688/f1000research.9501.2)\n",
    "2. Luecke MD and Theis FJ, Current best practices in single‐cell RNA‐seq analysis: a tutorial, Mol Syst Biol (2019) 15:e8746 https://doi.org/10.15252/msb.20188746)\n",
    "3. Amezquita R, Lun ATL, Hicks S and Gottardo R. Orchestrating Single-Cell Analysis with Bioconductor. Version: 1.16.0; Compiled: 2024-10-30. (http://bioconductor.org/books/release/OSCA/)\n",
    "4. Lun ATL. Aaron's single-cell thoughts (https://ltla.github.io/SingleCellThoughts/)\n",
    "5. University of Cambridge Bioinformatics Training Unit. Analysis of single cell RNA-seq data. Compiled: 2022-08-08. (https://scrnaseq-course.cog.sanger.ac.uk/website/index.html)\n",
    "6. Harvard Chan Bioinformatics Core. Introduction to Single-cell RNA-seq. (https://hbctraining.github.io/scRNA-seq/schedule/)"
   ]
  }
 ],
 "metadata": {
  "kernelspec": {
   "display_name": "R [conda env:github_sc] *",
   "language": "R",
   "name": "conda-env-github_sc-r"
  },
  "language_info": {
   "codemirror_mode": "r",
   "file_extension": ".r",
   "mimetype": "text/x-r-source",
   "name": "R",
   "pygments_lexer": "r",
   "version": "4.4.3"
  }
 },
 "nbformat": 4,
 "nbformat_minor": 2
}
